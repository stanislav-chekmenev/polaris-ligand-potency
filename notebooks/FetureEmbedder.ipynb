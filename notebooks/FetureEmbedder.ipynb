{
 "cells": [
  {
   "cell_type": "code",
   "execution_count": 1,
   "metadata": {},
   "outputs": [],
   "source": [
    "import config as cfg\n",
    "import torch.nn as nn\n",
    "from torch_geometric.nn import MLP\n",
    "from torch_geometric.loader import DataLoader\n",
    "from data.moldataset import MolDataset \n",
    "import torch"
   ]
  },
  {
   "cell_type": "code",
   "execution_count": 3,
   "metadata": {},
   "outputs": [
    {
     "data": {
      "text/plain": [
       "Data(x=[22752, 24], edge_index=[2, 50672], edge_attr=[50672, 8], y=[1648], pos=[22764, 10, 3], atoms=[22752], u=[824, 790])"
      ]
     },
     "execution_count": 3,
     "metadata": {},
     "output_type": "execute_result"
    }
   ],
   "source": [
    "train_data = MolDataset(root=cfg.TRAIN_DIR)\n",
    "train_data.data"
   ]
  },
  {
   "cell_type": "code",
   "execution_count": 4,
   "metadata": {},
   "outputs": [],
   "source": [
    "trian_loader = DataLoader(train_data, batch_size=cfg.BATCH_SIZE, shuffle=True, num_workers=cfg.NUM_WORKERS)"
   ]
  },
  {
   "cell_type": "code",
   "execution_count": 5,
   "metadata": {},
   "outputs": [
    {
     "data": {
      "text/plain": [
       "DataBatch(x=[52, 24], edge_index=[2, 116], edge_attr=[116, 8], y=[4], pos=[52, 10, 3], atoms=[52], u=[2, 790], batch=[52], ptr=[3])"
      ]
     },
     "execution_count": 5,
     "metadata": {},
     "output_type": "execute_result"
    }
   ],
   "source": [
    "batch = next(iter(trian_loader))\n",
    "batch\n"
   ]
  },
  {
   "cell_type": "markdown",
   "metadata": {},
   "source": []
  },
  {
   "cell_type": "code",
   "execution_count": 6,
   "metadata": {},
   "outputs": [
    {
     "data": {
      "text/plain": [
       "52"
      ]
     },
     "execution_count": 6,
     "metadata": {},
     "output_type": "execute_result"
    }
   ],
   "source": [
    "f= nn.Flatten(start_dim=0, end_dim=-1)\n",
    "f(batch.x).size(), batch.x.size()\n",
    "len(batch.x)"
   ]
  },
  {
   "cell_type": "code",
   "execution_count": 12,
   "metadata": {},
   "outputs": [],
   "source": [
    "\n",
    "class FeatureEmbedder(nn.Module):\n",
    "    \"\"\"_summary_\n",
    "    \"\"\"\n",
    "    \n",
    "    def __init__(\n",
    "                self, input_mol_emb_dim=cfg.IN_MOL_DIM, input_node_emb_dim=cfg.NODE_DIM,\n",
    "                out_emb_dim=cfg.OUT_EMB_DIM, **kwargs\n",
    "                ):\n",
    "        super(FeatureEmbedder, self).__init__()\n",
    "        self.flatten = nn.Flatten(0, -1)\n",
    "        self.mlp_u_emb = MLP(\n",
    "            in_channels=input_mol_emb_dim,\n",
    "            hidden_channels=128,\n",
    "            out_channels=out_emb_dim,\n",
    "            num_layers=3,\n",
    "            act=torch.nn.SiLU(),\n",
    "            norm='LayerNorm'\n",
    "            )\n",
    "                \n",
    "        self.mlp_x_emb = MLP(\n",
    "            in_channels=input_node_emb_dim,\n",
    "            hidden_channels=128,\n",
    "            out_channels=out_emb_dim,\n",
    "            num_layers=3,\n",
    "            act=torch.nn.SiLU(),\n",
    "            norm='LayerNorm'\n",
    "            )\n",
    "            \n",
    "    def forward(self, batch_data):\n",
    "        \n",
    "        batch_data.u = self.mlp_u_emb(batch_data.u)\n",
    "        batch_data.x = self.mlp_x_emb(batch_data.x)\n",
    "        \n",
    "        return batch_data\n",
    "        \n",
    "        "
   ]
  },
  {
   "cell_type": "code",
   "execution_count": 13,
   "metadata": {},
   "outputs": [
    {
     "data": {
      "text/plain": [
       "FeatureEmbedder(\n",
       "  (flatten): Flatten(start_dim=0, end_dim=-1)\n",
       "  (mlp_u_emb): MLP(790, 128, 128, 64)\n",
       "  (mlp_x_emb): MLP(24, 128, 128, 64)\n",
       ")"
      ]
     },
     "execution_count": 13,
     "metadata": {},
     "output_type": "execute_result"
    }
   ],
   "source": [
    "model = FeatureEmbedder()\n",
    "model.eval()"
   ]
  },
  {
   "cell_type": "code",
   "execution_count": 14,
   "metadata": {},
   "outputs": [
    {
     "data": {
      "text/plain": [
       "DataBatch(x=[52, 64], edge_index=[2, 116], edge_attr=[116, 8], y=[4], pos=[52, 10, 3], atoms=[52], u=[2, 64], batch=[52], ptr=[3])"
      ]
     },
     "execution_count": 14,
     "metadata": {},
     "output_type": "execute_result"
    }
   ],
   "source": [
    "model(batch)"
   ]
  },
  {
   "cell_type": "code",
   "execution_count": null,
   "metadata": {},
   "outputs": [],
   "source": [
    "class FeatureEmbedder(nn.Module):\n",
    "    \"\"\"_summary_\n",
    "    \"\"\"\n",
    "    \n",
    "    def __init__(\n",
    "                self, batch_data,\n",
    "                out_emb_dim=cfg.OUT_EMB_DIM, **kwargs\n",
    "                ):\n",
    "        super(FeatureEmbedder, self).__init__()\n",
    "        self.flatten = nn.Flatten(0, -1)\n",
    "        self.batch_data = batch_data\n",
    "        self.mlp_u_emb = MLP(\n",
    "            in_channels=len(self.flatten(self.batch_data.u)),\n",
    "            hidden_channels=128,\n",
    "            out_channels=out_emb_dim,\n",
    "            num_layers=3,\n",
    "            act=torch.nn.SiLU(),\n",
    "            norm='LayerNorm'\n",
    "            )\n",
    "                \n",
    "        self.mlp_x_emb = MLP(\n",
    "            in_channels=len(self.flatten(self.batch_data.x)),\n",
    "            hidden_channels=128,\n",
    "            out_channels=out_emb_dim,\n",
    "            num_layers=3,\n",
    "            act=torch.nn.SiLU(),\n",
    "            norm='LayerNorm'\n",
    "            )\n",
    "            \n",
    "    def forward(self):\n",
    "        \n",
    "        u = self.flatten(self.batch_data.u)\n",
    "        u = self.mlp_u_emb(u)\n",
    "        self.batch_data.u = u\n",
    "        \n",
    "        x = self.flatten(self.batch_data.x)\n",
    "        x = self.mlp_x_emb(x)\n",
    "        self.batch_data.x = x\n",
    "        \n",
    "        return self.batch_data"
   ]
  },
  {
   "cell_type": "code",
   "execution_count": 75,
   "metadata": {},
   "outputs": [
    {
     "data": {
      "text/plain": [
       "FeatureEmbedder(\n",
       "  (flatten): Flatten(start_dim=0, end_dim=-1)\n",
       "  (mlp_u_emb): MLP(1580, 128, 128, 64)\n",
       "  (mlp_x_emb): MLP(1128, 128, 128, 64)\n",
       ")"
      ]
     },
     "execution_count": 75,
     "metadata": {},
     "output_type": "execute_result"
    }
   ],
   "source": [
    "model = FeatureEmbedder(batch)\n",
    "model.eval()"
   ]
  },
  {
   "cell_type": "code",
   "execution_count": 77,
   "metadata": {},
   "outputs": [
    {
     "name": "stdout",
     "output_type": "stream",
     "text": [
      "torch.Size([1580])\n"
     ]
    },
    {
     "data": {
      "text/plain": [
       "DataBatch(x=[64], edge_index=[2, 104], edge_attr=[104, 8], y=[4], pos=[47, 10, 3], atoms=[47], u=[64], batch=[47], ptr=[3])"
      ]
     },
     "execution_count": 77,
     "metadata": {},
     "output_type": "execute_result"
    }
   ],
   "source": [
    "model()"
   ]
  },
  {
   "cell_type": "code",
   "execution_count": null,
   "metadata": {},
   "outputs": [],
   "source": []
  }
 ],
 "metadata": {
  "kernelspec": {
   "display_name": "polaris-env",
   "language": "python",
   "name": "python3"
  },
  "language_info": {
   "codemirror_mode": {
    "name": "ipython",
    "version": 3
   },
   "file_extension": ".py",
   "mimetype": "text/x-python",
   "name": "python",
   "nbconvert_exporter": "python",
   "pygments_lexer": "ipython3",
   "version": "3.12.9"
  }
 },
 "nbformat": 4,
 "nbformat_minor": 2
}
