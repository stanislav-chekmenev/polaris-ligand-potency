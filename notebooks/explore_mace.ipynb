{
 "cells": [
  {
   "cell_type": "code",
   "execution_count": 10,
   "metadata": {},
   "outputs": [],
   "source": [
    "import sys\n",
    "sys.path.append('../')\n",
    "\n",
    "import matplotlib.pyplot as plt\n",
    "import networkx as nx\n",
    "import random\n",
    "import torch\n",
    "\n",
    "from e3nn import o3\n",
    "from torch_geometric.data import Data\n",
    "from torch_geometric.nn.pool import radius_graph\n",
    "from torch_geometric.utils import to_networkx\n",
    "\n",
    "from models.mace.layers.tfn_layer import TensorProductConvLayer\n",
    "from models import MACEModel\n",
    "from models.mace.modules.blocks import *"
   ]
  },
  {
   "cell_type": "code",
   "execution_count": 11,
   "metadata": {},
   "outputs": [],
   "source": [
    "def seed(seed=0):\n",
    "    random.seed(seed)\n",
    "    np.random.seed(seed)\n",
    "    torch.manual_seed(seed)\n",
    "    torch.cuda.manual_seed(seed)\n",
    "    torch.cuda.manual_seed_all(seed)\n",
    "    torch.backends.cudnn.deterministic = True\n",
    "    torch.backends.cudnn.benchmark = False"
   ]
  },
  {
   "cell_type": "markdown",
   "metadata": {},
   "source": [
    "# Understanding MACE: step-by-step guide.\n",
    "\n",
    "This notebook is aimed at understanding of the internal workings of MACE model introduced in the paper: [MACE: Higher Order Equivariant Message Passing Neural Networks for Fast and Accurate Force Fields](https://arxiv.org/abs/2206.07697). \n",
    "\n",
    "### Data creation\n",
    "\n",
    "Let's create a random graph on which we can apply MACE and the modules\n"
   ]
  },
  {
   "cell_type": "code",
   "execution_count": 12,
   "metadata": {},
   "outputs": [],
   "source": [
    "def create_random_graph(num_nodes=20, max_radius=1.5):\n",
    "    seed()\n",
    "    pos = torch.randn(num_nodes, 3)\n",
    "    atoms = torch.LongTensor([0] * num_nodes)\n",
    "\n",
    "    edge_src, edge_dst = radius_graph(pos, max_radius)\n",
    "    edge_vec = pos[edge_src] - pos[edge_dst]\n",
    "    edge_length = edge_vec.norm(dim=1)\n",
    "\n",
    "    data = Data(\n",
    "        atoms=atoms,\n",
    "        pos=pos,\n",
    "        edge_index=torch.stack([edge_src, edge_dst]),\n",
    "        edge_vec=edge_vec,\n",
    "        edge_length=edge_length,\n",
    "    )\n",
    "\n",
    "    return data"
   ]
  },
  {
   "cell_type": "markdown",
   "metadata": {},
   "source": [
    "Let's visualize the graph we've made"
   ]
  },
  {
   "cell_type": "code",
   "execution_count": 13,
   "metadata": {},
   "outputs": [
    {
     "ename": "NameError",
     "evalue": "name 'np' is not defined",
     "output_type": "error",
     "traceback": [
      "\u001b[0;31m---------------------------------------------------------------------------\u001b[0m",
      "\u001b[0;31mNameError\u001b[0m                                 Traceback (most recent call last)",
      "Cell \u001b[0;32mIn[13], line 2\u001b[0m\n\u001b[1;32m      1\u001b[0m \u001b[38;5;66;03m# Convert 3D positions to 2D for visualization\u001b[39;00m\n\u001b[0;32m----> 2\u001b[0m data \u001b[38;5;241m=\u001b[39m \u001b[43mcreate_random_graph\u001b[49m\u001b[43m(\u001b[49m\u001b[43m)\u001b[49m\n\u001b[1;32m      3\u001b[0m pos_2d \u001b[38;5;241m=\u001b[39m {i: (data\u001b[38;5;241m.\u001b[39mpos[i, \u001b[38;5;241m0\u001b[39m]\u001b[38;5;241m.\u001b[39mitem(), data\u001b[38;5;241m.\u001b[39mpos[i, \u001b[38;5;241m1\u001b[39m]\u001b[38;5;241m.\u001b[39mitem()) \u001b[38;5;28;01mfor\u001b[39;00m i \u001b[38;5;129;01min\u001b[39;00m \u001b[38;5;28mrange\u001b[39m(data\u001b[38;5;241m.\u001b[39mnum_nodes)}\n\u001b[1;32m      5\u001b[0m nx\u001b[38;5;241m.\u001b[39mdraw(to_networkx(data), pos\u001b[38;5;241m=\u001b[39mpos_2d, with_labels\u001b[38;5;241m=\u001b[39m\u001b[38;5;28;01mFalse\u001b[39;00m)\n",
      "Cell \u001b[0;32mIn[12], line 2\u001b[0m, in \u001b[0;36mcreate_random_graph\u001b[0;34m(num_nodes, max_radius)\u001b[0m\n\u001b[1;32m      1\u001b[0m \u001b[38;5;28;01mdef\u001b[39;00m\u001b[38;5;250m \u001b[39m\u001b[38;5;21mcreate_random_graph\u001b[39m(num_nodes\u001b[38;5;241m=\u001b[39m\u001b[38;5;241m20\u001b[39m, max_radius\u001b[38;5;241m=\u001b[39m\u001b[38;5;241m1.5\u001b[39m):\n\u001b[0;32m----> 2\u001b[0m     \u001b[43mseed\u001b[49m\u001b[43m(\u001b[49m\u001b[43m)\u001b[49m\n\u001b[1;32m      3\u001b[0m     pos \u001b[38;5;241m=\u001b[39m torch\u001b[38;5;241m.\u001b[39mrandn(num_nodes, \u001b[38;5;241m3\u001b[39m)\n\u001b[1;32m      4\u001b[0m     atoms \u001b[38;5;241m=\u001b[39m torch\u001b[38;5;241m.\u001b[39mLongTensor([\u001b[38;5;241m0\u001b[39m] \u001b[38;5;241m*\u001b[39m num_nodes)\n",
      "Cell \u001b[0;32mIn[11], line 3\u001b[0m, in \u001b[0;36mseed\u001b[0;34m(seed)\u001b[0m\n\u001b[1;32m      1\u001b[0m \u001b[38;5;28;01mdef\u001b[39;00m\u001b[38;5;250m \u001b[39m\u001b[38;5;21mseed\u001b[39m(seed\u001b[38;5;241m=\u001b[39m\u001b[38;5;241m0\u001b[39m):\n\u001b[1;32m      2\u001b[0m     random\u001b[38;5;241m.\u001b[39mseed(seed)\n\u001b[0;32m----> 3\u001b[0m     \u001b[43mnp\u001b[49m\u001b[38;5;241m.\u001b[39mrandom\u001b[38;5;241m.\u001b[39mseed(seed)\n\u001b[1;32m      4\u001b[0m     torch\u001b[38;5;241m.\u001b[39mmanual_seed(seed)\n\u001b[1;32m      5\u001b[0m     torch\u001b[38;5;241m.\u001b[39mcuda\u001b[38;5;241m.\u001b[39mmanual_seed(seed)\n",
      "\u001b[0;31mNameError\u001b[0m: name 'np' is not defined"
     ]
    }
   ],
   "source": [
    "# Convert 3D positions to 2D for visualization\n",
    "data = create_random_graph()\n",
    "pos_2d = {i: (data.pos[i, 0].item(), data.pos[i, 1].item()) for i in range(data.num_nodes)}\n",
    "\n",
    "nx.draw(to_networkx(data), pos=pos_2d, with_labels=False)\n",
    "plt.show()"
   ]
  },
  {
   "cell_type": "markdown",
   "metadata": {},
   "source": [
    "### Model definition\n"
   ]
  },
  {
   "cell_type": "code",
   "execution_count": null,
   "metadata": {},
   "outputs": [],
   "source": [
    "mace = MACEModel(\n",
    "    r_max=5,\n",
    "    num_bessel=10,\n",
    "    num_polynomial_cutoff=6,\n",
    "    max_ell=2,\n",
    "    correlation=3,\n",
    "    num_layers=5,\n",
    "    emb_dim=64,\n",
    "    hidden_irreps=None,\n",
    "    mlp_dim=256,\n",
    "    in_dim=1,\n",
    "    out_dim=1,\n",
    "    aggr=\"sum\",\n",
    "    pool=\"sum\",\n",
    "    batch_norm=True,\n",
    "    residual=True,\n",
    "    equivariant_pred=True,\n",
    ")"
   ]
  },
  {
   "cell_type": "markdown",
   "metadata": {},
   "source": [
    "\n",
    "###  MACE parameters explained\n",
    "\n",
    "- r_max: Maximum distance for Bessel basis functions (default: 10.0)\n",
    "- num_bessel: Number of Bessel basis functions (default: 8)\n",
    "- num_polynomial_cutoff: Number of polynomial cutoff basis functions (default: 5)\n",
    "- max_ell: Maximum degree of spherical harmonics basis functions (default: 2)\n",
    "- correlation: Local correlation order = body order - 1 (default: 3)\n",
    "- num_layers: Number of layers in the model (default: 5)\n",
    "- emb_dim: Scalar feature embedding dimension (default: 64)\n",
    "- hidden_irreps: Hidden irreps (default: None)\n",
    "- mlp_dim: Dimension of MLP for computing tensor product weights (default: 256)\n",
    "- in_dim: Input dimension of the model (default: 1)\n",
    "- out_dim: Output dimension of the model (default: 1)\n",
    "- aggr: Aggregation method to be used (default: \"sum\")\n",
    "- pool: Global pooling method to be used (default: \"sum\")\n",
    "- batch_norm: Whether to use batch normalization (default: True)\n",
    "- residual: Whether to use residual connections (default: True)\n",
    "- equivariant_pred: Whether it is an equivariant prediction task (default: False)\n",
    "\n",
    "Note:\n",
    "- If `hidden_irreps` is None, the irreps for the intermediate features are computed using `emb_dim` and `max_ell`.\n",
    "- The `equivariant_pred` parameter determines whether it is an equivariant prediction task. \n",
    "If set to True, equivariant prediction will be performed."
   ]
  },
  {
   "cell_type": "code",
   "execution_count": null,
   "metadata": {},
   "outputs": [
    {
     "data": {
      "text/plain": [
       "tensor([[2.0032]], grad_fn=<AddmmBackward0>)"
      ]
     },
     "execution_count": 7,
     "metadata": {},
     "output_type": "execute_result"
    }
   ],
   "source": [
    "# Test the forward pass\n",
    "mace(data)"
   ]
  },
  {
   "cell_type": "markdown",
   "metadata": {},
   "source": [
    "## MACE modules\n",
    "\n",
    "First of all, we will dive into the `__init__()`step of the model and go through each of its components in detail. This will help us understand the subsequent `forward`pass.\n",
    "\n",
    "### Initialization.\n",
    "\n",
    "Let's start with the initialization and check what's happening there. The first step creates `radial_embeddings` for the edge features, which include the fixed (possibly learnable) Bessel functions and Polynomial cutoff functions. We will check the Bessel functions first.\n",
    "\n",
    "#### Radial Bessel functions\n",
    "\n"
   ]
  },
  {
   "cell_type": "code",
   "execution_count": null,
   "metadata": {},
   "outputs": [],
   "source": [
    "# Firstly, one computes edge embedding\n",
    "\n",
    "r_max = 10\n",
    "num_bessel = 100\n",
    "num_polynomial_cutoff = 6\n",
    "\n",
    "# Create radial embeddings that depend purely on the distance between atoms\n",
    "radial_embedding = RadialEmbeddingBlock(\n",
    "    r_max=r_max,\n",
    "    num_bessel=num_bessel,\n",
    "    num_polynomial_cutoff=num_polynomial_cutoff,\n",
    ")"
   ]
  },
  {
   "cell_type": "markdown",
   "metadata": {},
   "source": [
    "The Bessel basis functions are computed according to formula $7$ from the [Directional Message Passing for Molecular Graphs](https://arxiv.org/abs/2003.03123) paper:\n",
    "\n",
    "$$\n",
    "\\tilde {e}_{RBF, n} (d) = \\sqrt\\frac{2}{c} \\frac{sin(\\frac{n\\pi}{c} d)}{d},\n",
    "$$\n",
    "\n",
    "where $c$ is the cutoff radius (r_max for us), $n$ is the number of Bessel functions and $d$ is the distance."
   ]
  },
  {
   "cell_type": "code",
   "execution_count": null,
   "metadata": {},
   "outputs": [
    {
     "name": "stdout",
     "output_type": "stream",
     "text": [
      "Bessel functions: BesselBasis(r_max=10.0, num_basis=100, trainable=False)\n"
     ]
    },
    {
     "data": {
      "image/png": "[encoded data removed]",
      "text/plain": [
       "<Figure size 640x480 with 1 Axes>"
      ]
     },
     "metadata": {},
     "output_type": "display_data"
    }
   ],
   "source": [
    "# Inspect the bessel functions of the radial embedding\n",
    "print(f\"Bessel functions: {radial_embedding.bessel_fn}\")\n",
    "\n",
    "# Plot Bessel functions\n",
    "r = torch.linspace(0, 20, 100)\n",
    "plt.plot(r, radial_embedding.bessel_fn(r))\n",
    "plt.xlabel(\"r\")\n",
    "plt.ylabel(\"Bessel function\")\n",
    "plt.show()"
   ]
  },
  {
   "cell_type": "markdown",
   "metadata": {},
   "source": [
    "So we computed the Bessel radial basis functions at 100 points. The number of points should be equal to the number of the Bessel functions. This represenation allows us to encode distance, using non-linear functions. This basis is purely real-valued and orthogonal in the domain of interest. This is an effective way of regularizing the model that ensures that predictions are stable to small perturbations. More details are in the paper.\n",
    "\n",
    "**Notice how the embedding go to zero near the cutoff radius!**"
   ]
  },
  {
   "cell_type": "markdown",
   "metadata": {},
   "source": [
    "### Polynomial cutoff functions"
   ]
  },
  {
   "cell_type": "markdown",
   "metadata": {},
   "source": [
    "Those polynomial functions $u(d)$ play a role of an envelope function that transforms the Bessel functions in such a way that makes them double-differentiable with the 1st and 2nd derivatives being 0 at the cutoff distance $c$ (r_max). They implement formula $8$ from the [paper](https://arxiv.org/abs/2003.03123). \n",
    "\n",
    "$$\n",
    "u(d) = 1 - \\frac{(p+1)(p+2)}{2} d^p + p(p+2)d^{p+1} - \\frac{p(p+1)}{2} d^{p+2},\n",
    "$$\n",
    "\n",
    "where $p=6$ was chosen as a default experimentally.\n",
    "\n",
    "**NB** the actual code implementation uses a slightly modified formula, which simplifies the derivative computation and explicitly takes into account the cutoff (r_max).\n",
    "\n",
    "The modified Bessel functions will look like this:\n",
    "\n",
    "$$\n",
    "e_{RBF,n} (d) = u(d) \\tilde {e}_{RBF,n}(d) \n",
    "$$\n"
   ]
  },
  {
   "cell_type": "code",
   "execution_count": null,
   "metadata": {},
   "outputs": [
    {
     "data": {
      "image/png": "[encoded data removed]",
      "text/plain": [
       "<Figure size 640x480 with 1 Axes>"
      ]
     },
     "metadata": {},
     "output_type": "display_data"
    }
   ],
   "source": [
    "# Plot polynomial cutoff functions\n",
    "plt.plot(r, radial_embedding.cutoff_fn(r))\n",
    "plt.xlabel(\"r\")\n",
    "plt.ylabel(\"Polynomial Cutoff Function\")\n",
    "plt.title(\"Plot of Polynomial Cutoff Functions\")\n",
    "plt.show()"
   ]
  },
  {
   "cell_type": "markdown",
   "metadata": {},
   "source": [
    "Let's plot the combined radial embeddings produced by the product of the Bessel and Polynomial cutoff functions."
   ]
  },
  {
   "cell_type": "code",
   "execution_count": null,
   "metadata": {},
   "outputs": [
    {
     "data": {
      "image/png": "[encoded data removed]",
      "text/plain": [
       "<Figure size 640x480 with 1 Axes>"
      ]
     },
     "metadata": {},
     "output_type": "display_data"
    }
   ],
   "source": [
    "# Plot the radial embedding\n",
    "plt.plot(r, radial_embedding(r), label=\"Full radial embedding\")\n",
    "plt.plot(r, radial_embedding.bessel_fn(r), label=\"Bessel Basis embedding\")\n",
    "plt.xlabel(\"r\")\n",
    "plt.ylabel(\"Embedding\")\n",
    "plt.legend()\n",
    "plt.show()"
   ]
  },
  {
   "cell_type": "markdown",
   "metadata": {},
   "source": [
    "**Polynomial cutoff functions help us to have essentially zero embeddings at the distance bigger than the cutoff radius. Notice, how the full radial embedding zeros out after the cutoff and the Bessel functions based embeddings continue to be non-zero.**"
   ]
  },
  {
   "cell_type": "markdown",
   "metadata": {},
   "source": [
    "### Spherical harmonics\n",
    "\n",
    "Edge features are not only represented through its length, which is embedded via the `radial_embeddings`functions described above, but also through 3D vectors that connect 2 atoms. Those vectors are encoded with the help of [spherical harmonics](https://en.wikipedia.org/wiki/Spherical_harmonics), which can be seen as orthonormal basis functions defined on a sphere. They are complex-valued polynomials and solutions to a partial differential equation in 3D, e.g. the heat propagation equation.\n",
    "\n",
    "MACE implements them with the help of the `e3nn` package that has a module called `o3`. It's a module that contains operations that are used with the O(3)-group.\n",
    "\n",
    "Let's create the SH (spherical harmonics) functions for embedding 3D vectors."
   ]
  },
  {
   "cell_type": "code",
   "execution_count": null,
   "metadata": {},
   "outputs": [],
   "source": [
    "# Max order of the spherical harmonics\n",
    "max_ell = 2\n",
    "\n",
    "# First, we create the irreducable representations of the spherical harmonics up to an order of `max_ell`\n",
    "sh_irreps = o3.Irreps.spherical_harmonics(max_ell)\n",
    "\n",
    "# Next, we create the spherical harmonics functions that can be applied to the edge coordinates\n",
    "spherical_harmonics = o3.SphericalHarmonics(sh_irreps, normalize=True, normalization=\"component\")\n"
   ]
  },
  {
   "cell_type": "code",
   "execution_count": null,
   "metadata": {},
   "outputs": [
    {
     "name": "stdout",
     "output_type": "stream",
     "text": [
      "Dimension of spherical harmonics irreps: 9\n",
      "Number of : 3\n"
     ]
    }
   ],
   "source": [
    "print(f\"Dimension of spherical harmonics irreps: {sh_irreps.dim}\")\n",
    "print(f\"Number of : {sh_irreps.num_irreps}\")"
   ]
  },
  {
   "cell_type": "markdown",
   "metadata": {},
   "source": [
    "The irreps (irreducable representations) of spherical harmonics are given by different tensors: \n",
    "\n",
    "- for degree l=0 it is just a number and has dimension 1\n",
    "- for degree l=1 it's a vector that has 3 values, corresponding to its different orders = [-1, 0, 1] that go from -l to l with a step of 1.\n",
    "- for degree l=2 it's a vector that has 5 values, corresponding to its different orders = [-2, -1, 0, 1, 2]\n",
    "\n",
    "So that's why we have dimension = 9 and number of irreps = 3 (1 for each degree).\n",
    "\n",
    "\n",
    "In `e3nn` irreps are written as follows:"
   ]
  },
  {
   "cell_type": "code",
   "execution_count": null,
   "metadata": {},
   "outputs": [
    {
     "name": "stdout",
     "output_type": "stream",
     "text": [
      "Spherical harmonics irreps: 1x0e+1x1o+1x2e\n"
     ]
    }
   ],
   "source": [
    "print(f\"Spherical harmonics irreps: {sh_irreps}\")"
   ]
  },
  {
   "cell_type": "markdown",
   "metadata": {},
   "source": [
    "This tells us how many irreps of each degree we have. And `e`and `o` letters give us their parity: odd or even, which is important for O(3) group. More on that is given in the manual of `e3nn` package [here](https://docs.e3nn.org/en/stable/guide/irreps.html).\n",
    "\n",
    "The object `spherical harmonics` has all the info that is needed to compute the actual values. Let's compute spherical harmonics for a few edges of our graph."
   ]
  },
  {
   "cell_type": "code",
   "execution_count": null,
   "metadata": {},
   "outputs": [
    {
     "name": "stdout",
     "output_type": "stream",
     "text": [
      "Spherical harmonics of the first 5 edge vectors: \n",
      "\n",
      " tensor([[ 1.0000,  1.0847,  1.2663, -0.4690, -0.6568,  1.7732,  0.6747, -0.7667,\n",
      "         -0.6175],\n",
      "        [ 1.0000,  1.0146, -1.2064,  0.7177,  0.9402, -1.5802,  0.5091, -1.1178,\n",
      "         -0.3320],\n",
      "        [ 1.0000,  1.4092,  0.8032,  0.6075,  1.1053,  1.4612, -0.3968,  0.6299,\n",
      "         -1.0436],\n",
      "        [ 1.0000,  1.7220, -0.0950, -0.1604, -0.3565, -0.2112, -1.1079,  0.0197,\n",
      "         -1.8975],\n",
      "        [ 1.0000,  0.8810,  0.7715,  1.2762,  1.4514,  0.8775, -0.4525,  1.2711,\n",
      "          0.5503]])\n"
     ]
    }
   ],
   "source": [
    "print(f\"Spherical harmonics of the first 5 edge vectors: \\n\\n {spherical_harmonics(data.edge_vec[:5])}\")"
   ]
  },
  {
   "cell_type": "markdown",
   "metadata": {},
   "source": [
    "As we see we get 9 numbers for each edge. Those numbers are the values of the spherical harmonics of different degrees and orders. It's a way to represent a 3D coordinate, using that orthonormal basis that under further assumptios can be used to build O(3)-equivariant operations."
   ]
  },
  {
   "cell_type": "markdown",
   "metadata": {},
   "source": [
    "### Node embeddings\n",
    "\n",
    "Node embeddings are given via a simple look-up table that takes an `index`of an atom/node and generates an embedding for it. The default value is $1$, meaning that we have only $1$ atom type, which we also have in our toy data set."
   ]
  },
  {
   "cell_type": "code",
   "execution_count": null,
   "metadata": {},
   "outputs": [
    {
     "name": "stdout",
     "output_type": "stream",
     "text": [
      "First atom embedding: \n",
      "\n",
      " tensor([[-1.1274, -0.2718, -0.8836,  0.1095, -0.6212, -2.4722, -0.3185,  1.1852,\n",
      "         -1.2132, -0.0300, -1.9756,  0.3856, -0.7330,  1.5573, -1.8170, -0.1566,\n",
      "          0.8866, -0.5308, -0.1385, -1.1482, -0.5655,  0.3192,  1.8989, -0.4577,\n",
      "         -1.1856, -0.2765, -0.2578, -0.8542, -0.0831,  2.9297, -0.0637, -0.8791,\n",
      "         -0.9978, -1.7292,  0.9287,  0.4997, -0.0221,  0.0808, -0.0828,  2.8363,\n",
      "         -0.1697, -0.9571,  0.8933,  1.3312,  0.2678,  0.7790, -0.3088, -0.2121,\n",
      "          0.6075, -1.1625,  1.1183, -0.1935,  0.3115, -2.5182,  0.5080,  0.5837,\n",
      "          2.0736,  0.4273,  1.2922, -0.8266,  0.5197, -0.1899,  0.0125,  0.6635]],\n",
      "       grad_fn=<SliceBackward0>) \n",
      "\n",
      "Shape of atom embeddings: torch.Size([20, 64])\n"
     ]
    }
   ],
   "source": [
    "# Initialize an embedding layer\n",
    "emb_in = torch.nn.Embedding(num_embeddings=1, embedding_dim=64)\n",
    "\n",
    "# Run it on the atom types\n",
    "atom_emb = emb_in(data.atoms)\n",
    "print(f\"First atom embedding: \\n\\n {atom_emb[:1]} \\n\")\n",
    "print(f\"Shape of atom embeddings: {atom_emb.shape}\")"
   ]
  },
  {
   "cell_type": "markdown",
   "metadata": {},
   "source": [
    "### Computation of the hidden irreps\n",
    "\n",
    "Hidden irreps are given by None as default and they are computed, using the embedding dimension and the irreps of the spherical harmonics. "
   ]
  },
  {
   "cell_type": "code",
   "execution_count": null,
   "metadata": {},
   "outputs": [
    {
     "name": "stdout",
     "output_type": "stream",
     "text": [
      "Hidden irreps: 64x0e+64x1o+64x2e\n",
      "Number of hidden irreps: 576\n"
     ]
    }
   ],
   "source": [
    "# Compute hidden irreps\n",
    "# Note: This defaults to O(3) equivariant layers.\n",
    "\n",
    "emb_dim = 64\n",
    "hidden_irreps = (sh_irreps * emb_dim).sort()[0].simplify()\n",
    "print(f\"Hidden irreps: {hidden_irreps}\")\n",
    "print(f\"Number of hidden irreps: {hidden_irreps.dim}\")\n"
   ]
  },
  {
   "cell_type": "markdown",
   "metadata": {},
   "source": [
    "This gives us $64$ irreps of each degree of the spherical harmonics specified above, i.e.:\n",
    " - $64$ values for the irreps of degree $0$\n",
    " - $64 \\cdot 3$ values for degree $1$ \n",
    " - $64 \\cdot 5$ for degree 2."
   ]
  },
  {
   "cell_type": "markdown",
   "metadata": {},
   "source": [
    "### Stacking conv layers\n",
    "\n",
    "The next steps in the init create tensor convolutional layers. Tensor convolution is described in the paper on [Tensor field networks: Rotation- and translation-equivariant neural networks for 3D point clouds](https://arxiv.org/abs/1802.08219).\n",
    "\n",
    "The first layer converts the scalar input to the tensor one and is called `TensorProductConvLayer`. Let's have a closer look at it. This layer **is** the layer from the tensor filed networks (TFN) paper."
   ]
  },
  {
   "cell_type": "code",
   "execution_count": null,
   "metadata": {},
   "outputs": [],
   "source": [
    "mlp_dim = 256\n",
    "aggr = \"sum\"\n",
    "batch_norm = True\n",
    "\n",
    "# Create a tensor product layer\n",
    "tp_layer = TensorProductConvLayer(\n",
    "    in_irreps=o3.Irreps(f\"{emb_dim}x0e\"),\n",
    "    out_irreps=hidden_irreps,\n",
    "    sh_irreps=sh_irreps,\n",
    "    edge_feats_dim=radial_embedding.out_dim,\n",
    "    mlp_dim=mlp_dim,\n",
    "    aggr=aggr,\n",
    "    batch_norm=batch_norm,\n",
    "    gate=False,\n",
    ")"
   ]
  },
  {
   "cell_type": "markdown",
   "metadata": {},
   "source": [
    "Let's visualize the tensor product inside the layer and print some info about the irreps."
   ]
  },
  {
   "cell_type": "code",
   "execution_count": null,
   "metadata": {},
   "outputs": [
    {
     "name": "stdout",
     "output_type": "stream",
     "text": [
      "Input irreps: 64x0e\n",
      "Output irreps: 64x0e+64x1o+64x2e\n",
      "Number of output irreps: 576\n"
     ]
    },
    {
     "data": {
      "image/png": "[encoded data removed]",
      "text/plain": [
       "<Figure size 640x480 with 1 Axes>"
      ]
     },
     "metadata": {},
     "output_type": "display_data"
    }
   ],
   "source": [
    "print(f\"Input irreps: {tp_layer.in_irreps}\")\n",
    "print(f\"Output irreps: {tp_layer.out_irreps}\")\n",
    "print(f\"Number of output irreps: {tp_layer.out_irreps.dim}\")\n",
    "tp_layer.tp.visualize();"
   ]
  },
  {
   "cell_type": "code",
   "execution_count": null,
   "metadata": {},
   "outputs": [
    {
     "data": {
      "text/plain": [
       "[Instruction(i_in1=0, i_in2=0, i_out=0, connection_mode='uvw', has_weight=True, path_weight=0.125, path_shape=(64, 1, 64)),\n",
       " Instruction(i_in1=0, i_in2=1, i_out=1, connection_mode='uvw', has_weight=True, path_weight=0.21650635094610965, path_shape=(64, 1, 64)),\n",
       " Instruction(i_in1=0, i_in2=2, i_out=2, connection_mode='uvw', has_weight=True, path_weight=0.2795084971874737, path_shape=(64, 1, 64))]"
      ]
     },
     "execution_count": 80,
     "metadata": {},
     "output_type": "execute_result"
    }
   ],
   "source": [
    "tp_layer.tp.instructions"
   ]
  },
  {
   "cell_type": "code",
   "execution_count": null,
   "metadata": {},
   "outputs": [
    {
     "name": "stdout",
     "output_type": "stream",
     "text": [
      "Assertion passed: the number of weights matches the expected value.\n"
     ]
    }
   ],
   "source": [
    "assert(tp_layer.tp.weight_numel == 3*(64 * 64))\n",
    "print(\"Assertion passed: the number of weights matches the expected value.\")\n"
   ]
  },
  {
   "cell_type": "markdown",
   "metadata": {},
   "source": [
    "So the output irreps of each degree have the multiplicity of $64$. Each of those irreps for each degree is a learned linear combination\n",
    "of $64$ irreps of oder zero combined with all the other degrees and multiplicities of the spherical harmonics. This is\n",
    "what the picture shows us. For example, there are $64$ scalars of the input irreps and we can combine them in $64$ different\n",
    "ways with the single scalar irrep of the spherical harmonics. Then we can use different weights to create **ANY** number \n",
    "of such linear combinations, though in our case this number is also $64$. That's why we have $64$ linear combinations of irreps\n",
    "with $64$ different weights in each combination. This can also be seen in the instructions printed above. \n",
    "\n",
    "Those weights are learned with a separate MLP inside the `tfn_layer`, which is represented by `h` in the next formula below.\n"
   ]
  },
  {
   "cell_type": "markdown",
   "metadata": {},
   "source": [
    "This layer implements the following formula:\n",
    "\n",
    "$$\n",
    "f_i^{'} = \\sum_{j \\in N_i} f_j \\otimes  \\left[ h(\\text{Emb}(||x_{ij}||)) Y (\\frac{x_{ij}}{||x_{ij}||}) \\right]\n",
    "\n",
    "$$\n",
    "  \n",
    " \n",
    "where \n",
    "\n",
    "* $f_i, f_i^{'}$ are the nodes input and output features\n",
    "* $N_i$ is the set of neighbors of the node \n",
    "* $x_{ij}$ is the relative vector\n",
    "* $h$ is a multi layer perceptron\n",
    "* $Y$ are the spherical harmonics\n",
    "* $x \\otimes (w) y$ is a tensor product of $x$ with $y$ parametrized by some weights $w$\n",
    "\n",
    "\n",
    "Then optional gating and batch norm is applied. \n",
    "\n"
   ]
  },
  {
   "cell_type": "markdown",
   "metadata": {},
   "source": [
    "#### Steps realised in the layer's forward pass:\n",
    "\n",
    "1. Steps in the squared brackets:\n",
    "\n",
    "$$\n",
    " \\left[ h(\\text{Emb}(||x_{ij}||)) Y (\\frac{x_{ij}}{||x_{ij}||}) \\right]\n",
    "$$\n",
    "\n",
    "* The layer uses spherical harmonics computed for edges in the graph (we did it above in this notebook).\n",
    "* Then it computes some weights for those spherical harmonics, using MLP $h$ and `radial_embeddings` $\\text{Emb}(||x_{ij}||)$\n",
    "of the edges that we also discussed above. \n",
    "\n",
    "2. A tensor product is computed between the node features and the output of the precious step. The info on the tensor product \n",
    "is given in the `e3nn` tutorial [here](https://docs.e3nn.org/en/stable/api/o3/o3_tp.html).\n",
    "\n",
    "3. Then those features are aggregated accross all the nodes to construct the messages\n",
    "\n",
    "4. Optional gating and batch normalization applied. We won't cover that here, since by default it's disabled. More info is\n",
    "given in the `e3nn` tutorial [here](https://docs.e3nn.org/en/stable/api/nn/nn_gate.html)"
   ]
  },
  {
   "cell_type": "markdown",
   "metadata": {},
   "source": [
    "### Reshape & Equivariant product basis block\n",
    "\n",
    "Each tensor convolutional layer is followed by a reshape operation applied to the irreps and the consequent application of\n",
    "the Equivariant product basis block. \n",
    "\n",
    "#### Reshape operation\n",
    "\n",
    "The class `reshape_irreps` is provided to perform the reshaping. It's a `torch`module, which is initialized with give irreps\n",
    "of the class `o3.Irreps`. Let's check out how it works."
   ]
  },
  {
   "cell_type": "code",
   "execution_count": null,
   "metadata": {},
   "outputs": [
    {
     "name": "stdout",
     "output_type": "stream",
     "text": [
      "Irreps to initialize the class with: 10x0o+10x1e+10x2o\n",
      "Dimension of the irreps: 90\n",
      "Shape of t_1: torch.Size([1, 90])\n",
      "Shape of t_2: torch.Size([1, 130])\n",
      "Shape of reshaped t_1: torch.Size([1, 10, 9])\n",
      "Shape of reshaped t_2: torch.Size([1, 10, 9])\n"
     ]
    }
   ],
   "source": [
    "# EXAMPLE 1\n",
    "\n",
    "# The multiplicities must match here\n",
    "irreps_test = o3.Irreps([(10, (0, -1)), (10, (1, 1)), (10, (2, -1))])\n",
    "print(f\"Irreps to initialize the class with: {irreps_test}\")\n",
    "print(f\"Dimension of the irreps: {irreps_test.dim}\")\n",
    "\n",
    "reshape = reshape_irreps(irreps_test)\n",
    "\n",
    "t_1 = torch.arange(90).reshape(1, -1)\n",
    "t_2 = torch.arange(130).reshape(1, -1)\n",
    "print(f\"Shape of t_1: {t_1.shape}\")\n",
    "print(f\"Shape of t_2: {t_2.shape}\")\n",
    "reshaped_t_1 = reshape(t_1)\n",
    "reshaped_t_2 = reshape(t_2)\n",
    "print(f\"Shape of reshaped t_1: {reshaped_t_1.shape}\")\n",
    "print(f\"Shape of reshaped t_2: {reshaped_t_2.shape}\")"
   ]
  },
  {
   "cell_type": "code",
   "execution_count": null,
   "metadata": {},
   "outputs": [
    {
     "name": "stdout",
     "output_type": "stream",
     "text": [
      "Irreps to initialize the class with: 10x0o+10x1e+10x2o+10x3e\n",
      "Dimension of the irreps: 160\n",
      "Shape of t_1: torch.Size([1, 160])\n",
      "Shape of t_2: torch.Size([1, 230])\n",
      "Shape of reshaped t_1: torch.Size([1, 10, 16])\n",
      "Shape of reshaped t_2: torch.Size([1, 10, 16])\n"
     ]
    }
   ],
   "source": [
    "# EXAMPLE 2\n",
    "irreps_test = o3.Irreps([(10, (0, -1)), (10, (1, 1)), (10, (2, -1)), (10, (3, 1))])\n",
    "print(f\"Irreps to initialize the class with: {irreps_test}\")\n",
    "print(f\"Dimension of the irreps: {irreps_test.dim}\")\n",
    "\n",
    "reshape = reshape_irreps(irreps_test)\n",
    "\n",
    "t_1 = torch.arange(160).reshape(1, -1)\n",
    "t_2 = torch.arange(230).reshape(1, -1)\n",
    "print(f\"Shape of t_1: {t_1.shape}\")\n",
    "print(f\"Shape of t_2: {t_2.shape}\")\n",
    "reshaped_t_1 = reshape(t_1)\n",
    "reshaped_t_2 = reshape(t_2)\n",
    "print(f\"Shape of reshaped t_1: {reshaped_t_1.shape}\")\n",
    "print(f\"Shape of reshaped t_2: {reshaped_t_2.shape}\")"
   ]
  },
  {
   "cell_type": "markdown",
   "metadata": {},
   "source": [
    "So `reshape_irreps` `forward` method reshapes a given tensor to the size of [`batch`, `mul`, `d`], where:\n",
    "\n",
    "- `batch` is the batch size of the tensor. Number of atoms in our case\n",
    "- `mul` is the multiplicity of each degree of irreps that are given in the `__init__` method. **The multiplicities must \n",
    "be the same!**\n",
    "- `d` is the sum of the dimensions of each degree of the irreps given at the intialization. It is equal to $(l_{max} + 1)²$,\n",
    "where $l_{max}$ is the maximum irreps degree.\n",
    "\n",
    "The input tensor must have the dimensionality, which is bigger or equal the dimensionality of the irreps given at the initialization.\n",
    "\n",
    "The output tensor's dimensionality is fixed at [`batch`, `mul`, `d`] and if the dimensionality of the input tensor is bigger\n",
    "than `mul`* `dim` then the extra elements are simply ignored and thrown away.\n"
   ]
  },
  {
   "cell_type": "markdown",
   "metadata": {},
   "source": [
    "#### Equivariant product basis block\n",
    "\n",
    "The next element is the equivaraint product basis block. Let's dig into it.\n",
    "\n",
    "This block's forward method does the following:\n",
    "\n",
    "1. Applies the `symmetric contraction` \n",
    "2. Uses the output of the previous step and an `o3.Linear` equivariant layer to update the node features.\n",
    "3. Applies a possible batch norm.\n",
    "4. Applies a possible skip connection.  \n",
    "\n",
    "##### Symmetric contraction\n",
    "\n",
    "Symmetric contraction is the *key* operation of MACE that allows to compute higher order tensor features efficiently, \n",
    "forming their tensor products and then symmetrizing them. The algorithm is described in the \n",
    "[MACE](https://arxiv.org/abs/2206.07697) paper and corresponds to equiations $(10)$ and $(11)$. For more details, please\n",
    "refer to the paper.\n",
    "\n",
    "The core of this block is the class `Contraction`. "
   ]
  },
  {
   "cell_type": "code",
   "execution_count": 36,
   "metadata": {},
   "outputs": [],
   "source": [
    "# Exploration of Contraction class\n",
    "node_feats_irreps = o3.Irreps([(2, (0, 1)), (3, (1, -1)), (2, (3, 1))]) # input irreps for the contraction layer\n",
    "target_irreps = o3.Irreps([(3, (0, 1)), (1, (1, -1)), (4, (3, 1))]) # output irreps for the contraction layer\n",
    "correlation = 3 # the correlation order\n",
    "element_dependent = False # whether the weight matrices for message construction are computed for each atom type\n",
    "num_elements = 1 # input dimension of MACE (the number of different atoms, which is 1 in our case)\n",
    "use_sc = True # use the skip connection\n",
    "\n",
    "epbb = EquivariantProductBasisBlock(\n",
    "    node_feats_irreps=node_feats_irreps,\n",
    "    target_irreps=target_irreps,\n",
    "    correlation=correlation,\n",
    "    element_dependent=element_dependent,\n",
    "    num_elements=num_elements,\n",
    "    use_sc=use_sc,\n",
    ")\n",
    "\n",
    "contractions = epbb.symmetric_contractions.contractions\n",
    "\n",
    "epbb = EquivariantProductBasisBlock(\n",
    "    node_feats_irreps=node_feats_irreps,\n",
    "    target_irreps=target_irreps,\n",
    "    correlation=correlation,\n",
    "    element_dependent=True, # allow it to be element dependent\n",
    "    num_elements=3, # set the number of elements to 3\n",
    "    use_sc=use_sc,\n",
    ")\n",
    "\n",
    "contractions_el_dep = epbb.symmetric_contractions.contractions\n"
   ]
  },
  {
   "cell_type": "code",
   "execution_count": 37,
   "metadata": {},
   "outputs": [
    {
     "name": "stdout",
     "output_type": "stream",
     "text": [
      "Parameter containing:\n",
      "tensor([[-0.0053, -0.1965]], requires_grad=True)\n",
      "Parameter containing:\n",
      "tensor([[-0.3250,  0.1017],\n",
      "        [ 0.3368, -0.1619],\n",
      "        [ 0.8216,  0.4661]], requires_grad=True)\n",
      "Parameter containing:\n",
      "tensor([[ 0.1178, -0.2749],\n",
      "        [ 0.0148,  0.0016],\n",
      "        [-0.0394, -0.3133],\n",
      "        [-0.0052,  0.1167],\n",
      "        [-0.0234, -0.2797],\n",
      "        [-0.0477, -0.1129],\n",
      "        [ 0.0356, -0.0023],\n",
      "        [ 0.1352,  0.2156]], requires_grad=True)\n"
     ]
    }
   ],
   "source": [
    "for p in contractions[\"3x0e\"].weights.values():\n",
    "    print(p)"
   ]
  },
  {
   "cell_type": "code",
   "execution_count": 38,
   "metadata": {},
   "outputs": [
    {
     "name": "stdout",
     "output_type": "stream",
     "text": [
      "Element independent contractions: \n",
      " ModuleDict(\n",
      "  (3x0e): Contraction(\n",
      "    (weights): ParameterDict(\n",
      "        (1): Parameter containing: [torch.FloatTensor of size 1x2]\n",
      "        (2): Parameter containing: [torch.FloatTensor of size 3x2]\n",
      "        (3): Parameter containing: [torch.FloatTensor of size 8x2]\n",
      "    )\n",
      "  )\n",
      "  (1x1o): Contraction(\n",
      "    (weights): ParameterDict(\n",
      "        (1): Parameter containing: [torch.FloatTensor of size 1x2]\n",
      "        (2): Parameter containing: [torch.FloatTensor of size 2x2]\n",
      "        (3): Parameter containing: [torch.FloatTensor of size 15x2]\n",
      "    )\n",
      "  )\n",
      "  (4x3e): Contraction(\n",
      "    (weights): ParameterDict(\n",
      "        (1): Parameter containing: [torch.FloatTensor of size 1x2]\n",
      "        (2): Parameter containing: [torch.FloatTensor of size 3x2]\n",
      "        (3): Parameter containing: [torch.FloatTensor of size 22x2]\n",
      "    )\n",
      "  )\n",
      ") \n",
      "\n",
      "\n"
     ]
    }
   ],
   "source": [
    "print(f\"Element independent contractions: \\n {contractions} \\n\\n\")\n"
   ]
  },
  {
   "cell_type": "code",
   "execution_count": 30,
   "metadata": {},
   "outputs": [
    {
     "name": "stdout",
     "output_type": "stream",
     "text": [
      "Element dependent contractions: \n",
      " ModuleDict(\n",
      "  (3x0e): Contraction(\n",
      "    (weights): ParameterDict(\n",
      "        (1): Parameter containing: [torch.FloatTensor of size 3x1x2]\n",
      "        (2): Parameter containing: [torch.FloatTensor of size 3x3x2]\n",
      "    )\n",
      "  )\n",
      "  (1x1o): Contraction(\n",
      "    (weights): ParameterDict(\n",
      "        (1): Parameter containing: [torch.FloatTensor of size 3x1x2]\n",
      "        (2): Parameter containing: [torch.FloatTensor of size 3x4x2]\n",
      "    )\n",
      "  )\n",
      "  (4x2e): Contraction(\n",
      "    (weights): ParameterDict(\n",
      "        (1): Parameter containing: [torch.FloatTensor of size 3x1x2]\n",
      "        (2): Parameter containing: [torch.FloatTensor of size 3x4x2]\n",
      "    )\n",
      "  )\n",
      ")\n"
     ]
    }
   ],
   "source": [
    "print(f\"Element dependent contractions: \\n {contractions_el_dep}\")"
   ]
  },
  {
   "cell_type": "markdown",
   "metadata": {},
   "source": [
    "`Contraction` class implements all neccessara operations to contract tensors:\n",
    " - It computes generalized Clebsch-Gordan coefficients and stores them in the `U_tensor` object\n",
    " - It creates respective weight matrices for each pair of input 2-body tensor features and its corresponding CG-cooefficients\n",
    " These matrices are plotted above\n",
    " - Then it computes tensor products from equation $(11)$ that creates messages that are passed along the graph edges.\n"
   ]
  },
  {
   "cell_type": "markdown",
   "metadata": {},
   "source": [
    "#### Some observations \n",
    "\n",
    "- The input and output irreps for the contraction layer must have exactly the same degree and order, but the multiplicities\n",
    "can vary.\n",
    "- The input irreps must have the irreps of degree 0."
   ]
  }
 ],
 "metadata": {
  "kernelspec": {
   "display_name": "polaris-env",
   "language": "python",
   "name": "python3"
  },
  "language_info": {
   "codemirror_mode": {
    "name": "ipython",
    "version": 3
   },
   "file_extension": ".py",
   "mimetype": "text/x-python",
   "name": "python",
   "nbconvert_exporter": "python",
   "pygments_lexer": "ipython3",
   "version": "3.12.0"
  }
 },
 "nbformat": 4,
 "nbformat_minor": 2
}
