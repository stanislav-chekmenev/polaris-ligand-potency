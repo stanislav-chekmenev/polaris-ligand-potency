{
 "cells": [
  {
   "cell_type": "code",
   "execution_count": 38,
   "id": "edb945d3-c7f5-4e7e-b1af-f3cceb1fcba3",
   "metadata": {},
   "outputs": [],
   "source": [
    "import os\n",
    "import datamol as dm\n",
    "import logging\n",
    "import pandas as pd\n",
    "import random\n",
    "import torch\n",
    "import numpy as np\n",
    "\n",
    "from pathlib import Path\n",
    "from sklearn.ensemble import GradientBoostingRegressor\n",
    "\n",
    "\n",
    "path_train = Path(\"../data/train/raw/data.csv\")\n",
    "path_test = Path(\"../data/test/raw/data.csv\")\n",
    "train = pd.read_csv(path_train)[:4]\n",
    "test = pd.read_csv(path_test)"
   ]
  },
  {
   "cell_type": "code",
   "execution_count": 39,
   "id": "dd59709d",
   "metadata": {},
   "outputs": [],
   "source": [
    "def seed_everything(seed=42):\n",
    "    os.environ[\"PYTHONHASHSEED\"] = str(seed)\n",
    "    np.random.seed(seed)\n",
    "    random.seed(seed)\n",
    "    torch.manual_seed(seed)\n",
    "    torch.cuda.manual_seed(seed)\n",
    "    torch.backends.cudnn.deterministic = True\n",
    "    torch.backends.cudnn.benchmark = True\n",
    "    logging.info(f\"🐙 Seeding everything with: {seed}\")"
   ]
  },
  {
   "cell_type": "code",
   "execution_count": 40,
   "id": "8c122132",
   "metadata": {},
   "outputs": [
    {
     "name": "stderr",
     "output_type": "stream",
     "text": [
      "Device set to use cuda:0\n"
     ]
    }
   ],
   "source": [
    "# Use a pipeline as a high-level helper\n",
    "from transformers import pipeline\n",
    "\n",
    "pipe = pipeline(\"feature-extraction\", model=\"seyonec/ChemBERTa-zinc-base-v1\")"
   ]
  },
  {
   "cell_type": "code",
   "execution_count": 41,
   "id": "356de828",
   "metadata": {},
   "outputs": [
    {
     "data": {
      "text/html": [
       "<div>\n",
       "<style scoped>\n",
       "    .dataframe tbody tr th:only-of-type {\n",
       "        vertical-align: middle;\n",
       "    }\n",
       "\n",
       "    .dataframe tbody tr th {\n",
       "        vertical-align: top;\n",
       "    }\n",
       "\n",
       "    .dataframe thead th {\n",
       "        text-align: right;\n",
       "    }\n",
       "</style>\n",
       "<table border=\"1\" class=\"dataframe\">\n",
       "  <thead>\n",
       "    <tr style=\"text-align: right;\">\n",
       "      <th></th>\n",
       "      <th>pIC50 (MERS-CoV Mpro)</th>\n",
       "      <th>pIC50 (SARS-CoV-2 Mpro)</th>\n",
       "      <th>X</th>\n",
       "    </tr>\n",
       "  </thead>\n",
       "  <tbody>\n",
       "    <tr>\n",
       "      <th>0</th>\n",
       "      <td>4.10</td>\n",
       "      <td>5.58</td>\n",
       "      <td>O=C(CC1=CN=CC2=CC=CC=C12)N1C[C@H](F)C[C@H]1C1=...</td>\n",
       "    </tr>\n",
       "    <tr>\n",
       "      <th>1</th>\n",
       "      <td>4.50</td>\n",
       "      <td>NaN</td>\n",
       "      <td>O=C(N[C@@H]1C[C@H](O)C2=CC=CC=C21)C1=CN=CC2=CC...</td>\n",
       "    </tr>\n",
       "    <tr>\n",
       "      <th>2</th>\n",
       "      <td>6.02</td>\n",
       "      <td>7.04</td>\n",
       "      <td>O=C(CN1CC2=CC=C(Cl)C=C2[C@H](C(=O)NC2=CN=CC3=C...</td>\n",
       "    </tr>\n",
       "    <tr>\n",
       "      <th>3</th>\n",
       "      <td>NaN</td>\n",
       "      <td>4.82</td>\n",
       "      <td>O=C(CC1=CN=CC2=CC=CC=C12)N1[C@H]2CCC[C@H]1C1=C...</td>\n",
       "    </tr>\n",
       "  </tbody>\n",
       "</table>\n",
       "</div>"
      ],
      "text/plain": [
       "   pIC50 (MERS-CoV Mpro)  pIC50 (SARS-CoV-2 Mpro)  \\\n",
       "0                   4.10                     5.58   \n",
       "1                   4.50                      NaN   \n",
       "2                   6.02                     7.04   \n",
       "3                    NaN                     4.82   \n",
       "\n",
       "                                                   X  \n",
       "0  O=C(CC1=CN=CC2=CC=CC=C12)N1C[C@H](F)C[C@H]1C1=...  \n",
       "1  O=C(N[C@@H]1C[C@H](O)C2=CC=CC=C21)C1=CN=CC2=CC...  \n",
       "2  O=C(CN1CC2=CC=C(Cl)C=C2[C@H](C(=O)NC2=CN=CC3=C...  \n",
       "3  O=C(CC1=CN=CC2=CC=CC=C12)N1[C@H]2CCC[C@H]1C1=C...  "
      ]
     },
     "execution_count": 41,
     "metadata": {},
     "output_type": "execute_result"
    }
   ],
   "source": [
    "train[\"X\"] = train[\"CXSMILES\"]\n",
    "test[\"X\"] = test[\"CXSMILES\"]\n",
    "train.drop(columns=[\"CXSMILES\"], inplace=True)\n",
    "test.drop(columns=[\"CXSMILES\"], inplace=True)\n",
    "train.head()"
   ]
  },
  {
   "cell_type": "code",
   "execution_count": 42,
   "id": "84af6a40",
   "metadata": {},
   "outputs": [],
   "source": [
    "# Use ChemBERTa to featurize the SMILES strings\n",
    "X_train_dl = np.array([pipe(x)[0][0] for x in train.X])\n",
    "X_test_dl = np.array([pipe(x)[0][0] for x in test.X])\n",
    "\n",
    "y_pred_dl_train = {}\n",
    "y_pred_dl_test = {}\n",
    "\n",
    "target_cols = {\"pIC50 (SARS-CoV-2 Mpro)\", \"pIC50 (MERS-CoV Mpro)\"}\n",
    "\n",
    "# For each of the targets...\n",
    "for tgt in target_cols:\n",
    "\n",
    "    # We get the training targets\n",
    "    # Note that we need to mask out NaNs since the multi-task matrix is sparse.\n",
    "    y_true = train[tgt]\n",
    "    mask = ~np.isnan(y_true)\n",
    "\n",
    "    # We'll train a simple baseline model\n",
    "    model_dl = GradientBoostingRegressor()\n",
    "    model_dl.fit(X_train_dl[mask], y_true[mask])\n",
    "\n",
    "    # And then use that to predict the targets for both train and test sets\n",
    "    y_pred_dl_train[tgt] = model_dl.predict(X_train_dl)\n",
    "    y_pred_dl_test[tgt] = model_dl.predict(X_test_dl)"
   ]
  },
  {
   "cell_type": "code",
   "execution_count": 43,
   "id": "a2f9a6a8-388e-45ca-8b41-bfaed2a641e4",
   "metadata": {},
   "outputs": [],
   "source": [
    "# Prepare the input data. We'll use Datamol to compute the ECFP fingerprints for both the train and test columns.\n",
    "X_train = np.array([dm.to_fp(dm.to_mol(smi)) for smi in train.X])\n",
    "X_test = np.array([dm.to_fp(dm.to_mol(smi)) for smi in test.X])\n",
    "\n",
    "y_pred_train = {}\n",
    "y_pred_test = {}\n",
    "target_cols = {\"pIC50 (SARS-CoV-2 Mpro)\", \"pIC50 (MERS-CoV Mpro)\"}\n",
    "\n",
    "# For each of the targets...\n",
    "for tgt in target_cols:\n",
    "\n",
    "    # We get the training targets\n",
    "    # Note that we need to mask out NaNs since the multi-task matrix is sparse.\n",
    "    y_true = train[tgt]\n",
    "    mask = ~np.isnan(y_true)\n",
    "\n",
    "    # We'll train a simple baseline model\n",
    "    model = GradientBoostingRegressor()\n",
    "    model.fit(X_train[mask], y_true[mask])\n",
    "\n",
    "    # And then use that to predict the targets for both train and test set\n",
    "    y_pred_train[tgt] = model.predict(X_train)\n",
    "    y_pred_test[tgt] = model.predict(X_test)"
   ]
  },
  {
   "cell_type": "code",
   "execution_count": 44,
   "id": "359f6181",
   "metadata": {},
   "outputs": [],
   "source": [
    "import sys\n",
    "\n",
    "sys.path.append(\"../\")\n",
    "\n",
    "from evaluation import eval_potency\n",
    "\n",
    "targets_train = {\n",
    "    \"pIC50 (SARS-CoV-2 Mpro)\": train[\"pIC50 (SARS-CoV-2 Mpro)\"],\n",
    "    \"pIC50 (MERS-CoV Mpro)\": train[\"pIC50 (MERS-CoV Mpro)\"],\n",
    "}\n",
    "\n",
    "targets_test = {\n",
    "    \"pIC50 (SARS-CoV-2 Mpro)\": test[\"pIC50 (SARS-CoV-2 Mpro)\"],\n",
    "    \"pIC50 (MERS-CoV Mpro)\": test[\"pIC50 (MERS-CoV Mpro)\"],\n",
    "}\n",
    "\n",
    "eval_dl = eval_potency(y_pred_dl_train, targets_train)\n",
    "eval_base = eval_potency(y_pred_train, targets_train)\n",
    "eval_dl_test = eval_potency(y_pred_dl_test, targets_test)\n",
    "eval_base_test = eval_potency(y_pred_test, targets_test)"
   ]
  },
  {
   "cell_type": "code",
   "execution_count": 45,
   "id": "634efcc6",
   "metadata": {},
   "outputs": [
    {
     "name": "stdout",
     "output_type": "stream",
     "text": [
      "ChemBERTa-based-features model on train set:\n",
      "{'aggregated': {'macro_mean_absolute_error': np.float64(2.101301778682322e-05),\n",
      "                'macro_r2': np.float64(0.9999999992944921)},\n",
      " 'pIC50 (MERS-CoV Mpro)': {'kendall_tau': np.float64(1.0),\n",
      "                           'mean_absolute_error': 2.0304713816384396e-05,\n",
      "                           'r2': 0.9999999992944921},\n",
      " 'pIC50 (SARS-CoV-2 Mpro)': {'kendall_tau': np.float64(1.0),\n",
      "                             'mean_absolute_error': 2.1721321757262047e-05,\n",
      "                             'r2': 0.9999999992944921}}\n",
      "\n",
      "Baseline model on train set:\n",
      "{'aggregated': {'macro_mean_absolute_error': np.float64(2.101301778682322e-05),\n",
      "                'macro_r2': np.float64(0.9999999992944921)},\n",
      " 'pIC50 (MERS-CoV Mpro)': {'kendall_tau': np.float64(1.0),\n",
      "                           'mean_absolute_error': 2.0304713816384396e-05,\n",
      "                           'r2': 0.9999999992944921},\n",
      " 'pIC50 (SARS-CoV-2 Mpro)': {'kendall_tau': np.float64(1.0),\n",
      "                             'mean_absolute_error': 2.1721321757262047e-05,\n",
      "                             'r2': 0.9999999992944921}}\n",
      "\n",
      "ChemBERTa-based-features model on test set:\n",
      "{'aggregated': {'macro_mean_absolute_error': np.float64(0.7901431466791304),\n",
      "                'macro_r2': np.float64(-0.07393724372466126)},\n",
      " 'pIC50 (MERS-CoV Mpro)': {'kendall_tau': np.float64(0.06578282661353509),\n",
      "                           'mean_absolute_error': 0.6382738707351273,\n",
      "                           'r2': -0.02715594179008818},\n",
      " 'pIC50 (SARS-CoV-2 Mpro)': {'kendall_tau': np.float64(0.21360722387420236),\n",
      "                             'mean_absolute_error': 0.9420124226231336,\n",
      "                             'r2': -0.12071854565923434}}\n",
      "\n",
      "Baseline model on test set:\n",
      "{'aggregated': {'macro_mean_absolute_error': np.float64(0.6758957223287878),\n",
      "                'macro_r2': np.float64(-0.0267594626510817)},\n",
      " 'pIC50 (MERS-CoV Mpro)': {'kendall_tau': np.float64(0.03619405985930363),\n",
      "                           'mean_absolute_error': 0.5954454653612462,\n",
      "                           'r2': -0.2342611091804625},\n",
      " 'pIC50 (SARS-CoV-2 Mpro)': {'kendall_tau': np.float64(0.3087341327884348),\n",
      "                             'mean_absolute_error': 0.7563459792963295,\n",
      "                             'r2': 0.1807421838782991}}\n"
     ]
    }
   ],
   "source": [
    "from pprint import pprint\n",
    "\n",
    "print(\"ChemBERTa-based-features model on train set:\")\n",
    "pprint(dict(eval_dl))\n",
    "\n",
    "print(\"\\nBaseline model on train set:\")\n",
    "pprint(dict(eval_base))\n",
    "\n",
    "print(\"\\nChemBERTa-based-features model on test set:\")\n",
    "pprint(dict(eval_dl_test))\n",
    "\n",
    "print(\"\\nBaseline model on test set:\")\n",
    "pprint(dict(eval_base_test))"
   ]
  }
 ],
 "metadata": {
  "kernelspec": {
   "display_name": "polaris-env",
   "language": "python",
   "name": "python3"
  },
  "language_info": {
   "codemirror_mode": {
    "name": "ipython",
    "version": 3
   },
   "file_extension": ".py",
   "mimetype": "text/x-python",
   "name": "python",
   "nbconvert_exporter": "python",
   "pygments_lexer": "ipython3",
   "version": "3.12.9"
  }
 },
 "nbformat": 4,
 "nbformat_minor": 5
}
