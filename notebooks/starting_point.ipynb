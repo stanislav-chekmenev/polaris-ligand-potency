{
 "cells": [
  {
   "cell_type": "markdown",
   "id": "f3e51057-9432-4574-9ee5-69760ecd806d",
   "metadata": {},
   "source": [
    "# Ligand ADMET and Potency (Property Prediction)\n",
    "\n",
    "The [ADMET](https://polarishub.io/competitions/asap-discovery/antiviral-admet-2025) and [Potency](https://polarishub.io/competitions/asap-discovery/antiviral-potency-2025) Challenge of the [ASAP Discovery competition](https://polarishub.io/blog/antiviral-competition) take the shape of a property prediction task. Given the SMILES (or, to be more precise, the CXSMILES) of a molecule, you are asked to predict the numerical properties of said molecule. This is a relatively straight-forward application of ML and this notebook will quickly get you up and running!\n",
    "\n",
    "To begin with, choose one of the two challenges! The code will look the same for both. "
   ]
  },
  {
   "cell_type": "code",
   "execution_count": 1,
   "id": "c1e1f5a4-d7b4-41cc-a5fc-a657ca5fd6cf",
   "metadata": {},
   "outputs": [],
   "source": [
    "CHALLENGE = \"antiviral-potency-2025\""
   ]
  },
  {
   "cell_type": "markdown",
   "id": "2319bfb8-1fef-4294-a8f6-a225b7a95c09",
   "metadata": {},
   "source": [
    "## Load the competition\n",
    "\n",
    "Let's first load the competition from Polaris.\n",
    "\n",
    "Make sure you are logged in! If not, simply run `polaris login` and follow the instructions. "
   ]
  },
  {
   "cell_type": "code",
   "execution_count": 2,
   "id": "0a466c50-5408-4f72-840c-b467ca5f0f3f",
   "metadata": {},
   "outputs": [
    {
     "name": "stderr",
     "output_type": "stream",
     "text": [
      "/home/stas/.mamba/envs/polaris-env/lib/python3.12/site-packages/tqdm/auto.py:21: TqdmWarning: IProgress not found. Please update jupyter and ipywidgets. See https://ipywidgets.readthedocs.io/en/stable/user_install.html\n",
      "  from .autonotebook import tqdm as notebook_tqdm\n"
     ]
    },
    {
     "data": {
      "text/html": [
       "<pre style=\"white-space:pre;overflow-x:auto;line-height:normal;font-family:Menlo,'DejaVu Sans Mono',consolas,'Courier New',monospace\"><span style=\"color: #7fbfbf; text-decoration-color: #7fbfbf\">[2025-02-25 13:03:49] </span><span style=\"color: #000080; text-decoration-color: #000080\">INFO    </span> The version of Polaris that was used to create the artifact <span style=\"font-weight: bold\">(</span><span style=\"color: #008080; text-decoration-color: #008080; font-weight: bold\">0.11</span>.<span style=\"color: #008080; text-decoration-color: #008080; font-weight: bold\">0</span><span style=\"font-weight: bold\">)</span> <a href=\"file:///home/stas/.mamba/envs/polaris-env/lib/python3.12/site-packages/polaris/_artifact.py\" target=\"_blank\"><span style=\"color: #7f7f7f; text-decoration-color: #7f7f7f\">_artifact.py</span></a><span style=\"color: #7f7f7f; text-decoration-color: #7f7f7f\">:</span><a href=\"file:///home/stas/.mamba/envs/polaris-env/lib/python3.12/site-packages/polaris/_artifact.py#92\" target=\"_blank\"><span style=\"color: #7f7f7f; text-decoration-color: #7f7f7f\">92</span></a>\n",
       "<span style=\"color: #7fbfbf; text-decoration-color: #7fbfbf\">                      </span>         is different from the currently installed version of Polaris         <span style=\"color: #7f7f7f; text-decoration-color: #7f7f7f\">               </span>\n",
       "<span style=\"color: #7fbfbf; text-decoration-color: #7fbfbf\">                      </span>         <span style=\"font-weight: bold\">(</span><span style=\"color: #008080; text-decoration-color: #008080; font-weight: bold\">0.11</span>.<span style=\"color: #008080; text-decoration-color: #008080; font-weight: bold\">8</span><span style=\"font-weight: bold\">)</span>.                                                            <span style=\"color: #7f7f7f; text-decoration-color: #7f7f7f\">               </span>\n",
       "</pre>\n"
      ],
      "text/plain": [
       "\u001b[2;36m[2025-02-25 13:03:49]\u001b[0m\u001b[2;36m \u001b[0m\u001b[34mINFO    \u001b[0m The version of Polaris that was used to create the artifact \u001b[1m(\u001b[0m\u001b[1;36m0.11\u001b[0m.\u001b[1;36m0\u001b[0m\u001b[1m)\u001b[0m \u001b]8;id=360217;file:///home/stas/.mamba/envs/polaris-env/lib/python3.12/site-packages/polaris/_artifact.py\u001b\\\u001b[2m_artifact.py\u001b[0m\u001b]8;;\u001b\\\u001b[2m:\u001b[0m\u001b]8;id=444862;file:///home/stas/.mamba/envs/polaris-env/lib/python3.12/site-packages/polaris/_artifact.py#92\u001b\\\u001b[2m92\u001b[0m\u001b]8;;\u001b\\\n",
       "\u001b[2;36m                      \u001b[0m         is different from the currently installed version of Polaris         \u001b[2m               \u001b[0m\n",
       "\u001b[2;36m                      \u001b[0m         \u001b[1m(\u001b[0m\u001b[1;36m0.11\u001b[0m.\u001b[1;36m8\u001b[0m\u001b[1m)\u001b[0m.                                                            \u001b[2m               \u001b[0m\n"
      ]
     },
     "metadata": {},
     "output_type": "display_data"
    },
    {
     "data": {
      "text/html": [
       "<pre style=\"white-space:pre;overflow-x:auto;line-height:normal;font-family:Menlo,'DejaVu Sans Mono',consolas,'Courier New',monospace\"><span style=\"color: #7fbfbf; text-decoration-color: #7fbfbf\">                      </span><span style=\"color: #808000; text-decoration-color: #808000\">WARNING </span> You're loading data from a remote location. If the dataset is small     <a href=\"file:///home/stas/.mamba/envs/polaris-env/lib/python3.12/site-packages/polaris/dataset/_base.py\" target=\"_blank\"><span style=\"color: #7f7f7f; text-decoration-color: #7f7f7f\">_base.py</span></a><span style=\"color: #7f7f7f; text-decoration-color: #7f7f7f\">:</span><a href=\"file:///home/stas/.mamba/envs/polaris-env/lib/python3.12/site-packages/polaris/dataset/_base.py#181\" target=\"_blank\"><span style=\"color: #7f7f7f; text-decoration-color: #7f7f7f\">181</span></a>\n",
       "<span style=\"color: #7fbfbf; text-decoration-color: #7fbfbf\">                      </span>         enough, consider caching the dataset first using                        <span style=\"color: #7f7f7f; text-decoration-color: #7f7f7f\">            </span>\n",
       "<span style=\"color: #7fbfbf; text-decoration-color: #7fbfbf\">                      </span>         <span style=\"color: #800080; text-decoration-color: #800080; font-weight: bold\">CompetitionSpecification.cache</span><span style=\"font-weight: bold\">()</span> for more performant data access.       <span style=\"color: #7f7f7f; text-decoration-color: #7f7f7f\">            </span>\n",
       "</pre>\n"
      ],
      "text/plain": [
       "\u001b[2;36m                     \u001b[0m\u001b[2;36m \u001b[0m\u001b[33mWARNING \u001b[0m You're loading data from a remote location. If the dataset is small     \u001b]8;id=544517;file:///home/stas/.mamba/envs/polaris-env/lib/python3.12/site-packages/polaris/dataset/_base.py\u001b\\\u001b[2m_base.py\u001b[0m\u001b]8;;\u001b\\\u001b[2m:\u001b[0m\u001b]8;id=746621;file:///home/stas/.mamba/envs/polaris-env/lib/python3.12/site-packages/polaris/dataset/_base.py#181\u001b\\\u001b[2m181\u001b[0m\u001b]8;;\u001b\\\n",
       "\u001b[2;36m                      \u001b[0m         enough, consider caching the dataset first using                        \u001b[2m            \u001b[0m\n",
       "\u001b[2;36m                      \u001b[0m         \u001b[1;35mCompetitionSpecification.cache\u001b[0m\u001b[1m(\u001b[0m\u001b[1m)\u001b[0m for more performant data access.       \u001b[2m            \u001b[0m\n"
      ]
     },
     "metadata": {},
     "output_type": "display_data"
    }
   ],
   "source": [
    "import polaris as po\n",
    "\n",
    "competition = po.load_competition(f\"asap-discovery/{CHALLENGE}\")"
   ]
  },
  {
   "cell_type": "markdown",
   "id": "5478ab20-ed4b-4f7d-a5bb-3618748de65a",
   "metadata": {},
   "source": [
    "As suggested in the logs, we'll cache the dataset. Note that this is not strictly necessary, but it does speed up later steps."
   ]
  },
  {
   "cell_type": "code",
   "execution_count": 3,
   "id": "d44d7a37-2119-42cd-a7eb-41daf5687660",
   "metadata": {},
   "outputs": [
    {
     "data": {
      "text/html": [
       "<pre style=\"white-space:pre;overflow-x:auto;line-height:normal;font-family:Menlo,'DejaVu Sans Mono',consolas,'Courier New',monospace\">/home/stas/.mamba/envs/polaris-env/lib/python3.12/site-packages/rich/live.py:231: UserWarning: install \"ipywidgets\"\n",
       "for Jupyter support\n",
       "  warnings.warn('install \"ipywidgets\" for Jupyter support')\n",
       "</pre>\n"
      ],
      "text/plain": [
       "/home/stas/.mamba/envs/polaris-env/lib/python3.12/site-packages/rich/live.py:231: UserWarning: install \"ipywidgets\"\n",
       "for Jupyter support\n",
       "  warnings.warn('install \"ipywidgets\" for Jupyter support')\n"
      ]
     },
     "metadata": {},
     "output_type": "display_data"
    },
    {
     "data": {
      "text/html": [
       "<pre style=\"white-space:pre;overflow-x:auto;line-height:normal;font-family:Menlo,'DejaVu Sans Mono',consolas,'Courier New',monospace\"><span style=\"color: #7fbfbf; text-decoration-color: #7fbfbf\">[13:03:53] </span><span style=\"color: #008000; text-decoration-color: #008000\">Copying to destination </span>                                                                     <a href=\"file:///home/stas/.mamba/envs/polaris-env/lib/python3.12/site-packages/polaris/dataset/_base.py\" target=\"_blank\"><span style=\"color: #7f7f7f; text-decoration-color: #7f7f7f\">_base.py</span></a><span style=\"color: #7f7f7f; text-decoration-color: #7f7f7f\">:</span><a href=\"file:///home/stas/.mamba/envs/polaris-env/lib/python3.12/site-packages/polaris/dataset/_base.py#380\" target=\"_blank\"><span style=\"color: #7f7f7f; text-decoration-color: #7f7f7f\">380</span></a>\n",
       "<span style=\"color: #7fbfbf; text-decoration-color: #7fbfbf\">           </span><span style=\"color: #008000; text-decoration-color: #008000\">/home/stas/.cache/polaris/datasets/aa42414a-4768-4974-bfe4-2bdb9388c0de/data.zarr</span>           <span style=\"color: #7f7f7f; text-decoration-color: #7f7f7f\">            </span>\n",
       "</pre>\n"
      ],
      "text/plain": [
       "\u001b[2;36m[13:03:53]\u001b[0m\u001b[2;36m \u001b[0m\u001b[32mCopying to destination \u001b[0m                                                                     \u001b]8;id=298620;file:///home/stas/.mamba/envs/polaris-env/lib/python3.12/site-packages/polaris/dataset/_base.py\u001b\\\u001b[2m_base.py\u001b[0m\u001b]8;;\u001b\\\u001b[2m:\u001b[0m\u001b]8;id=175812;file:///home/stas/.mamba/envs/polaris-env/lib/python3.12/site-packages/polaris/dataset/_base.py#380\u001b\\\u001b[2m380\u001b[0m\u001b]8;;\u001b\\\n",
       "\u001b[2;36m           \u001b[0m\u001b[32m/home/stas/.cache/polaris/datasets/aa42414a-4768-4974-bfe4-2bdb9388c0de/\u001b[0m\u001b[32mdata.zarr\u001b[0m           \u001b[2m            \u001b[0m\n"
      ]
     },
     "metadata": {},
     "output_type": "display_data"
    },
    {
     "data": {
      "text/html": [
       "<pre style=\"white-space:pre;overflow-x:auto;line-height:normal;font-family:Menlo,'DejaVu Sans Mono',consolas,'Courier New',monospace\"><span style=\"color: #7fbfbf; text-decoration-color: #7fbfbf\">           </span><span style=\"color: #808000; text-decoration-color: #808000\">For large Zarr archives, this may take a while.</span>                                             <a href=\"file:///home/stas/.mamba/envs/polaris-env/lib/python3.12/site-packages/polaris/dataset/_base.py\" target=\"_blank\"><span style=\"color: #7f7f7f; text-decoration-color: #7f7f7f\">_base.py</span></a><span style=\"color: #7f7f7f; text-decoration-color: #7f7f7f\">:</span><a href=\"file:///home/stas/.mamba/envs/polaris-env/lib/python3.12/site-packages/polaris/dataset/_base.py#381\" target=\"_blank\"><span style=\"color: #7f7f7f; text-decoration-color: #7f7f7f\">381</span></a>\n",
       "</pre>\n"
      ],
      "text/plain": [
       "\u001b[2;36m          \u001b[0m\u001b[2;36m \u001b[0m\u001b[33mFor large Zarr archives, this may take a while.\u001b[0m                                             \u001b]8;id=178527;file:///home/stas/.mamba/envs/polaris-env/lib/python3.12/site-packages/polaris/dataset/_base.py\u001b\\\u001b[2m_base.py\u001b[0m\u001b]8;;\u001b\\\u001b[2m:\u001b[0m\u001b]8;id=56649;file:///home/stas/.mamba/envs/polaris-env/lib/python3.12/site-packages/polaris/dataset/_base.py#381\u001b\\\u001b[2m381\u001b[0m\u001b]8;;\u001b\\\n"
      ]
     },
     "metadata": {},
     "output_type": "display_data"
    },
    {
     "data": {
      "text/html": [
       "<pre style=\"white-space:pre;overflow-x:auto;line-height:normal;font-family:Menlo,'DejaVu Sans Mono',consolas,'Courier New',monospace\"><span style=\"color: #7fbfbf; text-decoration-color: #7fbfbf\">[13:03:54] </span><span style=\"color: #008000; text-decoration-color: #008000\"> Success: Copying Zarr keys</span>                                                                <a href=\"file:///home/stas/.mamba/envs/polaris-env/lib/python3.12/site-packages/polaris/utils/context.py\" target=\"_blank\"><span style=\"color: #7f7f7f; text-decoration-color: #7f7f7f\">context.py</span></a><span style=\"color: #7f7f7f; text-decoration-color: #7f7f7f\">:</span><a href=\"file:///home/stas/.mamba/envs/polaris-env/lib/python3.12/site-packages/polaris/utils/context.py#53\" target=\"_blank\"><span style=\"color: #7f7f7f; text-decoration-color: #7f7f7f\">53</span></a>\n",
       "</pre>\n"
      ],
      "text/plain": [
       "\u001b[2;36m[13:03:54]\u001b[0m\u001b[2;36m \u001b[0m\u001b[32m Success: Copying Zarr keys\u001b[0m                                                                \u001b]8;id=192881;file:///home/stas/.mamba/envs/polaris-env/lib/python3.12/site-packages/polaris/utils/context.py\u001b\\\u001b[2mcontext.py\u001b[0m\u001b]8;;\u001b\\\u001b[2m:\u001b[0m\u001b]8;id=971251;file:///home/stas/.mamba/envs/polaris-env/lib/python3.12/site-packages/polaris/utils/context.py#53\u001b\\\u001b[2m53\u001b[0m\u001b]8;;\u001b\\\n"
      ]
     },
     "metadata": {},
     "output_type": "display_data"
    },
    {
     "data": {
      "text/html": [
       "<pre style=\"white-space:pre;overflow-x:auto;line-height:normal;font-family:Menlo,'DejaVu Sans Mono',consolas,'Courier New',monospace\"><span style=\"color: #7fbfbf; text-decoration-color: #7fbfbf\">           </span><span style=\"color: #008000; text-decoration-color: #008000\"> Success: Copying Zarr archive</span>                                                             <a href=\"file:///home/stas/.mamba/envs/polaris-env/lib/python3.12/site-packages/polaris/utils/context.py\" target=\"_blank\"><span style=\"color: #7f7f7f; text-decoration-color: #7f7f7f\">context.py</span></a><span style=\"color: #7f7f7f; text-decoration-color: #7f7f7f\">:</span><a href=\"file:///home/stas/.mamba/envs/polaris-env/lib/python3.12/site-packages/polaris/utils/context.py#53\" target=\"_blank\"><span style=\"color: #7f7f7f; text-decoration-color: #7f7f7f\">53</span></a>\n",
       "</pre>\n"
      ],
      "text/plain": [
       "\u001b[2;36m          \u001b[0m\u001b[2;36m \u001b[0m\u001b[32m Success: Copying Zarr archive\u001b[0m                                                             \u001b]8;id=164664;file:///home/stas/.mamba/envs/polaris-env/lib/python3.12/site-packages/polaris/utils/context.py\u001b\\\u001b[2mcontext.py\u001b[0m\u001b]8;;\u001b\\\u001b[2m:\u001b[0m\u001b]8;id=237017;file:///home/stas/.mamba/envs/polaris-env/lib/python3.12/site-packages/polaris/utils/context.py#53\u001b\\\u001b[2m53\u001b[0m\u001b]8;;\u001b\\\n"
      ]
     },
     "metadata": {},
     "output_type": "display_data"
    },
    {
     "data": {
      "text/html": [
       "<pre style=\"white-space:pre;overflow-x:auto;line-height:normal;font-family:Menlo,'DejaVu Sans Mono',consolas,'Courier New',monospace\"></pre>\n"
      ],
      "text/plain": []
     },
     "metadata": {},
     "output_type": "display_data"
    },
    {
     "data": {
      "text/plain": [
       "'/home/stas/.cache/polaris/datasets/aa42414a-4768-4974-bfe4-2bdb9388c0de'"
      ]
     },
     "execution_count": 3,
     "metadata": {},
     "output_type": "execute_result"
    }
   ],
   "source": [
    "competition.cache()"
   ]
  },
  {
   "cell_type": "markdown",
   "id": "a2455a1a-ef57-4e04-9d0c-47553c5e8059",
   "metadata": {},
   "source": [
    "Let's get the train and test set and take a look at the data structure."
   ]
  },
  {
   "cell_type": "code",
   "execution_count": 4,
   "id": "46c34cf4-31fd-4de1-8b18-0694a2a25d29",
   "metadata": {},
   "outputs": [],
   "source": [
    "train, test = competition.get_train_test_split()"
   ]
  },
  {
   "cell_type": "code",
   "execution_count": 5,
   "id": "dfa8d6c9-7274-4a30-937a-08e7a87974ce",
   "metadata": {},
   "outputs": [
    {
     "data": {
      "text/plain": [
       "('COC[C@]1(C)C(=O)N(C2=CN=CC3=CC=CC=C23)C(=O)N1C |&1:3|',\n",
       " {'pIC50 (MERS-CoV Mpro)': 4.19, 'pIC50 (SARS-CoV-2 Mpro)': nan})"
      ]
     },
     "execution_count": 5,
     "metadata": {},
     "output_type": "execute_result"
    }
   ],
   "source": [
    "train[0]"
   ]
  },
  {
   "cell_type": "code",
   "execution_count": 6,
   "id": "ec22ca4b-395b-407f-93e6-2879a6d18004",
   "metadata": {},
   "outputs": [
    {
     "data": {
      "text/plain": [
       "'C=CC(=O)NC1=CC=CC(N(CC2=CC=CC(Cl)=C2)C(=O)CC2=CN=CC3=CC=CC=C23)=C1'"
      ]
     },
     "execution_count": 6,
     "metadata": {},
     "output_type": "execute_result"
    }
   ],
   "source": [
    "test[0]"
   ]
  },
  {
   "cell_type": "code",
   "execution_count": 7,
   "id": "8c5cf946",
   "metadata": {},
   "outputs": [
    {
     "data": {
      "text/plain": [
       "{'pIC50 (MERS-CoV Mpro)': array([4.19, 4.92, 4.73, ..., 4.22, 4.4 , 4.22]),\n",
       " 'pIC50 (SARS-CoV-2 Mpro)': array([ nan, 5.29,  nan, ...,  nan, 5.06,  nan])}"
      ]
     },
     "execution_count": 7,
     "metadata": {},
     "output_type": "execute_result"
    }
   ],
   "source": [
    "train.targets"
   ]
  },
  {
   "cell_type": "markdown",
   "id": "fa187b6a-65ad-42aa-9d9a-0c853e419cb0",
   "metadata": {},
   "source": [
    "### Raw data dump\n",
    "We've decided to sacrifice the completeness of the scientific data to improve its ease of use. For those that are interested, you can also access the raw data dump that this dataset has been created from."
   ]
  },
  {
   "cell_type": "code",
   "execution_count": null,
   "id": "e6777d4f-cded-482f-86b9-7eb988608969",
   "metadata": {},
   "outputs": [],
   "source": [
    "import fsspec\n",
    "import zipfile\n",
    "import io\n",
    "\n",
    "# Read the entire file into memory\n",
    "with fsspec.open(\"https://fs.polarishub.io/2025-01-asap-discovery/raw_data_package.zip\", block_size=0) as fd:\n",
    "    file_data = fd.read()  # Read the entire file into memory\n",
    "\n",
    "# Use BytesIO to make it seekable\n",
    "with zipfile.ZipFile(io.BytesIO(file_data), \"r\") as zip_ref:\n",
    "    zip_ref.extractall(\"./raw_data_package/\")"
   ]
  },
  {
   "cell_type": "code",
   "execution_count": 16,
   "id": "edb945d3-c7f5-4e7e-b1af-f3cceb1fcba3",
   "metadata": {},
   "outputs": [
    {
     "data": {
      "text/html": [
       "<div>\n",
       "<style scoped>\n",
       "    .dataframe tbody tr th:only-of-type {\n",
       "        vertical-align: middle;\n",
       "    }\n",
       "\n",
       "    .dataframe tbody tr th {\n",
       "        vertical-align: top;\n",
       "    }\n",
       "\n",
       "    .dataframe thead th {\n",
       "        text-align: right;\n",
       "    }\n",
       "</style>\n",
       "<table border=\"1\" class=\"dataframe\">\n",
       "  <thead>\n",
       "    <tr style=\"text-align: right;\">\n",
       "      <th></th>\n",
       "      <th>SARS-CoV-2-MPro_fluorescence-dose-response_weizmann: IC50 (µM)</th>\n",
       "      <th>SARS-CoV-2-MPro_fluorescence-dose-response_weizmann: IC50 CI (Lower) (µM)</th>\n",
       "      <th>SARS-CoV-2-MPro_fluorescence-dose-response_weizmann: IC50 CI (Upper) (µM)</th>\n",
       "      <th>SARS-CoV-2-MPro_fluorescence-dose-response_weizmann: Hill slope</th>\n",
       "      <th>SARS-CoV-2-MPro_fluorescence-dose-response_weizmann: pIC50 (log10M)</th>\n",
       "      <th>Molecule Name</th>\n",
       "      <th>CXSMILES (CDD Compatible)</th>\n",
       "      <th>Batch Created Date</th>\n",
       "    </tr>\n",
       "  </thead>\n",
       "  <tbody>\n",
       "    <tr>\n",
       "      <th>0</th>\n",
       "      <td>13.440</td>\n",
       "      <td>12.303</td>\n",
       "      <td>14.682</td>\n",
       "      <td>1.045</td>\n",
       "      <td>4.87</td>\n",
       "      <td>ASAP-0029418</td>\n",
       "      <td>O=C(CC1=CN=CC2=CC=CC=C12)N1CCC(C2=CC=NO2)CC1</td>\n",
       "      <td>2024-07-08</td>\n",
       "    </tr>\n",
       "    <tr>\n",
       "      <th>1</th>\n",
       "      <td>7.993</td>\n",
       "      <td>7.024</td>\n",
       "      <td>9.096</td>\n",
       "      <td>1.030</td>\n",
       "      <td>5.10</td>\n",
       "      <td>ASAP-0029417</td>\n",
       "      <td>O=C(CC1=CN=CC2=CC=CC=C12)N1CCC[C@H](C2=CC=CC(F...</td>\n",
       "      <td>2024-07-08</td>\n",
       "    </tr>\n",
       "    <tr>\n",
       "      <th>2</th>\n",
       "      <td>48.046</td>\n",
       "      <td>43.210</td>\n",
       "      <td>53.424</td>\n",
       "      <td>1.114</td>\n",
       "      <td>4.32</td>\n",
       "      <td>ASAP-0029414</td>\n",
       "      <td>O=C(CC1=CN=CC2=CC=CC=C12)N1CCCC[C@H]1CC(F)(F)F...</td>\n",
       "      <td>2024-07-08</td>\n",
       "    </tr>\n",
       "  </tbody>\n",
       "</table>\n",
       "</div>"
      ],
      "text/plain": [
       "  SARS-CoV-2-MPro_fluorescence-dose-response_weizmann: IC50 (µM)  \\\n",
       "0                                             13.440               \n",
       "1                                              7.993               \n",
       "2                                             48.046               \n",
       "\n",
       "   SARS-CoV-2-MPro_fluorescence-dose-response_weizmann: IC50 CI (Lower) (µM)  \\\n",
       "0                                             12.303                           \n",
       "1                                              7.024                           \n",
       "2                                             43.210                           \n",
       "\n",
       "   SARS-CoV-2-MPro_fluorescence-dose-response_weizmann: IC50 CI (Upper) (µM)  \\\n",
       "0                                             14.682                           \n",
       "1                                              9.096                           \n",
       "2                                             53.424                           \n",
       "\n",
       "   SARS-CoV-2-MPro_fluorescence-dose-response_weizmann: Hill slope  \\\n",
       "0                                              1.045                 \n",
       "1                                              1.030                 \n",
       "2                                              1.114                 \n",
       "\n",
       "  SARS-CoV-2-MPro_fluorescence-dose-response_weizmann: pIC50 (log10M)  \\\n",
       "0                                               4.87                    \n",
       "1                                               5.10                    \n",
       "2                                               4.32                    \n",
       "\n",
       "  Molecule Name                          CXSMILES (CDD Compatible)  \\\n",
       "0  ASAP-0029418       O=C(CC1=CN=CC2=CC=CC=C12)N1CCC(C2=CC=NO2)CC1   \n",
       "1  ASAP-0029417  O=C(CC1=CN=CC2=CC=CC=C12)N1CCC[C@H](C2=CC=CC(F...   \n",
       "2  ASAP-0029414  O=C(CC1=CN=CC2=CC=CC=C12)N1CCCC[C@H]1CC(F)(F)F...   \n",
       "\n",
       "  Batch Created Date  \n",
       "0         2024-07-08  \n",
       "1         2024-07-08  \n",
       "2         2024-07-08  "
      ]
     },
     "execution_count": 16,
     "metadata": {},
     "output_type": "execute_result"
    }
   ],
   "source": [
    "import pandas as pd\n",
    "from pathlib import Path\n",
    "\n",
    "subdir = \"admet\" if CHALLENGE == \"antiviral-admet-2025\" else \"potency\"\n",
    "\n",
    "path = Path(\"./raw_data_package\")\n",
    "path = path / subdir\n",
    "\n",
    "csv_files = list(path.glob(\"*.csv\"))\n",
    "pd.read_csv(csv_files[0]).head(3)"
   ]
  },
  {
   "cell_type": "markdown",
   "id": "6701ce16-bcaa-41f4-b1c9-0318c1720434",
   "metadata": {},
   "source": [
    "## Build a model\n",
    "Next, we'll train a simple baseline model using scikit-learn. \n",
    "\n",
    "You'll notice that the challenge has multiple targets."
   ]
  },
  {
   "cell_type": "code",
   "execution_count": 8,
   "id": "72014923-cf25-4ec3-87f8-00e7db0b45de",
   "metadata": {},
   "outputs": [
    {
     "data": {
      "text/plain": [
       "['pIC50 (MERS-CoV Mpro)', 'pIC50 (SARS-CoV-2 Mpro)']"
      ]
     },
     "execution_count": 8,
     "metadata": {},
     "output_type": "execute_result"
    }
   ],
   "source": [
    "train.target_cols"
   ]
  },
  {
   "cell_type": "markdown",
   "id": "ae44540f-ff75-475b-8e23-1a7d2134cdcf",
   "metadata": {},
   "source": [
    "An interesting idea would be to build a multi-task model to leverage shared information across tasks.\n",
    "\n",
    "For the sake of simplicity, however, we'll simply build a model per target here. "
   ]
  },
  {
   "cell_type": "code",
   "execution_count": 9,
   "id": "8c122132",
   "metadata": {},
   "outputs": [
    {
     "name": "stderr",
     "output_type": "stream",
     "text": [
      "Device set to use cpu\n"
     ]
    }
   ],
   "source": [
    "# Use a pipeline as a high-level helper\n",
    "from transformers import pipeline\n",
    "\n",
    "pipe = pipeline(\"feature-extraction\", model=\"seyonec/ChemBERTa-zinc-base-v1\")"
   ]
  },
  {
   "cell_type": "code",
   "execution_count": null,
   "id": "87b49ddf",
   "metadata": {},
   "outputs": [],
   "source": [
    "feats = []\n",
    "for num, (x, _) in enumerate(train):\n",
    "    try:\n",
    "        feat = pipe(x)\n",
    "        feats.append(feat[0][0])\n",
    "    except Exception as e:\n",
    "        print(f\"Error processing input {x} at index {num}: {e}\")"
   ]
  },
  {
   "cell_type": "code",
   "execution_count": null,
   "id": "84af6a40",
   "metadata": {},
   "outputs": [],
   "source": [
    "import numpy as np\n",
    "\n",
    "from sklearn.ensemble import GradientBoostingRegressor\n",
    "\n",
    "# Use ChemBERTa to featurize the SMILES strings\n",
    "X_train_dl = np.array([pipe(x)[0][0] for x in train.X])\n",
    "X_test_dl = np.array([pipe(x)[0][0] for x in test.X])\n",
    "\n",
    "y_pred_dl_test = {}\n",
    "y_pred_dl_train = {}\n",
    "\n",
    "# For each of the targets...\n",
    "for tgt in competition.target_cols:\n",
    "\n",
    "    # We get the training targets\n",
    "    # Note that we need to mask out NaNs since the multi-task matrix is sparse.\n",
    "    y_true = train.y[tgt]\n",
    "    mask = ~np.isnan(y_true)\n",
    "\n",
    "    # We'll train a simple baseline model\n",
    "    model_dl = GradientBoostingRegressor()\n",
    "    model_dl.fit(X_train_dl[mask], y_true[mask])\n",
    "\n",
    "    # And then use that to predict the targets for both train and test sets\n",
    "    y_pred_dl_train[tgt] = model_dl.predict(X_train_dl)\n",
    "    y_pred_dl_test[tgt] = model_dl.predict(X_test_dl)"
   ]
  },
  {
   "cell_type": "code",
   "execution_count": 1,
   "id": "a2f9a6a8-388e-45ca-8b41-bfaed2a641e4",
   "metadata": {},
   "outputs": [
    {
     "ename": "NameError",
     "evalue": "name 'train' is not defined",
     "output_type": "error",
     "traceback": [
      "\u001b[31m---------------------------------------------------------------------------\u001b[39m",
      "\u001b[31mNameError\u001b[39m                                 Traceback (most recent call last)",
      "\u001b[36mCell\u001b[39m\u001b[36m \u001b[39m\u001b[32mIn[1]\u001b[39m\u001b[32m, line 7\u001b[39m\n\u001b[32m      4\u001b[39m \u001b[38;5;28;01mfrom\u001b[39;00m\u001b[38;5;250m \u001b[39m\u001b[34;01msklearn\u001b[39;00m\u001b[34;01m.\u001b[39;00m\u001b[34;01mensemble\u001b[39;00m\u001b[38;5;250m \u001b[39m\u001b[38;5;28;01mimport\u001b[39;00m GradientBoostingRegressor\n\u001b[32m      6\u001b[39m \u001b[38;5;66;03m# Prepare the input data. We'll use Datamol to compute the ECFP fingerprints for both the train and test columns.\u001b[39;00m\n\u001b[32m----> \u001b[39m\u001b[32m7\u001b[39m X_train = np.array([dm.to_fp(dm.to_mol(smi)) \u001b[38;5;28;01mfor\u001b[39;00m smi \u001b[38;5;129;01min\u001b[39;00m \u001b[43mtrain\u001b[49m.X])\n\u001b[32m      8\u001b[39m X_test = np.array([dm.to_fp(dm.to_mol(smi)) \u001b[38;5;28;01mfor\u001b[39;00m smi \u001b[38;5;129;01min\u001b[39;00m test.X])\n\u001b[32m     10\u001b[39m y_pred_test = {}\n",
      "\u001b[31mNameError\u001b[39m: name 'train' is not defined"
     ]
    }
   ],
   "source": [
    "import datamol as dm\n",
    "import numpy as np\n",
    "\n",
    "from sklearn.ensemble import GradientBoostingRegressor\n",
    "\n",
    "# Prepare the input data. We'll use Datamol to compute the ECFP fingerprints for both the train and test columns.\n",
    "X_train = np.array([dm.to_fp(dm.to_mol(smi)) for smi in train.X])\n",
    "X_test = np.array([dm.to_fp(dm.to_mol(smi)) for smi in test.X])\n",
    "\n",
    "y_pred_test = {}\n",
    "y_pred_train = {}\n",
    "\n",
    "# For each of the targets...\n",
    "for tgt in competition.target_cols:\n",
    "\n",
    "    # We get the training targets\n",
    "    # Note that we need to mask out NaNs since the multi-task matrix is sparse.\n",
    "    y_true = train.y[tgt]\n",
    "    mask = ~np.isnan(y_true)\n",
    "\n",
    "    # We'll train a simple baseline model\n",
    "    model = GradientBoostingRegressor()\n",
    "    model.fit(X_train[mask], y_true[mask])\n",
    "\n",
    "    # And then use that to predict the targets for both train and test set\n",
    "    y_pred_train[tgt] = model.predict(X_train)\n",
    "    y_pred_test[tgt] = model.predict(X_test)"
   ]
  },
  {
   "cell_type": "code",
   "execution_count": 61,
   "id": "359f6181",
   "metadata": {},
   "outputs": [],
   "source": [
    "from evaluation import eval_potency\n",
    "\n",
    "eval_dl = eval_potency(y_pred_dl_train, train.y)\n",
    "eval_base = eval_potency(y_pred_train, train.y)"
   ]
  },
  {
   "cell_type": "code",
   "execution_count": 64,
   "id": "634efcc6",
   "metadata": {},
   "outputs": [
    {
     "name": "stdout",
     "output_type": "stream",
     "text": [
      "ChemBERTa-based-features model:\n",
      "{'aggregated': {'macro_mean_absolute_error': 0.3064593839816264,\n",
      "                'macro_r2': 0.8245691040584464},\n",
      " 'pIC50 (MERS-CoV Mpro)': {'kendall_tau': 0.6342071144863535,\n",
      "                           'mean_absolute_error': 0.3068769883569856,\n",
      "                           'r2': 0.7940740078713294},\n",
      " 'pIC50 (SARS-CoV-2 Mpro)': {'kendall_tau': 0.7499696539838778,\n",
      "                             'mean_absolute_error': 0.30604177960626716,\n",
      "                             'r2': 0.8550642002455634}}\n",
      "\n",
      "Baseline model:\n",
      "{'aggregated': {'macro_mean_absolute_error': 0.3679454856023733,\n",
      "                'macro_r2': 0.7456944613851981},\n",
      " 'pIC50 (MERS-CoV Mpro)': {'kendall_tau': 0.5366452225196361,\n",
      "                           'mean_absolute_error': 0.3743752757756639,\n",
      "                           'r2': 0.6910242335961272},\n",
      " 'pIC50 (SARS-CoV-2 Mpro)': {'kendall_tau': 0.6894310979197656,\n",
      "                             'mean_absolute_error': 0.36151569542908263,\n",
      "                             'r2': 0.8003646891742691}}\n"
     ]
    }
   ],
   "source": [
    "from pprint import pprint\n",
    "\n",
    "print(\"ChemBERTa-based-features model:\")\n",
    "pprint(dict(eval_dl))\n",
    "\n",
    "print(\"\\nBaseline model:\")\n",
    "pprint(dict(eval_base))"
   ]
  },
  {
   "cell_type": "markdown",
   "id": "820563e3-e372-4fdc-b038-259d24c5e0d8",
   "metadata": {},
   "source": [
    "## Submit your predictions\n",
    "Submitting your predictions to the competition is simple."
   ]
  },
  {
   "cell_type": "code",
   "execution_count": null,
   "id": "4b1f4ead-0be2-44bd-84f9-608700589229",
   "metadata": {},
   "outputs": [
    {
     "data": {
      "text/html": [
       "<pre style=\"white-space:pre;overflow-x:auto;line-height:normal;font-family:Menlo,'DejaVu Sans Mono',consolas,'Courier New',monospace\"><span style=\"color: #7fbfbf; text-decoration-color: #7fbfbf\">[13:58:07] </span><span style=\"color: #008000; text-decoration-color: #008000\"> Success: Submitting competition predictions</span>                                               <a href=\"file:///home/stas/.mamba/envs/polaris-env/lib/python3.12/site-packages/polaris/utils/context.py\" target=\"_blank\"><span style=\"color: #7f7f7f; text-decoration-color: #7f7f7f\">context.py</span></a><span style=\"color: #7f7f7f; text-decoration-color: #7f7f7f\">:</span><a href=\"file:///home/stas/.mamba/envs/polaris-env/lib/python3.12/site-packages/polaris/utils/context.py#53\" target=\"_blank\"><span style=\"color: #7f7f7f; text-decoration-color: #7f7f7f\">53</span></a>\n",
       "</pre>\n"
      ],
      "text/plain": [
       "\u001b[2;36m[13:58:07]\u001b[0m\u001b[2;36m \u001b[0m\u001b[32m Success: Submitting competition predictions\u001b[0m                                               \u001b]8;id=938257;file:///home/stas/.mamba/envs/polaris-env/lib/python3.12/site-packages/polaris/utils/context.py\u001b\\\u001b[2mcontext.py\u001b[0m\u001b]8;;\u001b\\\u001b[2m:\u001b[0m\u001b]8;id=408372;file:///home/stas/.mamba/envs/polaris-env/lib/python3.12/site-packages/polaris/utils/context.py#53\u001b\\\u001b[2m53\u001b[0m\u001b]8;;\u001b\\\n"
      ]
     },
     "metadata": {},
     "output_type": "display_data"
    },
    {
     "data": {
      "text/html": [
       "<pre style=\"white-space:pre;overflow-x:auto;line-height:normal;font-family:Menlo,'DejaVu Sans Mono',consolas,'Courier New',monospace\"></pre>\n"
      ],
      "text/plain": []
     },
     "metadata": {},
     "output_type": "display_data"
    }
   ],
   "source": [
    "competition.submit_predictions(\n",
    "    predictions=y_pred_dl_test,\n",
    "    prediction_name=\"ChemBERTa-based-features\",\n",
    "    prediction_owner=\"stanislav-chekmenev\",\n",
    "    report_url=\"https://www.example.com\",\n",
    "    # The below metadata is optional, but recommended.\n",
    "    github_url=\"https://github.com/polaris-hub/polaris\",\n",
    "    description=\"Adding ChemBERTa-based features to a simple Gradient Boosting model\",\n",
    "    tags=[\"tutorial\", \"Potency\"],\n",
    "    user_attributes={\n",
    "        \"Framework\": \"Scikit-learn\",\n",
    "        \"Method\": \"Gradient Boosting\",\n",
    "        \"Experiment\": \"ChemBERTa-based features\",\n",
    "    },\n",
    ")"
   ]
  }
 ],
 "metadata": {
  "kernelspec": {
   "display_name": "polaris-env",
   "language": "python",
   "name": "python3"
  },
  "language_info": {
   "codemirror_mode": {
    "name": "ipython",
    "version": 3
   },
   "file_extension": ".py",
   "mimetype": "text/x-python",
   "name": "python",
   "nbconvert_exporter": "python",
   "pygments_lexer": "ipython3",
   "version": "3.12.9"
  }
 },
 "nbformat": 4,
 "nbformat_minor": 5
}
