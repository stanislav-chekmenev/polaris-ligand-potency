{
 "cells": [
  {
   "cell_type": "code",
   "execution_count": 3,
   "metadata": {},
   "outputs": [],
   "source": [
    "import datamol as dm\n",
    "import polaris as po\n",
    "\n",
    "from time import time"
   ]
  },
  {
   "cell_type": "markdown",
   "metadata": {},
   "source": [
    "# SMILES to 3D representations of molecules\n",
    "\n",
    "Let's find out how to go from SMILES to 3D, using `datamol`package. Then run some timing tests"
   ]
  },
  {
   "cell_type": "code",
   "execution_count": 4,
   "metadata": {},
   "outputs": [
    {
     "data": {
      "text/html": [
       "<pre style=\"white-space:pre;overflow-x:auto;line-height:normal;font-family:Menlo,'DejaVu Sans Mono',consolas,'Courier New',monospace\"><span style=\"color: #7fbfbf; text-decoration-color: #7fbfbf\">[2025-02-25 16:12:43] </span><span style=\"color: #000080; text-decoration-color: #000080\">INFO    </span> The version of Polaris that was used to create the artifact <span style=\"font-weight: bold\">(</span><span style=\"color: #008080; text-decoration-color: #008080; font-weight: bold\">0.11</span>.<span style=\"color: #008080; text-decoration-color: #008080; font-weight: bold\">0</span><span style=\"font-weight: bold\">)</span> <a href=\"file:///home/stas/.mamba/envs/polaris-env/lib/python3.12/site-packages/polaris/_artifact.py\" target=\"_blank\"><span style=\"color: #7f7f7f; text-decoration-color: #7f7f7f\">_artifact.py</span></a><span style=\"color: #7f7f7f; text-decoration-color: #7f7f7f\">:</span><a href=\"file:///home/stas/.mamba/envs/polaris-env/lib/python3.12/site-packages/polaris/_artifact.py#92\" target=\"_blank\"><span style=\"color: #7f7f7f; text-decoration-color: #7f7f7f\">92</span></a>\n",
       "<span style=\"color: #7fbfbf; text-decoration-color: #7fbfbf\">                      </span>         is different from the currently installed version of Polaris         <span style=\"color: #7f7f7f; text-decoration-color: #7f7f7f\">               </span>\n",
       "<span style=\"color: #7fbfbf; text-decoration-color: #7fbfbf\">                      </span>         <span style=\"font-weight: bold\">(</span><span style=\"color: #008080; text-decoration-color: #008080; font-weight: bold\">0.11</span>.<span style=\"color: #008080; text-decoration-color: #008080; font-weight: bold\">8</span><span style=\"font-weight: bold\">)</span>.                                                            <span style=\"color: #7f7f7f; text-decoration-color: #7f7f7f\">               </span>\n",
       "</pre>\n"
      ],
      "text/plain": [
       "\u001b[2;36m[2025-02-25 16:12:43]\u001b[0m\u001b[2;36m \u001b[0m\u001b[34mINFO    \u001b[0m The version of Polaris that was used to create the artifact \u001b[1m(\u001b[0m\u001b[1;36m0.11\u001b[0m.\u001b[1;36m0\u001b[0m\u001b[1m)\u001b[0m \u001b]8;id=625181;file:///home/stas/.mamba/envs/polaris-env/lib/python3.12/site-packages/polaris/_artifact.py\u001b\\\u001b[2m_artifact.py\u001b[0m\u001b]8;;\u001b\\\u001b[2m:\u001b[0m\u001b]8;id=630741;file:///home/stas/.mamba/envs/polaris-env/lib/python3.12/site-packages/polaris/_artifact.py#92\u001b\\\u001b[2m92\u001b[0m\u001b]8;;\u001b\\\n",
       "\u001b[2;36m                      \u001b[0m         is different from the currently installed version of Polaris         \u001b[2m               \u001b[0m\n",
       "\u001b[2;36m                      \u001b[0m         \u001b[1m(\u001b[0m\u001b[1;36m0.11\u001b[0m.\u001b[1;36m8\u001b[0m\u001b[1m)\u001b[0m.                                                            \u001b[2m               \u001b[0m\n"
      ]
     },
     "metadata": {},
     "output_type": "display_data"
    },
    {
     "data": {
      "text/html": [
       "<pre style=\"white-space:pre;overflow-x:auto;line-height:normal;font-family:Menlo,'DejaVu Sans Mono',consolas,'Courier New',monospace\"><span style=\"color: #7fbfbf; text-decoration-color: #7fbfbf\">                      </span><span style=\"color: #808000; text-decoration-color: #808000\">WARNING </span> You're loading data from a remote location. If the dataset is small     <a href=\"file:///home/stas/.mamba/envs/polaris-env/lib/python3.12/site-packages/polaris/dataset/_base.py\" target=\"_blank\"><span style=\"color: #7f7f7f; text-decoration-color: #7f7f7f\">_base.py</span></a><span style=\"color: #7f7f7f; text-decoration-color: #7f7f7f\">:</span><a href=\"file:///home/stas/.mamba/envs/polaris-env/lib/python3.12/site-packages/polaris/dataset/_base.py#181\" target=\"_blank\"><span style=\"color: #7f7f7f; text-decoration-color: #7f7f7f\">181</span></a>\n",
       "<span style=\"color: #7fbfbf; text-decoration-color: #7fbfbf\">                      </span>         enough, consider caching the dataset first using                        <span style=\"color: #7f7f7f; text-decoration-color: #7f7f7f\">            </span>\n",
       "<span style=\"color: #7fbfbf; text-decoration-color: #7fbfbf\">                      </span>         <span style=\"color: #800080; text-decoration-color: #800080; font-weight: bold\">CompetitionSpecification.cache</span><span style=\"font-weight: bold\">()</span> for more performant data access.       <span style=\"color: #7f7f7f; text-decoration-color: #7f7f7f\">            </span>\n",
       "</pre>\n"
      ],
      "text/plain": [
       "\u001b[2;36m                     \u001b[0m\u001b[2;36m \u001b[0m\u001b[33mWARNING \u001b[0m You're loading data from a remote location. If the dataset is small     \u001b]8;id=859966;file:///home/stas/.mamba/envs/polaris-env/lib/python3.12/site-packages/polaris/dataset/_base.py\u001b\\\u001b[2m_base.py\u001b[0m\u001b]8;;\u001b\\\u001b[2m:\u001b[0m\u001b]8;id=85873;file:///home/stas/.mamba/envs/polaris-env/lib/python3.12/site-packages/polaris/dataset/_base.py#181\u001b\\\u001b[2m181\u001b[0m\u001b]8;;\u001b\\\n",
       "\u001b[2;36m                      \u001b[0m         enough, consider caching the dataset first using                        \u001b[2m            \u001b[0m\n",
       "\u001b[2;36m                      \u001b[0m         \u001b[1;35mCompetitionSpecification.cache\u001b[0m\u001b[1m(\u001b[0m\u001b[1m)\u001b[0m for more performant data access.       \u001b[2m            \u001b[0m\n"
      ]
     },
     "metadata": {},
     "output_type": "display_data"
    },
    {
     "data": {
      "application/vnd.jupyter.widget-view+json": {
       "model_id": "3a0f03f7c8d24a3ca536c084ef7e1672",
       "version_major": 2,
       "version_minor": 0
      },
      "text/plain": [
       "Output()"
      ]
     },
     "metadata": {},
     "output_type": "display_data"
    },
    {
     "data": {
      "text/html": [
       "<pre style=\"white-space:pre;overflow-x:auto;line-height:normal;font-family:Menlo,'DejaVu Sans Mono',consolas,'Courier New',monospace\"><span style=\"color: #7fbfbf; text-decoration-color: #7fbfbf\">[16:12:44] </span><span style=\"color: #008000; text-decoration-color: #008000\">Copying to destination </span>                                                                     <a href=\"file:///home/stas/.mamba/envs/polaris-env/lib/python3.12/site-packages/polaris/dataset/_base.py\" target=\"_blank\"><span style=\"color: #7f7f7f; text-decoration-color: #7f7f7f\">_base.py</span></a><span style=\"color: #7f7f7f; text-decoration-color: #7f7f7f\">:</span><a href=\"file:///home/stas/.mamba/envs/polaris-env/lib/python3.12/site-packages/polaris/dataset/_base.py#380\" target=\"_blank\"><span style=\"color: #7f7f7f; text-decoration-color: #7f7f7f\">380</span></a>\n",
       "<span style=\"color: #7fbfbf; text-decoration-color: #7fbfbf\">           </span><span style=\"color: #008000; text-decoration-color: #008000\">/home/stas/.cache/polaris/datasets/7e25635c-61bd-4097-9006-63f390a78be5/data.zarr</span>           <span style=\"color: #7f7f7f; text-decoration-color: #7f7f7f\">            </span>\n",
       "</pre>\n"
      ],
      "text/plain": [
       "\u001b[2;36m[16:12:44]\u001b[0m\u001b[2;36m \u001b[0m\u001b[32mCopying to destination \u001b[0m                                                                     \u001b]8;id=974767;file:///home/stas/.mamba/envs/polaris-env/lib/python3.12/site-packages/polaris/dataset/_base.py\u001b\\\u001b[2m_base.py\u001b[0m\u001b]8;;\u001b\\\u001b[2m:\u001b[0m\u001b]8;id=443910;file:///home/stas/.mamba/envs/polaris-env/lib/python3.12/site-packages/polaris/dataset/_base.py#380\u001b\\\u001b[2m380\u001b[0m\u001b]8;;\u001b\\\n",
       "\u001b[2;36m           \u001b[0m\u001b[32m/home/stas/.cache/polaris/datasets/7e25635c-61bd-4097-9006-63f390a78be5/\u001b[0m\u001b[32mdata.zarr\u001b[0m           \u001b[2m            \u001b[0m\n"
      ]
     },
     "metadata": {},
     "output_type": "display_data"
    },
    {
     "data": {
      "text/html": [
       "<pre style=\"white-space:pre;overflow-x:auto;line-height:normal;font-family:Menlo,'DejaVu Sans Mono',consolas,'Courier New',monospace\"><span style=\"color: #7fbfbf; text-decoration-color: #7fbfbf\">           </span><span style=\"color: #808000; text-decoration-color: #808000\">For large Zarr archives, this may take a while.</span>                                             <a href=\"file:///home/stas/.mamba/envs/polaris-env/lib/python3.12/site-packages/polaris/dataset/_base.py\" target=\"_blank\"><span style=\"color: #7f7f7f; text-decoration-color: #7f7f7f\">_base.py</span></a><span style=\"color: #7f7f7f; text-decoration-color: #7f7f7f\">:</span><a href=\"file:///home/stas/.mamba/envs/polaris-env/lib/python3.12/site-packages/polaris/dataset/_base.py#381\" target=\"_blank\"><span style=\"color: #7f7f7f; text-decoration-color: #7f7f7f\">381</span></a>\n",
       "</pre>\n"
      ],
      "text/plain": [
       "\u001b[2;36m          \u001b[0m\u001b[2;36m \u001b[0m\u001b[33mFor large Zarr archives, this may take a while.\u001b[0m                                             \u001b]8;id=775042;file:///home/stas/.mamba/envs/polaris-env/lib/python3.12/site-packages/polaris/dataset/_base.py\u001b\\\u001b[2m_base.py\u001b[0m\u001b]8;;\u001b\\\u001b[2m:\u001b[0m\u001b]8;id=131618;file:///home/stas/.mamba/envs/polaris-env/lib/python3.12/site-packages/polaris/dataset/_base.py#381\u001b\\\u001b[2m381\u001b[0m\u001b]8;;\u001b\\\n"
      ]
     },
     "metadata": {},
     "output_type": "display_data"
    },
    {
     "data": {
      "text/html": [
       "<pre style=\"white-space:pre;overflow-x:auto;line-height:normal;font-family:Menlo,'DejaVu Sans Mono',consolas,'Courier New',monospace\"><span style=\"color: #7fbfbf; text-decoration-color: #7fbfbf\">[16:12:45] </span><span style=\"color: #008000; text-decoration-color: #008000\"> Success: Copying Zarr keys</span>                                                                <a href=\"file:///home/stas/.mamba/envs/polaris-env/lib/python3.12/site-packages/polaris/utils/context.py\" target=\"_blank\"><span style=\"color: #7f7f7f; text-decoration-color: #7f7f7f\">context.py</span></a><span style=\"color: #7f7f7f; text-decoration-color: #7f7f7f\">:</span><a href=\"file:///home/stas/.mamba/envs/polaris-env/lib/python3.12/site-packages/polaris/utils/context.py#53\" target=\"_blank\"><span style=\"color: #7f7f7f; text-decoration-color: #7f7f7f\">53</span></a>\n",
       "</pre>\n"
      ],
      "text/plain": [
       "\u001b[2;36m[16:12:45]\u001b[0m\u001b[2;36m \u001b[0m\u001b[32m Success: Copying Zarr keys\u001b[0m                                                                \u001b]8;id=332074;file:///home/stas/.mamba/envs/polaris-env/lib/python3.12/site-packages/polaris/utils/context.py\u001b\\\u001b[2mcontext.py\u001b[0m\u001b]8;;\u001b\\\u001b[2m:\u001b[0m\u001b]8;id=189933;file:///home/stas/.mamba/envs/polaris-env/lib/python3.12/site-packages/polaris/utils/context.py#53\u001b\\\u001b[2m53\u001b[0m\u001b]8;;\u001b\\\n"
      ]
     },
     "metadata": {},
     "output_type": "display_data"
    },
    {
     "data": {
      "text/html": [
       "<pre style=\"white-space:pre;overflow-x:auto;line-height:normal;font-family:Menlo,'DejaVu Sans Mono',consolas,'Courier New',monospace\"><span style=\"color: #7fbfbf; text-decoration-color: #7fbfbf\">           </span><span style=\"color: #008000; text-decoration-color: #008000\"> Success: Copying Zarr archive</span>                                                             <a href=\"file:///home/stas/.mamba/envs/polaris-env/lib/python3.12/site-packages/polaris/utils/context.py\" target=\"_blank\"><span style=\"color: #7f7f7f; text-decoration-color: #7f7f7f\">context.py</span></a><span style=\"color: #7f7f7f; text-decoration-color: #7f7f7f\">:</span><a href=\"file:///home/stas/.mamba/envs/polaris-env/lib/python3.12/site-packages/polaris/utils/context.py#53\" target=\"_blank\"><span style=\"color: #7f7f7f; text-decoration-color: #7f7f7f\">53</span></a>\n",
       "</pre>\n"
      ],
      "text/plain": [
       "\u001b[2;36m          \u001b[0m\u001b[2;36m \u001b[0m\u001b[32m Success: Copying Zarr archive\u001b[0m                                                             \u001b]8;id=335291;file:///home/stas/.mamba/envs/polaris-env/lib/python3.12/site-packages/polaris/utils/context.py\u001b\\\u001b[2mcontext.py\u001b[0m\u001b]8;;\u001b\\\u001b[2m:\u001b[0m\u001b]8;id=110796;file:///home/stas/.mamba/envs/polaris-env/lib/python3.12/site-packages/polaris/utils/context.py#53\u001b\\\u001b[2m53\u001b[0m\u001b]8;;\u001b\\\n"
      ]
     },
     "metadata": {},
     "output_type": "display_data"
    },
    {
     "data": {
      "text/html": [
       "<pre style=\"white-space:pre;overflow-x:auto;line-height:normal;font-family:Menlo,'DejaVu Sans Mono',consolas,'Courier New',monospace\"></pre>\n"
      ],
      "text/plain": []
     },
     "metadata": {},
     "output_type": "display_data"
    }
   ],
   "source": [
    "# Get the data\n",
    "competition = po.load_competition(f\"asap-discovery/antiviral-potency-2025\")\n",
    "competition.cache()\n",
    "train, test = competition.get_train_test_split()"
   ]
  },
  {
   "cell_type": "code",
   "execution_count": null,
   "metadata": {},
   "outputs": [],
   "source": [
    "\n",
    "# TODO: think of a realistic rms cutoff (ask Slav) and energy iterations\n",
    "def generate_conformers(\n",
    "        smiles: str, \n",
    "        num_confs: int = 5, \n",
    "        minimize_energy: bool = False, \n",
    "        rms_cutoff: int = None,\n",
    "        energy_iterations: int = 1000\n",
    "    ) -> dm.Mol:\n",
    "    \"\"\"\n",
    "    Generate 3D conformers using datamol.\n",
    "    \"\"\"\n",
    "    mol = dm.to_mol(smiles, add_hs=True, sanitize=True)\n",
    "    mol_confs = dm.conformers.generate(\n",
    "        mol, \n",
    "        n_confs=num_confs,\n",
    "        num_threads=8,\n",
    "        minimize_energy=minimize_energy, \n",
    "        rms_cutoff=rms_cutoff,\n",
    "        energy_iterations=energy_iterations\n",
    "    )\n",
    "    return mol_confs"
   ]
  },
  {
   "cell_type": "code",
   "execution_count": 9,
   "metadata": {},
   "outputs": [],
   "source": [
    "def run_conformer_test(n_examples, minimize_energy=True, energy_iterations=100):\n",
    "    start = time()\n",
    "    for num, (x, _) in enumerate(train):\n",
    "        if num < n_examples:\n",
    "            mol_confs = generate_conformers(\n",
    "                x, num_confs=10, \n",
    "                minimize_energy=minimize_energy,\n",
    "                energy_iterations=energy_iterations\n",
    "        )\n",
    "        else:\n",
    "            break\n",
    "\n",
    "    if minimize_energy:\n",
    "        energy_minimization_str = 'with energy minimization for ' + str(energy_iterations) + ' steps:\\n' \n",
    "    else:\n",
    "        energy_minimization_str = 'without energy minimization:\\n'\n",
    "\n",
    "    message = (\n",
    "        f\"Generating 10 conformers for {n_examples} examples \"\n",
    "        f\"{energy_minimization_str}\"\n",
    "        f\"time spent: {(time() - start):.4} seconds\\n\"\n",
    "    )\n",
    "    return message"
   ]
  },
  {
   "cell_type": "code",
   "execution_count": 15,
   "metadata": {},
   "outputs": [
    {
     "name": "stdout",
     "output_type": "stream",
     "text": [
      "Generating 10 conformers for 10 examples without energy minimization:\n",
      "time spent: 2.518 seconds\n",
      "\n",
      "Generating 10 conformers for 10 examples with energy minimization for 100 steps:\n",
      "time spent: 3.052 seconds\n",
      "\n",
      "Generating 10 conformers for 10 examples with energy minimization for 1000 steps:\n",
      "time spent: 3.897 seconds\n",
      "\n",
      "********************************************************************************\n",
      "Generating 10 conformers for 50 examples without energy minimization:\n",
      "time spent: 12.57 seconds\n",
      "\n",
      "Generating 10 conformers for 50 examples with energy minimization for 100 steps:\n",
      "time spent: 16.67 seconds\n",
      "\n",
      "Generating 10 conformers for 50 examples with energy minimization for 1000 steps:\n",
      "time spent: 23.71 seconds\n",
      "\n",
      "********************************************************************************\n",
      "Generating 10 conformers for 100 examples without energy minimization:\n",
      "time spent: 27.87 seconds\n",
      "\n",
      "Generating 10 conformers for 100 examples with energy minimization for 100 steps:\n",
      "time spent: 36.42 seconds\n",
      "\n",
      "Generating 10 conformers for 100 examples with energy minimization for 1000 steps:\n",
      "time spent: 50.47 seconds\n",
      "\n",
      "********************************************************************************\n"
     ]
    }
   ],
   "source": [
    "# Run some tests on 10, 50 and 100 data points and time it.\n",
    "# WARNING: this will run for about 3 mins\n",
    "for n in [10, 50, 100]:\n",
    "    print(run_conformer_test(n, False))\n",
    "    print(run_conformer_test(n, True, 100))\n",
    "    print(run_conformer_test(n, True, 1000))\n",
    "    print(80 * \"*\")"
   ]
  },
  {
   "cell_type": "markdown",
   "metadata": {},
   "source": [
    "## Conclusions\n",
    "\n",
    "- Time scales roughly linearly as expected\n",
    "- It takes almost twice as long to generate conformers with 1000 minimization steps in comparison to no energy \n",
    "minimization approach.\n",
    "- It's around 40% slower to generate conformers with 1000 steps of energy minimization VS 100 steps.\n",
    "- **We can easily either preprocess all molecules and store their various conformers or we can cache the call to the \n",
    "generation function directly in the data pipeline to avoid further recomputation** I would go for the 1st option, since\n",
    "it'll be faster to iterate over training attempts, however, we would need to include that preprocessing step into the \n",
    "test data pipeline. (Let's discuss it)"
   ]
  },
  {
   "cell_type": "markdown",
   "metadata": {},
   "source": [
    "## Check how a 3D conformation looks like"
   ]
  },
  {
   "cell_type": "code",
   "execution_count": 19,
   "metadata": {},
   "outputs": [
    {
     "name": "stdout",
     "output_type": "stream",
     "text": [
      "Shape: (39, 3)\n",
      "\n",
      "Coords: \n",
      " [[-3.96347098 -2.55323728  4.68226565]\n",
      " [-3.75070309 -2.99703939  3.31937879]\n",
      " [-2.55738507 -2.67011056  2.61592369]\n",
      " [-1.706712   -1.98581986  3.22614405]\n",
      " [-2.42670803 -3.16453177  1.23251934]\n",
      " [-1.17116901 -2.78020459  0.58939718]\n",
      " [-1.13109317 -1.57789599 -0.1536081 ]\n",
      " [ 0.23291616 -1.06035595 -0.49371585]\n",
      " [ 0.24953444 -0.47632158 -1.86391284]\n",
      " [-0.19000778 -1.10716496 -2.87080904]\n",
      " [ 0.80509016  0.81858624 -1.84288783]\n",
      " [ 0.91438288  1.64311    -2.99648605]\n",
      " [ 2.06042671  1.55290008 -3.76242247]\n",
      " [ 2.26032263  2.2919627  -4.87474   ]\n",
      " [ 1.31160754  3.18151778 -5.29761092]\n",
      " [ 0.15781061  3.29536168 -4.5557934 ]\n",
      " [-0.81229288  4.18673132 -4.96401498]\n",
      " [-1.98430021  4.33285963 -4.25020975]\n",
      " [-2.15629249  3.55294494 -3.10617703]\n",
      " [-1.20008763  2.6553742  -2.67925591]\n",
      " [-0.04908513  2.52989773 -3.40354378]\n",
      " [ 1.2118446   1.09744302 -0.49336224]\n",
      " [ 0.48654999  0.13870023  0.35408722]\n",
      " [ 1.19165993 -0.19286239  1.64960681]\n",
      " [ 1.3800087   1.06398235  2.405178  ]\n",
      " [ 2.50261535  1.8546986   2.33203043]\n",
      " [ 2.63900029  3.03592708  3.05586438]\n",
      " [ 1.61601602  3.42464308  3.87173386]\n",
      " [ 0.45839786  2.66312393  3.98376438]\n",
      " [ 0.35781682  1.49405701  3.2485892 ]\n",
      " [ 1.31882896 -2.07133837 -0.40037855]\n",
      " [ 2.56431017 -1.78438624 -0.94045327]\n",
      " [ 3.61400334 -2.69896526 -0.83560988]\n",
      " [ 5.18498377 -2.32595748 -1.5213673 ]\n",
      " [ 3.45406424 -3.91749704 -0.19448282]\n",
      " [ 2.23310678 -4.19649423  0.33221708]\n",
      " [ 1.19882204 -3.28835206  0.22447593]\n",
      " [-0.09061201 -3.69465052  0.75930958]\n",
      " [-0.23037403 -4.8037024   1.34184975]]\n"
     ]
    }
   ],
   "source": [
    "# Print 3D coords of the 1st conformer\n",
    "mol_confs = generate_conformers(next(train)[0])\n",
    "conf_coords = mol_confs.GetConformer(0).GetPositions()\n",
    "\n",
    "print(f\"Shape: {conf_coords.shape}\\n\")\n",
    "print(f\"Coords: \\n {conf_coords}\")"
   ]
  },
  {
   "cell_type": "code",
   "execution_count": null,
   "metadata": {},
   "outputs": [],
   "source": []
  }
 ],
 "metadata": {
  "kernelspec": {
   "display_name": "polaris-env",
   "language": "python",
   "name": "python3"
  },
  "language_info": {
   "codemirror_mode": {
    "name": "ipython",
    "version": 3
   },
   "file_extension": ".py",
   "mimetype": "text/x-python",
   "name": "python",
   "nbconvert_exporter": "python",
   "pygments_lexer": "ipython3",
   "version": "3.12.9"
  }
 },
 "nbformat": 4,
 "nbformat_minor": 2
}
