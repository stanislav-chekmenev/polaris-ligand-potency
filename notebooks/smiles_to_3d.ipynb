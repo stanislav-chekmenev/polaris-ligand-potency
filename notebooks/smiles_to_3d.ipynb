{
 "cells": [
  {
   "cell_type": "code",
   "execution_count": 2,
   "metadata": {},
   "outputs": [],
   "source": [
    "import datamol as dm\n",
    "import polaris as po\n",
    "\n",
    "from time import time"
   ]
  },
  {
   "cell_type": "markdown",
   "metadata": {},
   "source": [
    "# SMILES to 3D representations of molecules\n",
    "\n",
    "Let's find out how to go from SMILES to 3D, using `datamol`package. Then run some timing tests"
   ]
  },
  {
   "cell_type": "code",
   "execution_count": 3,
   "metadata": {},
   "outputs": [
    {
     "data": {
      "text/html": [
       "<pre style=\"white-space:pre;overflow-x:auto;line-height:normal;font-family:Menlo,'DejaVu Sans Mono',consolas,'Courier New',monospace\"><span style=\"color: #7fbfbf; text-decoration-color: #7fbfbf\">[2025-02-25 17:47:50] </span><span style=\"color: #000080; text-decoration-color: #000080\">INFO    </span> The version of Polaris that was used to create the artifact <span style=\"font-weight: bold\">(</span><span style=\"color: #008080; text-decoration-color: #008080; font-weight: bold\">0.11</span>.<span style=\"color: #008080; text-decoration-color: #008080; font-weight: bold\">0</span><span style=\"font-weight: bold\">)</span> <a href=\"file:///home/stas/.mamba/envs/polaris-env/lib/python3.12/site-packages/polaris/_artifact.py\" target=\"_blank\"><span style=\"color: #7f7f7f; text-decoration-color: #7f7f7f\">_artifact.py</span></a><span style=\"color: #7f7f7f; text-decoration-color: #7f7f7f\">:</span><a href=\"file:///home/stas/.mamba/envs/polaris-env/lib/python3.12/site-packages/polaris/_artifact.py#92\" target=\"_blank\"><span style=\"color: #7f7f7f; text-decoration-color: #7f7f7f\">92</span></a>\n",
       "<span style=\"color: #7fbfbf; text-decoration-color: #7fbfbf\">                      </span>         is different from the currently installed version of Polaris         <span style=\"color: #7f7f7f; text-decoration-color: #7f7f7f\">               </span>\n",
       "<span style=\"color: #7fbfbf; text-decoration-color: #7fbfbf\">                      </span>         <span style=\"font-weight: bold\">(</span><span style=\"color: #008080; text-decoration-color: #008080; font-weight: bold\">0.11</span>.<span style=\"color: #008080; text-decoration-color: #008080; font-weight: bold\">8</span><span style=\"font-weight: bold\">)</span>.                                                            <span style=\"color: #7f7f7f; text-decoration-color: #7f7f7f\">               </span>\n",
       "</pre>\n"
      ],
      "text/plain": [
       "\u001b[2;36m[2025-02-25 17:47:50]\u001b[0m\u001b[2;36m \u001b[0m\u001b[34mINFO    \u001b[0m The version of Polaris that was used to create the artifact \u001b[1m(\u001b[0m\u001b[1;36m0.11\u001b[0m.\u001b[1;36m0\u001b[0m\u001b[1m)\u001b[0m \u001b]8;id=187678;file:///home/stas/.mamba/envs/polaris-env/lib/python3.12/site-packages/polaris/_artifact.py\u001b\\\u001b[2m_artifact.py\u001b[0m\u001b]8;;\u001b\\\u001b[2m:\u001b[0m\u001b]8;id=589043;file:///home/stas/.mamba/envs/polaris-env/lib/python3.12/site-packages/polaris/_artifact.py#92\u001b\\\u001b[2m92\u001b[0m\u001b]8;;\u001b\\\n",
       "\u001b[2;36m                      \u001b[0m         is different from the currently installed version of Polaris         \u001b[2m               \u001b[0m\n",
       "\u001b[2;36m                      \u001b[0m         \u001b[1m(\u001b[0m\u001b[1;36m0.11\u001b[0m.\u001b[1;36m8\u001b[0m\u001b[1m)\u001b[0m.                                                            \u001b[2m               \u001b[0m\n"
      ]
     },
     "metadata": {},
     "output_type": "display_data"
    },
    {
     "data": {
      "text/html": [
       "<pre style=\"white-space:pre;overflow-x:auto;line-height:normal;font-family:Menlo,'DejaVu Sans Mono',consolas,'Courier New',monospace\"><span style=\"color: #7fbfbf; text-decoration-color: #7fbfbf\">                      </span><span style=\"color: #808000; text-decoration-color: #808000\">WARNING </span> You're loading data from a remote location. If the dataset is small     <a href=\"file:///home/stas/.mamba/envs/polaris-env/lib/python3.12/site-packages/polaris/dataset/_base.py\" target=\"_blank\"><span style=\"color: #7f7f7f; text-decoration-color: #7f7f7f\">_base.py</span></a><span style=\"color: #7f7f7f; text-decoration-color: #7f7f7f\">:</span><a href=\"file:///home/stas/.mamba/envs/polaris-env/lib/python3.12/site-packages/polaris/dataset/_base.py#181\" target=\"_blank\"><span style=\"color: #7f7f7f; text-decoration-color: #7f7f7f\">181</span></a>\n",
       "<span style=\"color: #7fbfbf; text-decoration-color: #7fbfbf\">                      </span>         enough, consider caching the dataset first using                        <span style=\"color: #7f7f7f; text-decoration-color: #7f7f7f\">            </span>\n",
       "<span style=\"color: #7fbfbf; text-decoration-color: #7fbfbf\">                      </span>         <span style=\"color: #800080; text-decoration-color: #800080; font-weight: bold\">CompetitionSpecification.cache</span><span style=\"font-weight: bold\">()</span> for more performant data access.       <span style=\"color: #7f7f7f; text-decoration-color: #7f7f7f\">            </span>\n",
       "</pre>\n"
      ],
      "text/plain": [
       "\u001b[2;36m                     \u001b[0m\u001b[2;36m \u001b[0m\u001b[33mWARNING \u001b[0m You're loading data from a remote location. If the dataset is small     \u001b]8;id=422773;file:///home/stas/.mamba/envs/polaris-env/lib/python3.12/site-packages/polaris/dataset/_base.py\u001b\\\u001b[2m_base.py\u001b[0m\u001b]8;;\u001b\\\u001b[2m:\u001b[0m\u001b]8;id=2722;file:///home/stas/.mamba/envs/polaris-env/lib/python3.12/site-packages/polaris/dataset/_base.py#181\u001b\\\u001b[2m181\u001b[0m\u001b]8;;\u001b\\\n",
       "\u001b[2;36m                      \u001b[0m         enough, consider caching the dataset first using                        \u001b[2m            \u001b[0m\n",
       "\u001b[2;36m                      \u001b[0m         \u001b[1;35mCompetitionSpecification.cache\u001b[0m\u001b[1m(\u001b[0m\u001b[1m)\u001b[0m for more performant data access.       \u001b[2m            \u001b[0m\n"
      ]
     },
     "metadata": {},
     "output_type": "display_data"
    },
    {
     "data": {
      "application/vnd.jupyter.widget-view+json": {
       "model_id": "4a5c1a1b9b50458196647f829d26a7c7",
       "version_major": 2,
       "version_minor": 0
      },
      "text/plain": [
       "Output()"
      ]
     },
     "metadata": {},
     "output_type": "display_data"
    },
    {
     "data": {
      "text/html": [
       "<pre style=\"white-space:pre;overflow-x:auto;line-height:normal;font-family:Menlo,'DejaVu Sans Mono',consolas,'Courier New',monospace\"><span style=\"color: #7fbfbf; text-decoration-color: #7fbfbf\">[17:47:51] </span><span style=\"color: #008000; text-decoration-color: #008000\">Copying to destination </span>                                                                     <a href=\"file:///home/stas/.mamba/envs/polaris-env/lib/python3.12/site-packages/polaris/dataset/_base.py\" target=\"_blank\"><span style=\"color: #7f7f7f; text-decoration-color: #7f7f7f\">_base.py</span></a><span style=\"color: #7f7f7f; text-decoration-color: #7f7f7f\">:</span><a href=\"file:///home/stas/.mamba/envs/polaris-env/lib/python3.12/site-packages/polaris/dataset/_base.py#380\" target=\"_blank\"><span style=\"color: #7f7f7f; text-decoration-color: #7f7f7f\">380</span></a>\n",
       "<span style=\"color: #7fbfbf; text-decoration-color: #7fbfbf\">           </span><span style=\"color: #008000; text-decoration-color: #008000\">/home/stas/.cache/polaris/datasets/dddcb748-d454-4184-bda3-4fd1463c9103/data.zarr</span>           <span style=\"color: #7f7f7f; text-decoration-color: #7f7f7f\">            </span>\n",
       "</pre>\n"
      ],
      "text/plain": [
       "\u001b[2;36m[17:47:51]\u001b[0m\u001b[2;36m \u001b[0m\u001b[32mCopying to destination \u001b[0m                                                                     \u001b]8;id=433780;file:///home/stas/.mamba/envs/polaris-env/lib/python3.12/site-packages/polaris/dataset/_base.py\u001b\\\u001b[2m_base.py\u001b[0m\u001b]8;;\u001b\\\u001b[2m:\u001b[0m\u001b]8;id=232297;file:///home/stas/.mamba/envs/polaris-env/lib/python3.12/site-packages/polaris/dataset/_base.py#380\u001b\\\u001b[2m380\u001b[0m\u001b]8;;\u001b\\\n",
       "\u001b[2;36m           \u001b[0m\u001b[32m/home/stas/.cache/polaris/datasets/dddcb748-d454-4184-bda3-4fd1463c9103/\u001b[0m\u001b[32mdata.zarr\u001b[0m           \u001b[2m            \u001b[0m\n"
      ]
     },
     "metadata": {},
     "output_type": "display_data"
    },
    {
     "data": {
      "text/html": [
       "<pre style=\"white-space:pre;overflow-x:auto;line-height:normal;font-family:Menlo,'DejaVu Sans Mono',consolas,'Courier New',monospace\"><span style=\"color: #7fbfbf; text-decoration-color: #7fbfbf\">[17:47:53] </span><span style=\"color: #008000; text-decoration-color: #008000\"> Success: Copying Zarr keys</span>                                                                <a href=\"file:///home/stas/.mamba/envs/polaris-env/lib/python3.12/site-packages/polaris/utils/context.py\" target=\"_blank\"><span style=\"color: #7f7f7f; text-decoration-color: #7f7f7f\">context.py</span></a><span style=\"color: #7f7f7f; text-decoration-color: #7f7f7f\">:</span><a href=\"file:///home/stas/.mamba/envs/polaris-env/lib/python3.12/site-packages/polaris/utils/context.py#53\" target=\"_blank\"><span style=\"color: #7f7f7f; text-decoration-color: #7f7f7f\">53</span></a>\n",
       "</pre>\n"
      ],
      "text/plain": [
       "\u001b[2;36m[17:47:53]\u001b[0m\u001b[2;36m \u001b[0m\u001b[32m Success: Copying Zarr keys\u001b[0m                                                                \u001b]8;id=329723;file:///home/stas/.mamba/envs/polaris-env/lib/python3.12/site-packages/polaris/utils/context.py\u001b\\\u001b[2mcontext.py\u001b[0m\u001b]8;;\u001b\\\u001b[2m:\u001b[0m\u001b]8;id=382249;file:///home/stas/.mamba/envs/polaris-env/lib/python3.12/site-packages/polaris/utils/context.py#53\u001b\\\u001b[2m53\u001b[0m\u001b]8;;\u001b\\\n"
      ]
     },
     "metadata": {},
     "output_type": "display_data"
    },
    {
     "data": {
      "text/html": [
       "<pre style=\"white-space:pre;overflow-x:auto;line-height:normal;font-family:Menlo,'DejaVu Sans Mono',consolas,'Courier New',monospace\"><span style=\"color: #7fbfbf; text-decoration-color: #7fbfbf\">           </span><span style=\"color: #008000; text-decoration-color: #008000\"> Success: Copying Zarr archive</span>                                                             <a href=\"file:///home/stas/.mamba/envs/polaris-env/lib/python3.12/site-packages/polaris/utils/context.py\" target=\"_blank\"><span style=\"color: #7f7f7f; text-decoration-color: #7f7f7f\">context.py</span></a><span style=\"color: #7f7f7f; text-decoration-color: #7f7f7f\">:</span><a href=\"file:///home/stas/.mamba/envs/polaris-env/lib/python3.12/site-packages/polaris/utils/context.py#53\" target=\"_blank\"><span style=\"color: #7f7f7f; text-decoration-color: #7f7f7f\">53</span></a>\n",
       "</pre>\n"
      ],
      "text/plain": [
       "\u001b[2;36m          \u001b[0m\u001b[2;36m \u001b[0m\u001b[32m Success: Copying Zarr archive\u001b[0m                                                             \u001b]8;id=739086;file:///home/stas/.mamba/envs/polaris-env/lib/python3.12/site-packages/polaris/utils/context.py\u001b\\\u001b[2mcontext.py\u001b[0m\u001b]8;;\u001b\\\u001b[2m:\u001b[0m\u001b]8;id=191876;file:///home/stas/.mamba/envs/polaris-env/lib/python3.12/site-packages/polaris/utils/context.py#53\u001b\\\u001b[2m53\u001b[0m\u001b]8;;\u001b\\\n"
      ]
     },
     "metadata": {},
     "output_type": "display_data"
    },
    {
     "data": {
      "text/html": [
       "<pre style=\"white-space:pre;overflow-x:auto;line-height:normal;font-family:Menlo,'DejaVu Sans Mono',consolas,'Courier New',monospace\"></pre>\n"
      ],
      "text/plain": []
     },
     "metadata": {},
     "output_type": "display_data"
    }
   ],
   "source": [
    "# Get the data\n",
    "competition = po.load_competition(f\"asap-discovery/antiviral-potency-2025\")\n",
    "competition.cache()\n",
    "train, test = competition.get_train_test_split()"
   ]
  },
  {
   "cell_type": "code",
   "execution_count": 7,
   "metadata": {},
   "outputs": [],
   "source": [
    "\n",
    "# TODO: think of a realistic rms cutoff (ask Slav) and energy iterations\n",
    "def generate_conformers(\n",
    "        smiles: str, \n",
    "        num_confs: int = 5, \n",
    "        minimize_energy: bool = False, \n",
    "        rms_cutoff: int = None,\n",
    "        energy_iterations: int = 1000\n",
    "    ) -> dm.Mol:\n",
    "    \"\"\"\n",
    "    Generate 3D conformers using datamol.\n",
    "    \"\"\"\n",
    "    dm.disable_rdkit_log() # stop logging a lot of info\n",
    "\n",
    "    mol = dm.to_mol(smiles, add_hs=True)\n",
    "    mol = dm.fix_mol(mol)\n",
    "    mol = dm.sanitize_mol(mol)\n",
    "    mol = dm.standardize_mol(\n",
    "        mol,\n",
    "        disconnect_metals=True,\n",
    "        normalize=True,\n",
    "        reionize=True,\n",
    "        uncharge=False,\n",
    "        stereo=True,\n",
    "    )\n",
    "\n",
    "    mol_confs = dm.conformers.generate(\n",
    "        mol, \n",
    "        n_confs=num_confs,\n",
    "        num_threads=8,\n",
    "        minimize_energy=minimize_energy, \n",
    "        rms_cutoff=rms_cutoff,\n",
    "        energy_iterations=energy_iterations\n",
    "    )\n",
    "    return mol_confs"
   ]
  },
  {
   "cell_type": "code",
   "execution_count": 8,
   "metadata": {},
   "outputs": [],
   "source": [
    "def run_conformer_test(n_examples, minimize_energy=True, energy_iterations=100):\n",
    "    start = time()\n",
    "    for num, (x, _) in enumerate(train):\n",
    "        if num < n_examples:\n",
    "            mol_confs = generate_conformers(\n",
    "                x, num_confs=10, \n",
    "                minimize_energy=minimize_energy,\n",
    "                energy_iterations=energy_iterations\n",
    "        )\n",
    "        else:\n",
    "            break\n",
    "\n",
    "    if minimize_energy:\n",
    "        energy_minimization_str = 'with energy minimization for ' + str(energy_iterations) + ' steps:\\n' \n",
    "    else:\n",
    "        energy_minimization_str = 'without energy minimization:\\n'\n",
    "\n",
    "    message = (\n",
    "        f\"Generating 10 conformers for {n_examples} examples \"\n",
    "        f\"{energy_minimization_str}\"\n",
    "        f\"time spent: {(time() - start):.4} seconds\\n\"\n",
    "    )\n",
    "    return message"
   ]
  },
  {
   "cell_type": "code",
   "execution_count": 9,
   "metadata": {},
   "outputs": [
    {
     "name": "stdout",
     "output_type": "stream",
     "text": [
      "Generating 10 conformers for 10 examples without energy minimization:\n",
      "time spent: 2.304 seconds\n",
      "\n",
      "Generating 10 conformers for 10 examples with energy minimization for 100 steps:\n",
      "time spent: 2.88 seconds\n",
      "\n",
      "Generating 10 conformers for 10 examples with energy minimization for 1000 steps:\n",
      "time spent: 3.766 seconds\n",
      "\n",
      "********************************************************************************\n",
      "Generating 10 conformers for 50 examples without energy minimization:\n",
      "time spent: 12.5 seconds\n",
      "\n",
      "Generating 10 conformers for 50 examples with energy minimization for 100 steps:\n",
      "time spent: 16.6 seconds\n",
      "\n",
      "Generating 10 conformers for 50 examples with energy minimization for 1000 steps:\n",
      "time spent: 22.73 seconds\n",
      "\n",
      "********************************************************************************\n",
      "Generating 10 conformers for 100 examples without energy minimization:\n",
      "time spent: 26.42 seconds\n",
      "\n",
      "Generating 10 conformers for 100 examples with energy minimization for 100 steps:\n",
      "time spent: 34.2 seconds\n",
      "\n",
      "Generating 10 conformers for 100 examples with energy minimization for 1000 steps:\n",
      "time spent: 47.18 seconds\n",
      "\n",
      "********************************************************************************\n"
     ]
    }
   ],
   "source": [
    "# Run some tests on 10, 50 and 100 data points and time it.\n",
    "# WARNING: this will run for about 3 mins\n",
    "for n in [10, 50, 100]:\n",
    "    print(run_conformer_test(n, False))\n",
    "    print(run_conformer_test(n, True, 100))\n",
    "    print(run_conformer_test(n, True, 1000))\n",
    "    print(80 * \"*\")"
   ]
  },
  {
   "cell_type": "markdown",
   "metadata": {},
   "source": [
    "## Conclusions\n",
    "\n",
    "- Time scales roughly linearly as expected\n",
    "- It takes almost twice as long to generate conformers with 1000 minimization steps in comparison to no energy \n",
    "minimization approach.\n",
    "- It's around 40% slower to generate conformers with 1000 steps of energy minimization VS 100 steps.\n",
    "- **We can easily either preprocess all molecules and store their various conformers or we can cache the call to the \n",
    "generation function directly in the data pipeline to avoid further recomputation** I would go for the 1st option, since\n",
    "it'll be faster to iterate over training attempts, however, we would need to include that preprocessing step into the \n",
    "test data pipeline. (Let's discuss it)"
   ]
  },
  {
   "cell_type": "markdown",
   "metadata": {},
   "source": [
    "## Check how a 3D conformation looks like"
   ]
  },
  {
   "cell_type": "code",
   "execution_count": 10,
   "metadata": {},
   "outputs": [
    {
     "name": "stdout",
     "output_type": "stream",
     "text": [
      "Shape: (34, 3)\n",
      "\n",
      "Coords: \n",
      " [[ 2.6323168   0.6054825  -5.26036319]\n",
      " [ 1.55613292  0.46559828 -4.27137778]\n",
      " [ 0.70949033  1.57649872 -4.08417693]\n",
      " [ 0.93371378  2.61463654 -4.77849485]\n",
      " [-0.42578617  1.61326483 -3.13011377]\n",
      " [-0.57399667  0.37355257 -2.40317728]\n",
      " [ 0.08080771  0.07489942 -1.15809112]\n",
      " [-0.82630558 -0.53425015 -0.16178747]\n",
      " [-0.0967829  -1.23012324  0.9367751 ]\n",
      " [ 0.71890213 -2.17729257  0.72974089]\n",
      " [-0.43552543 -0.69688957  2.2089517 ]\n",
      " [ 0.32053209 -0.73579863  3.4036591 ]\n",
      " [ 1.23442289  0.27773974  3.68401511]\n",
      " [ 1.97343362  0.2667547   4.8248514 ]\n",
      " [ 1.86448287 -0.71107368  5.73463395]\n",
      " [ 0.97425736 -1.74033419  5.50789148]\n",
      " [ 0.87000733 -2.74632272  6.45835017]\n",
      " [-0.01611678 -3.78349397  6.24939467]\n",
      " [-0.77226924 -3.78387918  5.09536118]\n",
      " [-0.6539544  -2.77504117  4.16317374]\n",
      " [ 0.22341337 -1.73120263  4.35111531]\n",
      " [-1.75671827 -0.09134367  1.97888762]\n",
      " [-1.6912545   0.43315651  0.56755177]\n",
      " [-1.03251757  1.78503019  0.68330124]\n",
      " [-1.92975251  2.62007128  1.39049769]\n",
      " [-1.63038483 -1.61445179 -0.80522104]\n",
      " [-2.14481362 -2.6708999  -0.03494692]\n",
      " [-2.91691388 -3.66557092 -0.60219531]\n",
      " [-3.55312298 -4.9789055   0.37237917]\n",
      " [-3.21595009 -3.66522681 -1.94803304]\n",
      " [-2.719252   -2.63719935 -2.72108003]\n",
      " [-1.95248441 -1.65777359 -2.13637511]\n",
      " [-1.40875088 -0.61918504 -2.99534959]\n",
      " [-1.6511291  -0.57714977 -4.21618907]]\n"
     ]
    }
   ],
   "source": [
    "# Print 3D coords of the 1st conformer\n",
    "mol_confs = generate_conformers(next(train)[0])\n",
    "conf_coords = mol_confs.GetConformer(0).GetPositions()\n",
    "\n",
    "print(f\"Shape: {conf_coords.shape}\\n\")\n",
    "print(f\"Coords: \\n {conf_coords}\")"
   ]
  }
 ],
 "metadata": {
  "kernelspec": {
   "display_name": "polaris-env",
   "language": "python",
   "name": "python3"
  },
  "language_info": {
   "codemirror_mode": {
    "name": "ipython",
    "version": 3
   },
   "file_extension": ".py",
   "mimetype": "text/x-python",
   "name": "python",
   "nbconvert_exporter": "python",
   "pygments_lexer": "ipython3",
   "version": "3.12.9"
  }
 },
 "nbformat": 4,
 "nbformat_minor": 2
}
