{
 "cells": [
  {
   "cell_type": "markdown",
   "metadata": {},
   "source": [
    "import datamol as dm\n",
    "import polaris as po\n"
   ]
  },
  {
   "cell_type": "code",
   "execution_count": null,
   "metadata": {},
   "outputs": [],
   "source": [
    "competition = po.load_competition(f\"asap-discovery/antiviral-potency-2025\")\n",
    "competition.cache()"
   ]
  },
  {
   "cell_type": "code",
   "execution_count": null,
   "metadata": {},
   "outputs": [],
   "source": [
    "\n",
    "def generate_3d_conformers_datamol(smiles: str, num_confs: int = 10):\n",
    "    \"\"\"\n",
    "    Generate 3D conformers using datamol.\n",
    "    \"\"\"\n",
    "    mol = dm.to_mol(smiles, add_hs=True)\n",
    "    # Generate conformers\n",
    "    # By default, datamol.generate_conformers uses RDKit’s ETKDG in the background\n",
    "    mol_confs = dm.generate_conformers(mol, n_confs=num_confs)\n",
    "    return mol_confs\n",
    "\n",
    "# Example usage with datamol\n",
    "if __name__ == \"__main__\":\n",
    "    example_smiles = \"CCO\"\n",
    "    mol_confs = generate_3d_conformers_datamol(example_smiles, num_confs=5)\n",
    "    print(f\"Number of conformers generated: {mol_confs.GetNumConformers()}\")"
   ]
  }
 ],
 "metadata": {
  "kernelspec": {
   "display_name": "polaris-env",
   "language": "python",
   "name": "python3"
  },
  "language_info": {
   "codemirror_mode": {
    "name": "ipython",
    "version": 3
   },
   "file_extension": ".py",
   "mimetype": "text/x-python",
   "name": "python",
   "nbconvert_exporter": "python",
   "pygments_lexer": "ipython3",
   "version": "3.12.9"
  }
 },
 "nbformat": 4,
 "nbformat_minor": 2
}
