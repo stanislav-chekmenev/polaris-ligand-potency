{
 "cells": [
  {
   "cell_type": "markdown",
   "id": "0e64d2e3-ade5-4094-95c5-074b82e5e25d",
   "metadata": {},
   "source": [
    "# Ligand Poses (Blind Docking)\n",
    "The [Ligand Poses challenge](https://polarishub.io/competitions/asap-discovery/antiviral-ligand-poses-2025) of the [ASAP Discovery competition](https://polarishub.io/competitions/asap-discovery/antiviral-admet-2025) is a little more complex than the other challenges. \n",
    "\n",
    "The goal in ligand pose challenge is to predict the 3D binding pose of the ligand, given the ligand's SMILES (or CXSMILES, to be more precise) and the protein's sequence. This is also known as _blind docking_.\n",
    "\n",
    "Let's take a look!\n",
    "\n",
    "## Load the competition\n",
    "Make sure you're logged in! If you haven't logged in yet, simply run `polaris login` in a terminal of your choice. "
   ]
  },
  {
   "cell_type": "code",
   "execution_count": 1,
   "id": "12392ca1-d954-4c97-ab84-c0e2bb265c19",
   "metadata": {},
   "outputs": [
    {
     "data": {
      "text/html": [
       "<pre style=\"white-space:pre;overflow-x:auto;line-height:normal;font-family:Menlo,'DejaVu Sans Mono',consolas,'Courier New',monospace\"><span style=\"color: #7fbfbf; text-decoration-color: #7fbfbf\">[2025-02-10 21:22:27] </span><span style=\"color: #000080; text-decoration-color: #000080\">INFO    </span> The version of Polaris that was used to create the artifact <span style=\"font-weight: bold\">(</span><span style=\"color: #008080; text-decoration-color: #008080; font-weight: bold\">0.11</span>.<span style=\"color: #008080; text-decoration-color: #008080; font-weight: bold\">0</span><span style=\"font-weight: bold\">)</span> <a href=\"file:///home/hmacdope/mambaforge/envs/asap_v13/lib/python3.11/site-packages/polaris/_artifact.py\" target=\"_blank\"><span style=\"color: #7f7f7f; text-decoration-color: #7f7f7f\">_artifact.py</span></a><span style=\"color: #7f7f7f; text-decoration-color: #7f7f7f\">:</span><a href=\"file:///home/hmacdope/mambaforge/envs/asap_v13/lib/python3.11/site-packages/polaris/_artifact.py#92\" target=\"_blank\"><span style=\"color: #7f7f7f; text-decoration-color: #7f7f7f\">92</span></a>\n",
       "<span style=\"color: #7fbfbf; text-decoration-color: #7fbfbf\">                      </span>         is different from the currently installed version of Polaris         <span style=\"color: #7f7f7f; text-decoration-color: #7f7f7f\">               </span>\n",
       "<span style=\"color: #7fbfbf; text-decoration-color: #7fbfbf\">                      </span>         <span style=\"font-weight: bold\">(</span><span style=\"color: #008080; text-decoration-color: #008080; font-weight: bold\">0.11</span>.<span style=\"color: #008080; text-decoration-color: #008080; font-weight: bold\">6</span><span style=\"font-weight: bold\">)</span>.                                                            <span style=\"color: #7f7f7f; text-decoration-color: #7f7f7f\">               </span>\n",
       "</pre>\n"
      ],
      "text/plain": [
       "\u001b[2;36m[2025-02-10 21:22:27]\u001b[0m\u001b[2;36m \u001b[0m\u001b[34mINFO    \u001b[0m The version of Polaris that was used to create the artifact \u001b[1m(\u001b[0m\u001b[1;36m0.11\u001b[0m.\u001b[1;36m0\u001b[0m\u001b[1m)\u001b[0m \u001b]8;id=922211;file:///home/hmacdope/mambaforge/envs/asap_v13/lib/python3.11/site-packages/polaris/_artifact.py\u001b\\\u001b[2m_artifact.py\u001b[0m\u001b]8;;\u001b\\\u001b[2m:\u001b[0m\u001b]8;id=47067;file:///home/hmacdope/mambaforge/envs/asap_v13/lib/python3.11/site-packages/polaris/_artifact.py#92\u001b\\\u001b[2m92\u001b[0m\u001b]8;;\u001b\\\n",
       "\u001b[2;36m                      \u001b[0m         is different from the currently installed version of Polaris         \u001b[2m               \u001b[0m\n",
       "\u001b[2;36m                      \u001b[0m         \u001b[1m(\u001b[0m\u001b[1;36m0.11\u001b[0m.\u001b[1;36m6\u001b[0m\u001b[1m)\u001b[0m.                                                            \u001b[2m               \u001b[0m\n"
      ]
     },
     "metadata": {},
     "output_type": "display_data"
    },
    {
     "data": {
      "text/html": [
       "<pre style=\"white-space:pre;overflow-x:auto;line-height:normal;font-family:Menlo,'DejaVu Sans Mono',consolas,'Courier New',monospace\"><span style=\"color: #7fbfbf; text-decoration-color: #7fbfbf\">                      </span><span style=\"color: #808000; text-decoration-color: #808000\">WARNING </span> You're loading data from a remote location. If the dataset is small     <a href=\"file:///home/hmacdope/mambaforge/envs/asap_v13/lib/python3.11/site-packages/polaris/dataset/_base.py\" target=\"_blank\"><span style=\"color: #7f7f7f; text-decoration-color: #7f7f7f\">_base.py</span></a><span style=\"color: #7f7f7f; text-decoration-color: #7f7f7f\">:</span><a href=\"file:///home/hmacdope/mambaforge/envs/asap_v13/lib/python3.11/site-packages/polaris/dataset/_base.py#182\" target=\"_blank\"><span style=\"color: #7f7f7f; text-decoration-color: #7f7f7f\">182</span></a>\n",
       "<span style=\"color: #7fbfbf; text-decoration-color: #7fbfbf\">                      </span>         enough, consider caching the dataset first using                        <span style=\"color: #7f7f7f; text-decoration-color: #7f7f7f\">            </span>\n",
       "<span style=\"color: #7fbfbf; text-decoration-color: #7fbfbf\">                      </span>         <span style=\"color: #800080; text-decoration-color: #800080; font-weight: bold\">CompetitionSpecification.cache</span><span style=\"font-weight: bold\">()</span> for more performant data access.       <span style=\"color: #7f7f7f; text-decoration-color: #7f7f7f\">            </span>\n",
       "</pre>\n"
      ],
      "text/plain": [
       "\u001b[2;36m                     \u001b[0m\u001b[2;36m \u001b[0m\u001b[33mWARNING \u001b[0m You're loading data from a remote location. If the dataset is small     \u001b]8;id=500416;file:///home/hmacdope/mambaforge/envs/asap_v13/lib/python3.11/site-packages/polaris/dataset/_base.py\u001b\\\u001b[2m_base.py\u001b[0m\u001b]8;;\u001b\\\u001b[2m:\u001b[0m\u001b]8;id=342348;file:///home/hmacdope/mambaforge/envs/asap_v13/lib/python3.11/site-packages/polaris/dataset/_base.py#182\u001b\\\u001b[2m182\u001b[0m\u001b]8;;\u001b\\\n",
       "\u001b[2;36m                      \u001b[0m         enough, consider caching the dataset first using                        \u001b[2m            \u001b[0m\n",
       "\u001b[2;36m                      \u001b[0m         \u001b[1;35mCompetitionSpecification.cache\u001b[0m\u001b[1m(\u001b[0m\u001b[1m)\u001b[0m for more performant data access.       \u001b[2m            \u001b[0m\n"
      ]
     },
     "metadata": {},
     "output_type": "display_data"
    }
   ],
   "source": [
    "import polaris as po\n",
    "\n",
    "competition = po.load_competition(\"asap-discovery/antiviral-ligand-poses-2025\")"
   ]
  },
  {
   "cell_type": "markdown",
   "id": "ecdd0f20-4fbd-455c-8d25-c9331d47bf4d",
   "metadata": {},
   "source": [
    "Let's again cache it as suggested!"
   ]
  },
  {
   "cell_type": "code",
   "execution_count": 2,
   "id": "48fdb335-01a1-4210-81df-025187aeaf8d",
   "metadata": {},
   "outputs": [
    {
     "data": {
      "application/vnd.jupyter.widget-view+json": {
       "model_id": "9df4e282db644c18a5d7ce1acb49fd25",
       "version_major": 2,
       "version_minor": 0
      },
      "text/plain": [
       "Output()"
      ]
     },
     "metadata": {},
     "output_type": "display_data"
    },
    {
     "data": {
      "text/html": [
       "<pre style=\"white-space:pre;overflow-x:auto;line-height:normal;font-family:Menlo,'DejaVu Sans Mono',consolas,'Courier New',monospace\"><span style=\"color: #7fbfbf; text-decoration-color: #7fbfbf\">[21:22:28] </span><span style=\"color: #008000; text-decoration-color: #008000\">Copying to destination </span>                                                                     <a href=\"file:///home/hmacdope/mambaforge/envs/asap_v13/lib/python3.11/site-packages/polaris/dataset/_base.py\" target=\"_blank\"><span style=\"color: #7f7f7f; text-decoration-color: #7f7f7f\">_base.py</span></a><span style=\"color: #7f7f7f; text-decoration-color: #7f7f7f\">:</span><a href=\"file:///home/hmacdope/mambaforge/envs/asap_v13/lib/python3.11/site-packages/polaris/dataset/_base.py#381\" target=\"_blank\"><span style=\"color: #7f7f7f; text-decoration-color: #7f7f7f\">381</span></a>\n",
       "<span style=\"color: #7fbfbf; text-decoration-color: #7fbfbf\">           </span><span style=\"color: #008000; text-decoration-color: #008000\">/home/hmacdope/.cache/polaris/datasets/5758db23-008b-46c9-a1d8-0c552f449edc/data.zarr</span>       <span style=\"color: #7f7f7f; text-decoration-color: #7f7f7f\">            </span>\n",
       "</pre>\n"
      ],
      "text/plain": [
       "\u001b[2;36m[21:22:28]\u001b[0m\u001b[2;36m \u001b[0m\u001b[32mCopying to destination \u001b[0m                                                                     \u001b]8;id=625737;file:///home/hmacdope/mambaforge/envs/asap_v13/lib/python3.11/site-packages/polaris/dataset/_base.py\u001b\\\u001b[2m_base.py\u001b[0m\u001b]8;;\u001b\\\u001b[2m:\u001b[0m\u001b]8;id=597633;file:///home/hmacdope/mambaforge/envs/asap_v13/lib/python3.11/site-packages/polaris/dataset/_base.py#381\u001b\\\u001b[2m381\u001b[0m\u001b]8;;\u001b\\\n",
       "\u001b[2;36m           \u001b[0m\u001b[32m/home/hmacdope/.cache/polaris/datasets/5758db23-008b-46c9-a1d8-0c552f449edc/\u001b[0m\u001b[32mdata.zarr\u001b[0m       \u001b[2m            \u001b[0m\n"
      ]
     },
     "metadata": {},
     "output_type": "display_data"
    },
    {
     "data": {
      "text/html": [
       "<pre style=\"white-space:pre;overflow-x:auto;line-height:normal;font-family:Menlo,'DejaVu Sans Mono',consolas,'Courier New',monospace\"><span style=\"color: #7fbfbf; text-decoration-color: #7fbfbf\">           </span><span style=\"color: #808000; text-decoration-color: #808000\">For large Zarr archives, this may take a while.</span>                                             <a href=\"file:///home/hmacdope/mambaforge/envs/asap_v13/lib/python3.11/site-packages/polaris/dataset/_base.py\" target=\"_blank\"><span style=\"color: #7f7f7f; text-decoration-color: #7f7f7f\">_base.py</span></a><span style=\"color: #7f7f7f; text-decoration-color: #7f7f7f\">:</span><a href=\"file:///home/hmacdope/mambaforge/envs/asap_v13/lib/python3.11/site-packages/polaris/dataset/_base.py#382\" target=\"_blank\"><span style=\"color: #7f7f7f; text-decoration-color: #7f7f7f\">382</span></a>\n",
       "</pre>\n"
      ],
      "text/plain": [
       "\u001b[2;36m          \u001b[0m\u001b[2;36m \u001b[0m\u001b[33mFor large Zarr archives, this may take a while.\u001b[0m                                             \u001b]8;id=874333;file:///home/hmacdope/mambaforge/envs/asap_v13/lib/python3.11/site-packages/polaris/dataset/_base.py\u001b\\\u001b[2m_base.py\u001b[0m\u001b]8;;\u001b\\\u001b[2m:\u001b[0m\u001b]8;id=516164;file:///home/hmacdope/mambaforge/envs/asap_v13/lib/python3.11/site-packages/polaris/dataset/_base.py#382\u001b\\\u001b[2m382\u001b[0m\u001b]8;;\u001b\\\n"
      ]
     },
     "metadata": {},
     "output_type": "display_data"
    },
    {
     "data": {
      "text/html": [
       "<pre style=\"white-space:pre;overflow-x:auto;line-height:normal;font-family:Menlo,'DejaVu Sans Mono',consolas,'Courier New',monospace\"><span style=\"color: #7fbfbf; text-decoration-color: #7fbfbf\">[21:22:58] </span><span style=\"color: #008000; text-decoration-color: #008000\"> Success: Copying Zarr keys</span>                                                                <a href=\"file:///home/hmacdope/mambaforge/envs/asap_v13/lib/python3.11/site-packages/polaris/utils/context.py\" target=\"_blank\"><span style=\"color: #7f7f7f; text-decoration-color: #7f7f7f\">context.py</span></a><span style=\"color: #7f7f7f; text-decoration-color: #7f7f7f\">:</span><a href=\"file:///home/hmacdope/mambaforge/envs/asap_v13/lib/python3.11/site-packages/polaris/utils/context.py#53\" target=\"_blank\"><span style=\"color: #7f7f7f; text-decoration-color: #7f7f7f\">53</span></a>\n",
       "</pre>\n"
      ],
      "text/plain": [
       "\u001b[2;36m[21:22:58]\u001b[0m\u001b[2;36m \u001b[0m\u001b[32m Success: Copying Zarr keys\u001b[0m                                                                \u001b]8;id=137649;file:///home/hmacdope/mambaforge/envs/asap_v13/lib/python3.11/site-packages/polaris/utils/context.py\u001b\\\u001b[2mcontext.py\u001b[0m\u001b]8;;\u001b\\\u001b[2m:\u001b[0m\u001b]8;id=393996;file:///home/hmacdope/mambaforge/envs/asap_v13/lib/python3.11/site-packages/polaris/utils/context.py#53\u001b\\\u001b[2m53\u001b[0m\u001b]8;;\u001b\\\n"
      ]
     },
     "metadata": {},
     "output_type": "display_data"
    },
    {
     "data": {
      "text/html": [
       "<pre style=\"white-space:pre;overflow-x:auto;line-height:normal;font-family:Menlo,'DejaVu Sans Mono',consolas,'Courier New',monospace\"><span style=\"color: #7fbfbf; text-decoration-color: #7fbfbf\">           </span><span style=\"color: #008000; text-decoration-color: #008000\"> Success: Copying Zarr archive</span>                                                             <a href=\"file:///home/hmacdope/mambaforge/envs/asap_v13/lib/python3.11/site-packages/polaris/utils/context.py\" target=\"_blank\"><span style=\"color: #7f7f7f; text-decoration-color: #7f7f7f\">context.py</span></a><span style=\"color: #7f7f7f; text-decoration-color: #7f7f7f\">:</span><a href=\"file:///home/hmacdope/mambaforge/envs/asap_v13/lib/python3.11/site-packages/polaris/utils/context.py#53\" target=\"_blank\"><span style=\"color: #7f7f7f; text-decoration-color: #7f7f7f\">53</span></a>\n",
       "</pre>\n"
      ],
      "text/plain": [
       "\u001b[2;36m          \u001b[0m\u001b[2;36m \u001b[0m\u001b[32m Success: Copying Zarr archive\u001b[0m                                                             \u001b]8;id=75007;file:///home/hmacdope/mambaforge/envs/asap_v13/lib/python3.11/site-packages/polaris/utils/context.py\u001b\\\u001b[2mcontext.py\u001b[0m\u001b]8;;\u001b\\\u001b[2m:\u001b[0m\u001b]8;id=503598;file:///home/hmacdope/mambaforge/envs/asap_v13/lib/python3.11/site-packages/polaris/utils/context.py#53\u001b\\\u001b[2m53\u001b[0m\u001b]8;;\u001b\\\n"
      ]
     },
     "metadata": {},
     "output_type": "display_data"
    },
    {
     "data": {
      "text/html": [
       "<pre style=\"white-space:pre;overflow-x:auto;line-height:normal;font-family:Menlo,'DejaVu Sans Mono',consolas,'Courier New',monospace\"></pre>\n"
      ],
      "text/plain": []
     },
     "metadata": {},
     "output_type": "display_data"
    },
    {
     "data": {
      "text/plain": [
       "'/home/hmacdope/.cache/polaris/datasets/5758db23-008b-46c9-a1d8-0c552f449edc'"
      ]
     },
     "execution_count": 2,
     "metadata": {},
     "output_type": "execute_result"
    }
   ],
   "source": [
    "competition.cache()"
   ]
  },
  {
   "cell_type": "code",
   "execution_count": 3,
   "id": "8fc40a53-1f4d-4365-8c2a-23ba023533ca",
   "metadata": {},
   "outputs": [],
   "source": [
    "train, test = competition.get_train_test_split()"
   ]
  },
  {
   "cell_type": "code",
   "execution_count": 4,
   "id": "103b1990-6db1-488d-b518-219ff2f3dca7",
   "metadata": {},
   "outputs": [
    {
     "name": "stderr",
     "output_type": "stream",
     "text": [
      "[21:22:58] Depickling from a version number (16.2)that is higher than our version (16.1).\n",
      "This probably won't work.\n",
      "[21:22:58] Depickling from a version number (16.2)that is higher than our version (16.1).\n",
      "This probably won't work.\n",
      "[21:22:58] Depickling from a version number (16.2)that is higher than our version (16.1).\n",
      "This probably won't work.\n",
      "[21:22:58] Depickling from a version number (16.2)that is higher than our version (16.1).\n",
      "This probably won't work.\n",
      "[21:22:58] Depickling from a version number (16.2)that is higher than our version (16.1).\n",
      "This probably won't work.\n"
     ]
    }
   ],
   "source": [
    "X, y = train[0]"
   ]
  },
  {
   "cell_type": "code",
   "execution_count": 5,
   "id": "7f48af30-de0a-48c2-aa5e-44c6be13f9ea",
   "metadata": {},
   "outputs": [
    {
     "data": {
      "text/plain": [
       "{'Chain A Sequence': 'SGFRKMAFPSGKVEGCMVQVTCGTTTLNGLWLDDVVYCPRHVICTSEDMLNPNYEDLLIRKSNHNFLVQAGNVQLRVIGHSMQNCVLKLKVDTANPKTPKYKFVRIQPGQTFSVLACYNGSPSGVYQCAMRPNFTIKGSFLNGSCGSVGFNIDYDCVSFCYMHHMELPTGVHAGTDLEGNFYGPFVDRQTAQAAGTDTTITVNVLAWLYAAVINGDRWFLNRFTTTLNDFNLVAMKYNYEPLTQDHVDILGPLSAQTGIAVLDMCASLKELLQNGMNGRTILGSALLEDEFTPFDVVRQCSGVT',\n",
       " 'Chain B Sequence': 'SGFRKMAFPSGKVEGCMVQVTCGTTTLNGLWLDDVVYCPRHVICTSEDMLNPNYEDLLIRKSNHNFLVQAGNVQLRVIGHSMQNCVLKLKVDTANPKTPKYKFVRIQPGQTFSVLACYNGSPSGVYQCAMRPNFTIKGSFLNGSCGSVGFNIDYDCVSFCYMHHMELPTGVHAGTDLEGNFYGPFVDRQTAQAAGTDTTITVNVLAWLYAAVINGDRWFLNRFTTTLNDFNLVAMKYNYEPLTQDHVDILGPLSAQTGIAVLDMCASLKELLQNGMNGRTILGSALLEDEFTPFDVVRQCSGVT',\n",
       " 'CXSMILES': 'c1ccc(SCC[NH+]2CCOCC2)cc1',\n",
       " 'Protein Label': 'SARS-CoV-2 Mpro'}"
      ]
     },
     "execution_count": 5,
     "metadata": {},
     "output_type": "execute_result"
    }
   ],
   "source": [
    "X"
   ]
  },
  {
   "cell_type": "code",
   "execution_count": 6,
   "id": "8264f466-a77c-42a1-a1ed-78c24901b663",
   "metadata": {},
   "outputs": [
    {
     "data": {
      "image/png": "[encoded data removed]",
      "text/plain": [
       "<rdkit.Chem.rdchem.Mol at 0x163d5e160>"
      ]
     },
     "execution_count": 6,
     "metadata": {},
     "output_type": "execute_result"
    }
   ],
   "source": [
    "y"
   ]
  },
  {
   "cell_type": "markdown",
   "id": "5917f420-7e31-413c-86bb-de6ba4c66a96",
   "metadata": {},
   "source": [
    "## Extra data\n",
    "\n",
    "The dataset of the competition provides additional data you could use for the development of your model. You're free to use other publicly available data to develop your method."
   ]
  },
  {
   "cell_type": "code",
   "execution_count": 7,
   "id": "29c89d01-00a7-40bb-ac05-5902255b2f12",
   "metadata": {},
   "outputs": [
    {
     "data": {
      "text/plain": [
       "dict_keys(['CXSMILES', 'Chain A Sequence', 'Chain B Sequence', 'Complex Structure', 'Ligand Pose', 'Protein Label', 'Protein Structure'])"
      ]
     },
     "execution_count": 7,
     "metadata": {},
     "output_type": "execute_result"
    }
   ],
   "source": [
    "# Get a single data point\n",
    "datapoint = competition[0]\n",
    "\n",
    "# See the data that's available\n",
    "datapoint.keys()"
   ]
  },
  {
   "cell_type": "markdown",
   "id": "89c71ffc-bc64-47b0-b72a-e8957e1ba639",
   "metadata": {},
   "source": [
    "### The data structures\n",
    "\n",
    "Polaris hosts ML-ready datasets. You don't have to worry about loading domain-specific file formats, but can just start hacking right away.\n",
    "\n",
    "For example, to get the 3D coordinates of the complex, you can simply do:"
   ]
  },
  {
   "cell_type": "code",
   "execution_count": 8,
   "id": "bf451da6-ff6c-4c87-8d79-9eaff07bc0c9",
   "metadata": {},
   "outputs": [
    {
     "data": {
      "text/plain": [
       "array([[ -2.395,   4.215, -17.097],\n",
       "       [ -1.977,   5.504, -16.496],\n",
       "       [ -2.341,   5.543, -15.01 ],\n",
       "       ...,\n",
       "       [ 21.061,  -8.835,   7.04 ],\n",
       "       [ 22.269, -10.73 ,   6.01 ],\n",
       "       [ 28.088, -10.911,   5.35 ]], dtype=float32)"
      ]
     },
     "execution_count": 8,
     "metadata": {},
     "output_type": "execute_result"
    }
   ],
   "source": [
    "datapoint[\"Complex Structure\"].coord"
   ]
  },
  {
   "cell_type": "markdown",
   "id": "4e98635e-100d-43e5-b4e5-48b8a0c22b83",
   "metadata": {},
   "source": [
    "Want to find the corresponding atom labels? You can do:"
   ]
  },
  {
   "cell_type": "code",
   "execution_count": 9,
   "id": "da2cae15-6d64-4924-82ac-798a992f3d9d",
   "metadata": {},
   "outputs": [
    {
     "data": {
      "text/plain": [
       "array(['N', 'CA', 'C', ..., 'H', 'H', 'H'], dtype='<U6')"
      ]
     },
     "execution_count": 9,
     "metadata": {},
     "output_type": "execute_result"
    }
   ],
   "source": [
    "datapoint[\"Complex Structure\"].atom_name"
   ]
  },
  {
   "cell_type": "markdown",
   "id": "69bee0cb-cd9a-42cc-b389-f6903efc3390",
   "metadata": {},
   "source": [
    "What about the chain ids?"
   ]
  },
  {
   "cell_type": "code",
   "execution_count": 10,
   "id": "27ec63ba-f1ed-4529-b587-dba4308e70e7",
   "metadata": {},
   "outputs": [
    {
     "data": {
      "text/plain": [
       "array(['A', 'A', 'A', ..., '', '', ''], dtype='<U4')"
      ]
     },
     "execution_count": 10,
     "metadata": {},
     "output_type": "execute_result"
    }
   ],
   "source": [
    "datapoint[\"Complex Structure\"].chain_id"
   ]
  },
  {
   "cell_type": "markdown",
   "id": "d6ecb956-7454-4725-8d1b-90d77a31f7a2",
   "metadata": {},
   "source": [
    "Polaris provides easy to use data structures for ML. In the case of this challenge, we specifically have two data types that are worth mentioning:\n",
    "- The [Biotite](https://www.biotite-python.org/) `AtomArray`\n",
    "- The [RDKit](https://www.rdkit.org/) `Chem.Mol`"
   ]
  },
  {
   "cell_type": "code",
   "execution_count": 11,
   "id": "2da56def-f8e0-4065-a27a-fbfb006a9bba",
   "metadata": {},
   "outputs": [
    {
     "data": {
      "text/plain": [
       "(biotite.structure.AtomArray, biotite.structure.AtomArray)"
      ]
     },
     "execution_count": 11,
     "metadata": {},
     "output_type": "execute_result"
    }
   ],
   "source": [
    "type(datapoint[\"Complex Structure\"]), type(datapoint[\"Protein Structure\"])"
   ]
  },
  {
   "cell_type": "code",
   "execution_count": 12,
   "id": "c6bdd0bd-3c19-4acb-9024-d1931b56a8f7",
   "metadata": {},
   "outputs": [
    {
     "data": {
      "text/plain": [
       "rdkit.Chem.rdchem.Mol"
      ]
     },
     "execution_count": 12,
     "metadata": {},
     "output_type": "execute_result"
    }
   ],
   "source": [
    "type(datapoint[\"Ligand Pose\"])"
   ]
  },
  {
   "cell_type": "markdown",
   "id": "122cfd56-8938-4dec-b3e5-c53a0e581a84",
   "metadata": {},
   "source": [
    "While this is convenient for many ML applications, you may prefer to use more traditional formats (e.g. as input to traditional docking tools). No problem!"
   ]
  },
  {
   "cell_type": "code",
   "execution_count": 13,
   "id": "c79f2b08-9189-4c33-945b-ba679e2ad68c",
   "metadata": {},
   "outputs": [],
   "source": [
    "import fastpdb\n",
    "import datamol as dm\n",
    "\n",
    "from tempfile import TemporaryDirectory\n",
    "from pathlib import Path\n",
    "\n",
    "\n",
    "with TemporaryDirectory() as tmpdir: \n",
    "\n",
    "    tmpdir = Path(tmpdir)\n",
    "    \n",
    "    # The RDKit Mol object supports various IO formats. \n",
    "    # Here we use the Datamol library (which wraps RDKit) to effortlessly write to SDF\n",
    "    dm.to_sdf(datapoint[\"Ligand Pose\"], tmpdir / \"mol.sdf\")\n",
    "\n",
    "    # Similarly, the Biotite AtomArray also support various IO formats\n",
    "    # Here we use fastpdb, a fast drop-in replacement for Biotite IO.\n",
    "    out_file = fastpdb.PDBFile()\n",
    "    out_file.set_structure(datapoint[\"Complex Structure\"])\n",
    "    out_file.write(tmpdir / \"complex.pdb\")"
   ]
  },
  {
   "cell_type": "markdown",
   "id": "b947c513-aced-4b1c-85ec-89135c9fb80a",
   "metadata": {},
   "source": [
    "### Raw data dump\n",
    "We've decided to sacrifice the completeness of the scientific data to improve its ease of use. For those that are interested, you can also access the raw data dump that this dataset has been created from."
   ]
  },
  {
   "cell_type": "code",
   "execution_count": 14,
   "id": "4f61acee-c81a-4b17-abe6-4f25cac29a1d",
   "metadata": {},
   "outputs": [],
   "source": [
    "import fsspec\n",
    "import zipfile\n",
    "\n",
    "with fsspec.open(\"https://fs.polarishub.io/2025-01-asap-discovery/raw_data_package.zip\") as fd:\n",
    "    with zipfile.ZipFile(fd, 'r') as zip_ref:\n",
    "        zip_ref.extractall(\"./raw_data_package/\")"
   ]
  },
  {
   "cell_type": "code",
   "execution_count": 15,
   "id": "2a87870f-9f36-456d-a3f3-cb31d41746cb",
   "metadata": {},
   "outputs": [
    {
     "data": {
      "text/plain": [
       "PosixPath('raw_data_package/ligand-posing/SARS-CoV-2_Mpro-x0398_0A_CONFIDENTIAL')"
      ]
     },
     "execution_count": 15,
     "metadata": {},
     "output_type": "execute_result"
    }
   ],
   "source": [
    "path = Path(\"./raw_data_package\") / \"ligand-posing\"\n",
    "subdir = list(path.iterdir())[0]\n",
    "subdir"
   ]
  },
  {
   "cell_type": "code",
   "execution_count": 16,
   "id": "94ccce1f-3c59-4135-a276-16263ec8df65",
   "metadata": {},
   "outputs": [
    {
     "data": {
      "text/plain": [
       "[PosixPath('raw_data_package/ligand-posing/SARS-CoV-2_Mpro-x0398_0A_CONFIDENTIAL/protein.fasta'),\n",
       " PosixPath('raw_data_package/ligand-posing/SARS-CoV-2_Mpro-x0398_0A_CONFIDENTIAL/ligand.smi'),\n",
       " PosixPath('raw_data_package/ligand-posing/SARS-CoV-2_Mpro-x0398_0A_CONFIDENTIAL/ligand.sdf'),\n",
       " PosixPath('raw_data_package/ligand-posing/SARS-CoV-2_Mpro-x0398_0A_CONFIDENTIAL/complex.pdb'),\n",
       " PosixPath('raw_data_package/ligand-posing/SARS-CoV-2_Mpro-x0398_0A_CONFIDENTIAL/protein.pdb')]"
      ]
     },
     "execution_count": 16,
     "metadata": {},
     "output_type": "execute_result"
    }
   ],
   "source": [
    "list(subdir.iterdir())"
   ]
  },
  {
   "cell_type": "markdown",
   "id": "7f4d72cd-faef-4285-a7e1-fef4bf1284d8",
   "metadata": {},
   "source": [
    "# Build a model\n",
    "Building a ligand pose prediction model is non trivial (e.g. see [Boltz-1](https://github.com/jwohlwend/boltz)) and outside the scope of this notebook.\n",
    "\n",
    "# Prepare your inputs\n",
    "Since building a ligand pose prediction model is out of scope, we'll simply generate a conformer using RDKit for the sake of simplicitly. This just serves as a way to show how to prepare your inputs for submission."
   ]
  },
  {
   "cell_type": "code",
   "execution_count": 17,
   "id": "545094e0-1d59-46ba-9af6-3d2051b4cf6d",
   "metadata": {},
   "outputs": [
    {
     "name": "stderr",
     "output_type": "stream",
     "text": [
      "100%|███████████████████████████████████████████████████████████████████████| 195/195 [00:11<00:00, 17.25it/s]\n"
     ]
    }
   ],
   "source": [
    "import datamol as dm\n",
    "import numpy as np\n",
    "\n",
    "from tqdm import tqdm\n",
    "\n",
    "y_pred = []\n",
    "\n",
    "for x in tqdm(test): \n",
    "\n",
    "    # Generate a random conformer\n",
    "    mol = dm.to_mol(x[\"CXSMILES\"])\n",
    "    mol = dm.conformers.generate(mol, n_confs=1)\n",
    "\n",
    "    # That's our prediction\n",
    "    y_pred.append(mol)"
   ]
  },
  {
   "cell_type": "markdown",
   "id": "eb804646-f8a7-4e3d-a90b-08d6dcacba61",
   "metadata": {},
   "source": [
    "## Alignment\n",
    "\n",
    "We will evaluate your predictions using RMSD between the predicted and actual pose. This raises a problem: You could have the perfect pose, but rotated, scaled, or translated. To allow for a fair comparison, everyone is therefore required to align their pose predictions ahead of submission with a reference structure that we provide.\n",
    "\n",
    "Let's start by downloading the reference structures!\n",
    "\n",
    "\n",
    "**WARNING:  UNLESS YOU CORRECTLYALIGN YOUR PREDICTIONS WILL NOT BE ABLE TO BE JUDGED CORRECTLY, PLEASE READ THE ALIGNMENT SECTIONS BELOW CAREFULLY**\n",
    "\n"
   ]
  },
  {
   "cell_type": "code",
   "execution_count": 18,
   "id": "9c29d582-8168-44aa-83ed-ff8139cd4270",
   "metadata": {},
   "outputs": [],
   "source": [
    "import zipfile\n",
    "\n",
    "with fsspec.open(\"https://fs.polarishub.io/2025-01-asap-discovery/ligand_poses_reference_structures.zip\") as fd:\n",
    "    with zipfile.ZipFile(fd, 'r') as zip_ref:\n",
    "        zip_ref.extractall(\"./reference_structures/\")"
   ]
  },
  {
   "cell_type": "code",
   "execution_count": 19,
   "id": "d882feb5-10f6-478b-b4e9-537f27dd24ac",
   "metadata": {},
   "outputs": [
    {
     "data": {
      "text/plain": [
       "[PosixPath('reference_structures/MERS-CoV-Mpro'),\n",
       " PosixPath('reference_structures/__MACOSX'),\n",
       " PosixPath('reference_structures/SARS-CoV-2-Mpro')]"
      ]
     },
     "execution_count": 19,
     "metadata": {},
     "output_type": "execute_result"
    }
   ],
   "source": [
    "path = Path(\"./reference_structures\")\n",
    "list(path.iterdir())"
   ]
  },
  {
   "cell_type": "markdown",
   "id": "c6fdb8d5-51a8-4d4d-b86c-4262058473a6",
   "metadata": {},
   "source": [
    "We provide more information than just the protein structure"
   ]
  },
  {
   "cell_type": "code",
   "execution_count": 20,
   "id": "92f1755d-e969-4b29-bd01-068b6c39ae0e",
   "metadata": {},
   "outputs": [
    {
     "data": {
      "text/plain": [
       "[PosixPath('reference_structures/SARS-CoV-2-Mpro/.DS_Store'),\n",
       " PosixPath('reference_structures/SARS-CoV-2-Mpro/protein.fasta'),\n",
       " PosixPath('reference_structures/SARS-CoV-2-Mpro/ligand.smi'),\n",
       " PosixPath('reference_structures/SARS-CoV-2-Mpro/ligand.sdf'),\n",
       " PosixPath('reference_structures/SARS-CoV-2-Mpro/complex.pdb'),\n",
       " PosixPath('reference_structures/SARS-CoV-2-Mpro/protein.pdb')]"
      ]
     },
     "execution_count": 20,
     "metadata": {},
     "output_type": "execute_result"
    }
   ],
   "source": [
    "list((path / \"SARS-CoV-2-Mpro\").iterdir())"
   ]
  },
  {
   "cell_type": "markdown",
   "id": "3baf93a1-88cb-4380-a171-5b6bdaf40f0d",
   "metadata": {},
   "source": [
    "#### Dummy example\n",
    "To show how to do the alignment, let's work through a dummy example by aligning the reference structure with a corrupted version of itself.\n",
    "\n",
    "We will use PyMol. "
   ]
  },
  {
   "cell_type": "code",
   "execution_count": 21,
   "id": "f8af3bcc-4362-42fd-95a5-0e79ad52ab5d",
   "metadata": {},
   "outputs": [
    {
     "data": {
      "text/plain": [
       "30.15460205078125"
      ]
     },
     "execution_count": 21,
     "metadata": {},
     "output_type": "execute_result"
    }
   ],
   "source": [
    "import pymol\n",
    "\n",
    "# Let's reset! Just to be sure.\n",
    "pymol.cmd.delete(\"all\")\n",
    "\n",
    "# Load the reference and mobile structure\n",
    "ref_path = path / \"SARS-CoV-2-Mpro\" / \"complex.pdb\"\n",
    "pymol.cmd.load(ref_path, \"mobile\")\n",
    "pymol.cmd.load(ref_path, \"reference\")\n",
    "\n",
    "# Corrupt the mobile protein\n",
    "pymol.cmd.rotate(\"x\", 90, selection=\"mobile\")\n",
    "\n",
    "# Compute the RMSD\n",
    "pymol.cmd.rms_cur(\"mobile\", \"reference\")"
   ]
  },
  {
   "cell_type": "markdown",
   "id": "16512e54-60b4-4294-9325-7d80605d8859",
   "metadata": {},
   "source": [
    "As expected, the alignment between the proteins is horrible!"
   ]
  },
  {
   "cell_type": "code",
   "execution_count": 22,
   "id": "96721783-152a-4b9a-9b74-f62461d27951",
   "metadata": {},
   "outputs": [
    {
     "name": "stdout",
     "output_type": "stream",
     "text": [
      " Match: read scoring matrix.\n",
      " Match: assigning 603 x 603 pairwise scores.\n",
      " MatchAlign: aligning residues (603 vs 603)...\n",
      " MatchAlign: score 3245.000\n",
      " ExecutiveAlign: 603 atoms aligned.\n",
      " Executive: RMSD =    0.000 (603 to 603 atoms)\n"
     ]
    }
   ],
   "source": [
    "# Now let's align our proteins again using PyMol\n",
    "pymol.cmd.align(\n",
    "    \"polymer and name CA and mobile\",\n",
    "    \"polymer and name CA and reference\",\n",
    "    quiet=0,\n",
    ");"
   ]
  },
  {
   "cell_type": "markdown",
   "id": "4b177983-72c5-4755-b5b5-86e348788813",
   "metadata": {},
   "source": [
    "And the RMSD is 0 again!\n"
   ]
  },
  {
   "cell_type": "markdown",
   "id": "c8e6faac-6345-43a2-b81c-5ba5a275ffc0",
   "metadata": {},
   "source": [
    "## Alignment: Making it more concrete\n",
    "\n",
    "\n",
    "We will now show an example of how to more concretely align your predictions to the reference structures. \n",
    "\n",
    "**IMPORTANT: you must submit your predictions in the same order that they are presented in the test set from polaris**\n",
    "\n",
    "Additionally, As each example in the test set belongs to **either the SARS-CoV-2 Mpro or MERS-CoV Mpro** we need to make sure we align to the correct protein. \n",
    "\n",
    "**There are lots of ways to do this, here we present a method that has worked well for us (ASAP)** "
   ]
  },
  {
   "cell_type": "code",
   "execution_count": 26,
   "id": "1bdb3d38-ec1f-43bd-9d92-89432c034ad9",
   "metadata": {},
   "outputs": [
    {
     "name": "stdout",
     "output_type": "stream",
     "text": [
      "MERS-CoV Mpro\n"
     ]
    }
   ],
   "source": [
    "x0 = test[0]\n",
    "print(x0[\"Protein Label\"])"
   ]
  },
  {
   "cell_type": "code",
   "execution_count": 25,
   "id": "793b2aeb-62ef-4988-9152-0b9b4111080f",
   "metadata": {},
   "outputs": [
    {
     "name": "stdout",
     "output_type": "stream",
     "text": [
      "SARS-CoV-2 Mpro\n"
     ]
    }
   ],
   "source": [
    "x2 = test[2]\n",
    "print(x2[\"Protein Label\"])"
   ]
  },
  {
   "cell_type": "markdown",
   "id": "08b20c80-6b2a-423a-a27c-0bcba4d50613",
   "metadata": {},
   "source": [
    "Assuming we have PDB files of our predictions available on disk as `my_preds` (there are lots of ways to do this so please choose method appropriate for you)"
   ]
  },
  {
   "cell_type": "code",
   "execution_count": 23,
   "id": "cfbfa098-027d-4fd0-a064-23509ddf0680",
   "metadata": {},
   "outputs": [],
   "source": [
    "# mockup \n",
    "my_preds = [f\"path_to_preds/{i}\" for i in range(len(test))]\n",
    "protein_labels = [x[\"Protein Label\"] for x in test]"
   ]
  },
  {
   "cell_type": "markdown",
   "id": "794284fb-2352-471c-839a-8a0d9bad465d",
   "metadata": {},
   "source": [
    "You need to use the reference complexes available in the full data package to align to, edit these paths as required"
   ]
  },
  {
   "cell_type": "code",
   "execution_count": 34,
   "id": "b71a9c1a-7a8f-47b3-85ab-760469446d9d",
   "metadata": {},
   "outputs": [],
   "source": [
    "import pymol\n",
    "def align_pred(protein_path, protein_label, index):\n",
    "    pymol.cmd.delete(\"all\")\n",
    "    if protein_label == 'MERS-CoV Mpro':\n",
    "        tag = \"MERS\"\n",
    "        ref_path = \"./ligand-posing/ALIGNMENT_REFERENCES/MERS-CoV-Mpro/reference_structure/complex.pdb\"\n",
    "    elif protein_label == \"SARS-CoV-2 Mpro\":\n",
    "        tag = \"SARS\"\n",
    "        ref_path = \"./ligand-posing/ALIGNMENT_REFERENCES/SARS-CoV-2-Mpro/reference_structure/complex.pdb\"\n",
    "    else:\n",
    "        raise Exception\n",
    "    pymol.cmd.load(protein_path, \"mobile\")\n",
    "    pymol.cmd.load(ref_path, \"reference\")\n",
    "    pymol.cmd.align(\n",
    "        \"chain A and mobile\",\n",
    "        \"chain A and reference\",\n",
    "    )\n",
    "    ret_path = f\"my_preds_aligned_{index}.pdb\"\n",
    "    ret_path_pse = f\"my_preds_aligned_{index}.pse\"\n",
    "    pymol.cmd.save(ret_path_pse)\n",
    "    pymol.cmd.save(ret_path, \"mobile\")\n",
    "    return ret_path"
   ]
  },
  {
   "cell_type": "markdown",
   "id": "ab3b77b0-2c09-4d25-bdfd-e9ee1bede526",
   "metadata": {},
   "source": [
    "to then call this you would do something like "
   ]
  },
  {
   "cell_type": "code",
   "execution_count": null,
   "id": "0e0439c3-4c7b-43a8-994d-e62edd2480d6",
   "metadata": {},
   "outputs": [],
   "source": [
    "for i, (pred, label) in enumerate(zip(my_preds, protein_labels)):\n",
    "    print(f\"aligning index: {i}, pred: {pred}, label: {label}\")\n",
    "    aligned_path = align_pred(pred, label, i)"
   ]
  },
  {
   "cell_type": "markdown",
   "id": "79c627f0-2092-4670-b639-d3c9518ba832",
   "metadata": {},
   "source": [
    "You can then inspect the aligned PDBs and saved pymol session files to see if the alignment looks good. **PLEASE CONFIRM THAT YOU ARE HAPPY WITH THE ALIGNMENT BEFORE SUBMITTING**"
   ]
  },
  {
   "cell_type": "markdown",
   "id": "870fb033-15c2-4a76-aa14-93fbc7cd646e",
   "metadata": {},
   "source": [
    "## Towards submission"
   ]
  },
  {
   "cell_type": "markdown",
   "id": "40bcdda6-d780-442d-8f70-e859f5347af9",
   "metadata": {},
   "source": [
    "## Serialize\n",
    "\n",
    "We only judge the position of the ligand molecule. As such you need to either extract it or provide it as an rdkit mol already **after alignment to the reference structure\n",
    "\n",
    "To submit to Polaris, you need to serialize the molecules to a bytestring. Please stick to the exact below example."
   ]
  },
  {
   "cell_type": "code",
   "execution_count": 23,
   "id": "e3d8f1d7-31cd-4949-9a68-4d996e33a6c0",
   "metadata": {},
   "outputs": [],
   "source": [
    "import base64\n",
    "from rdkit import Chem\n",
    "\n",
    "\n",
    "def serialize_rdkit_mol(mol: Chem.Mol): \n",
    "    props = Chem.PropertyPickleOptions.AllProps\n",
    "    mol_bytes = mol.ToBinary(props)\n",
    "    return base64.b64encode(mol_bytes).decode('ascii')  \n",
    "\n",
    "\n",
    "y_pred_serialized = [serialize_rdkit_mol(mol) for mol in y_pred]"
   ]
  },
  {
   "cell_type": "markdown",
   "id": "c69f421e-911f-4229-a833-58f738101f3b",
   "metadata": {},
   "source": [
    "#### Sanity check\n",
    "Let's deserialize the molecule again to make sure we've done this correctly"
   ]
  },
  {
   "cell_type": "code",
   "execution_count": 24,
   "id": "0b5e064c-7deb-406a-b0de-a12cef4d330a",
   "metadata": {},
   "outputs": [
    {
     "data": {
      "image/png": "[encoded data removed]",
      "text/plain": [
       "<rdkit.Chem.rdchem.Mol at 0x163d447c0>"
      ]
     },
     "execution_count": 24,
     "metadata": {},
     "output_type": "execute_result"
    }
   ],
   "source": [
    "deserialized = Chem.Mol(base64.b64decode(y_pred_serialized[0].encode(\"ascii\")))\n",
    "deserialized"
   ]
  },
  {
   "cell_type": "code",
   "execution_count": 25,
   "id": "c4621850-73e4-4b69-b2a0-0a5cca306a78",
   "metadata": {},
   "outputs": [
    {
     "data": {
      "image/png": "[encoded data removed]",
      "text/plain": [
       "<rdkit.Chem.rdchem.Mol at 0x1645a0660>"
      ]
     },
     "execution_count": 25,
     "metadata": {},
     "output_type": "execute_result"
    }
   ],
   "source": [
    "y_pred[0]"
   ]
  },
  {
   "cell_type": "code",
   "execution_count": 26,
   "id": "0fcda166-1747-47a2-a50a-b8e6b71d5a9b",
   "metadata": {},
   "outputs": [
    {
     "data": {
      "text/plain": [
       "True"
      ]
     },
     "execution_count": 26,
     "metadata": {},
     "output_type": "execute_result"
    }
   ],
   "source": [
    "dm.same_mol(y_pred[0], deserialized)"
   ]
  },
  {
   "cell_type": "markdown",
   "id": "2fb2929f-961f-42ac-b693-b0600fa198a1",
   "metadata": {},
   "source": [
    "# Submit to Polaris"
   ]
  },
  {
   "cell_type": "code",
   "execution_count": 28,
   "id": "2b225605-ff8a-42fb-8ff2-5f929ac036ae",
   "metadata": {},
   "outputs": [
    {
     "name": "stdout",
     "output_type": "stream",
     "text": [
      "✅ SUCCESS: \u001b[1mYour competition predictions have been successfully uploaded to the Hub for evaluation.\u001b[0m\n",
      " \n"
     ]
    }
   ],
   "source": [
    "competition.submit_predictions(\n",
    "    predictions=y_pred_serialized,\n",
    "    prediction_name=\"my-second-predictions\",\n",
    "    prediction_owner=\"cwognum\",\n",
    "    report_url=\"https://www.example.com\", \n",
    "    # The below metadata is optional, but recommended.\n",
    "    github_url=\"https://github.com/polaris-hub/polaris\",\n",
    "    description=\"Just testing the Polaris API here!\",\n",
    "    tags=[\"tutorial\"],\n",
    "    user_attributes={\"Framework\": \"RDKit\", \"Method\": \"Dummy Baseline\"}\n",
    ")"
   ]
  },
  {
   "cell_type": "markdown",
   "id": "3b52c5dc-9921-420c-9dfc-ac0408d38a50",
   "metadata": {},
   "source": [
    "For the ASAP competition, we will only evaluate your latest submission. \n",
    "\n",
    "The results will only be disclosed after the competition ends."
   ]
  },
  {
   "cell_type": "markdown",
   "id": "1f77ead1-89ba-4b49-b522-0b39afa48ae1",
   "metadata": {},
   "source": [
    "The End."
   ]
  }
 ],
 "metadata": {
  "kernelspec": {
   "display_name": "Python 3 (ipykernel)",
   "language": "python",
   "name": "python3"
  },
  "language_info": {
   "codemirror_mode": {
    "name": "ipython",
    "version": 3
   },
   "file_extension": ".py",
   "mimetype": "text/x-python",
   "name": "python",
   "nbconvert_exporter": "python",
   "pygments_lexer": "ipython3",
   "version": "3.11.11"
  }
 },
 "nbformat": 4,
 "nbformat_minor": 5
}
